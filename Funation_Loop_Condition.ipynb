{
  "nbformat": 4,
  "nbformat_minor": 0,
  "metadata": {
    "colab": {
      "name": "Funation_Loop_Condition.ipynb",
      "provenance": [],
      "include_colab_link": true
    },
    "kernelspec": {
      "name": "python3",
      "display_name": "Python 3"
    }
  },
  "cells": [
    {
      "cell_type": "markdown",
      "metadata": {
        "id": "view-in-github",
        "colab_type": "text"
      },
      "source": [
        "<a href=\"https://colab.research.google.com/github/jiriyaporn/data_viz/blob/main/Funation_Loop_Condition.ipynb\" target=\"_parent\"><img src=\"https://colab.research.google.com/assets/colab-badge.svg\" alt=\"Open In Colab\"/></a>"
      ]
    },
    {
      "cell_type": "markdown",
      "metadata": {
        "id": "-WjF5_VegsNS"
      },
      "source": [
        "###Function"
      ]
    },
    {
      "cell_type": "markdown",
      "metadata": {
        "id": "GmUlBL21gxB4"
      },
      "source": [
        "## Function template\r\n",
        "\r\n",
        "### ทำหน้าทที่รับ input มาประมาณผลออกมาเป็น output\r\n",
        "\r\n",
        "### f(x) = y"
      ]
    },
    {
      "cell_type": "markdown",
      "metadata": {
        "id": "UsA9ADg1hHtx"
      },
      "source": [
        "## def คือการกำหนดฟังก์ชัน"
      ]
    },
    {
      "cell_type": "markdown",
      "metadata": {
        "id": "On8DbqRWidUY"
      },
      "source": [
        "``` python\r\n",
        "def function_name(_Input_) : \r\n",
        "    do_somthing with _Input_ to get _Output_\r\n",
        "    reture _Output_\r\n",
        "``` \r\n",
        "back tick กดค้าง ````````````` กด ~ alt 9 > 6 (full keyboard with number)\r\n",
        "tilde ~\r\n",
        "curly bracket {}\r\n",
        "squar bracket []\r\n"
      ]
    },
    {
      "cell_type": "markdown",
      "metadata": {
        "id": "f0TW_CEiiSPi"
      },
      "source": [
        ""
      ]
    },
    {
      "cell_type": "code",
      "metadata": {
        "id": "zGHOi_H1kbLA"
      },
      "source": [
        "def print_name (name , surname , ID ) : \r\n",
        "  st = f' ชื่อ {name} นามสกุล {surname} รหัส {ID}'\r\n",
        "  return st \r\n",
        "    \r\n"
      ],
      "execution_count": null,
      "outputs": []
    },
    {
      "cell_type": "code",
      "metadata": {
        "colab": {
          "base_uri": "https://localhost:8080/",
          "height": 35
        },
        "id": "suTGEtF1lFP0",
        "outputId": "602f6c83-2fe4-4a24-dc89-bd6e1910d5de"
      },
      "source": [
        "print_name('จิริยาพร' , '6130205461' , 'ธิมาพร')"
      ],
      "execution_count": null,
      "outputs": [
        {
          "output_type": "execute_result",
          "data": {
            "application/vnd.google.colaboratory.intrinsic+json": {
              "type": "string"
            },
            "text/plain": [
              "' ชื่อ จิริยาพร นามสกุล 6130205461 รหัส ธิมาพร'"
            ]
          },
          "metadata": {
            "tags": []
          },
          "execution_count": 15
        }
      ]
    },
    {
      "cell_type": "code",
      "metadata": {
        "id": "0SLFr-_0lghi"
      },
      "source": [
        ""
      ],
      "execution_count": null,
      "outputs": []
    },
    {
      "cell_type": "markdown",
      "metadata": {
        "id": "49xzRpTel8gS"
      },
      "source": [
        "funation มีส่วนสำคัญ 4 ส่วน\r\n",
        "1. บอก python ว่าเราจะเขียนฟังก์ชัน ชื่ออะไร ````def function_name() :``` (ขาดไม่ได้)\r\n",
        "2. กำหนดตัวแปรที่จะเป็น input ``` _Input_```(ขาดได้)\r\n",
        "3. ส่วนประมวลผล  ```do_something with _Input_ to get _Output_``` ()\r\n",
        "4. ส่วน output return _Output_ (ขาดได้)"
      ]
    },
    {
      "cell_type": "markdown",
      "metadata": {
        "id": "O7nExXHqkNfY"
      },
      "source": [
        "## ตัวอย่างการเขียน normal function"
      ]
    },
    {
      "cell_type": "code",
      "metadata": {
        "id": "0yrupHmYoITL"
      },
      "source": [
        ""
      ],
      "execution_count": null,
      "outputs": []
    },
    {
      "cell_type": "code",
      "metadata": {
        "colab": {
          "base_uri": "https://localhost:8080/",
          "height": 130
        },
        "id": "Gl-PRBFpoglp",
        "outputId": "d94d6da3-a8ff-4774-9247-a186422d6c46"
      },
      "source": [
        "def print_name(surname,ID,name) :\r\n",
        "    st =  f'ชื่อ {name} นามสกุล {surname} รหัส {ID}' \r\n",
        "  return st"
      ],
      "execution_count": null,
      "outputs": [
        {
          "output_type": "error",
          "ename": "IndentationError",
          "evalue": "ignored",
          "traceback": [
            "\u001b[0;36m  File \u001b[0;32m\"<ipython-input-20-785eb25352da>\"\u001b[0;36m, line \u001b[0;32m3\u001b[0m\n\u001b[0;31m    return st\u001b[0m\n\u001b[0m             ^\u001b[0m\n\u001b[0;31mIndentationError\u001b[0m\u001b[0;31m:\u001b[0m unindent does not match any outer indentation level\n"
          ]
        }
      ]
    },
    {
      "cell_type": "code",
      "metadata": {
        "id": "gX0tQY9BohXf"
      },
      "source": [
        ""
      ],
      "execution_count": null,
      "outputs": []
    },
    {
      "cell_type": "code",
      "metadata": {
        "colab": {
          "base_uri": "https://localhost:8080/",
          "height": 35
        },
        "id": "aZNvKb8hou_H",
        "outputId": "0dfb6abb-fcc6-49bf-d9bb-227bce14fec1"
      },
      "source": [
        "print_name('jiriyaporn' , '6130205461' , 'janthamat')"
      ],
      "execution_count": null,
      "outputs": [
        {
          "output_type": "execute_result",
          "data": {
            "application/vnd.google.colaboratory.intrinsic+json": {
              "type": "string"
            },
            "text/plain": [
              "' ชื่อ jiriyaporn นามสกุล 6130205461 รหัส janthamat'"
            ]
          },
          "metadata": {
            "tags": []
          },
          "execution_count": 21
        }
      ]
    },
    {
      "cell_type": "markdown",
      "metadata": {
        "id": "K94a2tl3por_"
      },
      "source": [
        "เราใช้เว้นวรรค indent เพื่อบอกขอบเขตของโปรแกรม"
      ]
    },
    {
      "cell_type": "markdown",
      "metadata": {
        "id": "xJApxoRDp0le"
      },
      "source": [
        "ฟังก์ชันนไม่จำเป็นต้องมี output"
      ]
    },
    {
      "cell_type": "code",
      "metadata": {
        "id": "yMwgaPDgpAp4"
      },
      "source": [
        "def print_name2(surname,ID,name) :\r\n",
        "    st = f' ชื่อ {name} นามสกุล {surname} รหัส {ID} '\r\n",
        "    print(st)"
      ],
      "execution_count": null,
      "outputs": []
    },
    {
      "cell_type": "code",
      "metadata": {
        "colab": {
          "base_uri": "https://localhost:8080/"
        },
        "id": "XoHSdWOtpi7e",
        "outputId": "3fb7ab09-76b3-4eb3-9bd2-ce38e5cc8556"
      },
      "source": [
        "print_name2('jiriyaporn' ,  '6130205461' , 'janthamat')"
      ],
      "execution_count": null,
      "outputs": [
        {
          "output_type": "stream",
          "text": [
            " ชื่อ janthamat นามสกุล jiriyaporn รหัส 6130205461 \n"
          ],
          "name": "stdout"
        }
      ]
    },
    {
      "cell_type": "code",
      "metadata": {
        "id": "c_wRg64Lpxil"
      },
      "source": [
        ""
      ],
      "execution_count": null,
      "outputs": []
    },
    {
      "cell_type": "markdown",
      "metadata": {
        "id": "nn4MblOtqZ9n"
      },
      "source": [
        "ฟังก์ชันไม่จำเป็นต้องมี input"
      ]
    },
    {
      "cell_type": "code",
      "metadata": {
        "id": "2ebEckNAqihr"
      },
      "source": [
        "def pi () :\r\n",
        "    return 3.141592653"
      ],
      "execution_count": null,
      "outputs": []
    },
    {
      "cell_type": "code",
      "metadata": {
        "colab": {
          "base_uri": "https://localhost:8080/"
        },
        "id": "yKPxHYH0qxG1",
        "outputId": "170e603c-1ba9-4e8a-d97b-9483b9afcff8"
      },
      "source": [
        "pi()*(2**2) # หาพื้นที่ของววงกลมที่มีรัศมีเท่ากับ pi * r^2"
      ],
      "execution_count": null,
      "outputs": [
        {
          "output_type": "execute_result",
          "data": {
            "text/plain": [
              "12.56637061436"
            ]
          },
          "metadata": {
            "tags": []
          },
          "execution_count": 28
        }
      ]
    },
    {
      "cell_type": "code",
      "metadata": {
        "id": "HWFZtLRJq0Rh"
      },
      "source": [
        ""
      ],
      "execution_count": null,
      "outputs": []
    },
    {
      "cell_type": "markdown",
      "metadata": {
        "id": "IQ_vdobQrWsP"
      },
      "source": [
        "เราสามารถกำหนดค่า default ให้กับฟังก์ชันได้"
      ]
    },
    {
      "cell_type": "code",
      "metadata": {
        "id": "_4p6adomrd83"
      },
      "source": [
        "def print_2lines_default(name,surname,ID,grade='F' ) :\r\n",
        "    st = f' ชื่อ {name} นามสกุล {surname} รหัส {ID}'\r\n",
        "    print (st)\r\n",
        "    st2=f' เกรดวิชา Data Viz >>> {grade} '\r\n",
        "    print(st2)"
      ],
      "execution_count": null,
      "outputs": []
    },
    {
      "cell_type": "code",
      "metadata": {
        "colab": {
          "base_uri": "https://localhost:8080/"
        },
        "id": "mwcgRJpqsqra",
        "outputId": "02746933-76be-4ac5-b1b3-95cb794b2220"
      },
      "source": [
        "print_2lines_default( 'จิริยาพร' , 'จันทะมาตย์' , '6130205461' )"
      ],
      "execution_count": null,
      "outputs": [
        {
          "output_type": "stream",
          "text": [
            " ชื่อ จิริยาพร นามสกุล จันทะมาตย์ รหัส 6130205461\n",
            " เกรดวิชา Data Viz >>> F \n"
          ],
          "name": "stdout"
        }
      ]
    },
    {
      "cell_type": "code",
      "metadata": {
        "id": "gGfauAmCs96g"
      },
      "source": [
        ""
      ],
      "execution_count": null,
      "outputs": []
    },
    {
      "cell_type": "markdown",
      "metadata": {
        "id": "jh1k_dkB0qZV"
      },
      "source": [
        "### วนซ้ำ Loop"
      ]
    },
    {
      "cell_type": "code",
      "metadata": {
        "id": "7xZn-kuI0uaQ"
      },
      "source": [
        ""
      ],
      "execution_count": null,
      "outputs": []
    },
    {
      "cell_type": "markdown",
      "metadata": {
        "id": "F9xaLqFX0v5m"
      },
      "source": [
        "for เป็นค่าที่ใช้บอก python ว่าเรากำลังเขียน loop โดยที่ for จะดึงสมาชิกจาก list "
      ]
    },
    {
      "cell_type": "code",
      "metadata": {
        "id": "xbOAIR3Y1Cd-"
      },
      "source": [
        ""
      ],
      "execution_count": null,
      "outputs": []
    },
    {
      "cell_type": "markdown",
      "metadata": {
        "id": "hUbHJ-ey1DGj"
      },
      "source": [
        "#คำสั่ง for คำสั่งวนซ้ำ"
      ]
    },
    {
      "cell_type": "code",
      "metadata": {
        "colab": {
          "base_uri": "https://localhost:8080/"
        },
        "id": "G4SdO8Q-1ImB",
        "outputId": "97d7a34f-9171-416f-b421-9d9d861a7d03"
      },
      "source": [
        "for i in [1,2,3] :\r\n",
        "  print(f'this member = {i} after process = {i**2} ' )"
      ],
      "execution_count": null,
      "outputs": [
        {
          "output_type": "stream",
          "text": [
            "this member = 1 after process = 1 \n",
            "this member = 2 after process = 4 \n",
            "this member = 3 after process = 9 \n"
          ],
          "name": "stdout"
        }
      ]
    },
    {
      "cell_type": "code",
      "metadata": {
        "colab": {
          "base_uri": "https://localhost:8080/"
        },
        "id": "WV3A2Wub1dF2",
        "outputId": "3cfd56d1-80bf-4b24-9c8a-a2a4fc73b05a"
      },
      "source": [
        "for i in [1,2,3] :\r\n",
        "  o = i**2\r\n",
        "  print(f'this member = {i} after process = {o} ' )"
      ],
      "execution_count": null,
      "outputs": [
        {
          "output_type": "stream",
          "text": [
            "this member = 1 after process = 1 \n",
            "this member = 2 after process = 4 \n",
            "this member = 3 after process = 9 \n"
          ],
          "name": "stdout"
        }
      ]
    },
    {
      "cell_type": "code",
      "metadata": {
        "id": "kukxWz3B1pIB"
      },
      "source": [
        ""
      ],
      "execution_count": null,
      "outputs": []
    },
    {
      "cell_type": "markdown",
      "metadata": {
        "id": "boOUzAjP1vzc"
      },
      "source": [
        "ตัวอย่างการใช้คำสั่ง for ในการวนซ้ำค่าของ ร g,njv i คือ 'jiriyaporn'"
      ]
    },
    {
      "cell_type": "code",
      "metadata": {
        "id": "9pW6J5-I2WHC",
        "outputId": "ecf5b21b-300f-4c00-c205-e6a5730f7582",
        "colab": {
          "base_uri": "https://localhost:8080/"
        }
      },
      "source": [
        "for i in 'jiriyaporn' :\r\n",
        "  print(f' {i} -> / ' ,end = ' , ' ) #สั่งให้ print แบบไม่เว้นบรรทัด\r\n"
      ],
      "execution_count": 3,
      "outputs": [
        {
          "output_type": "stream",
          "text": [
            " j -> /  ,  i -> /  ,  r -> /  ,  i -> /  ,  y -> /  ,  a -> /  ,  p -> /  ,  o -> /  ,  r -> /  ,  n -> /  , "
          ],
          "name": "stdout"
        }
      ]
    },
    {
      "cell_type": "code",
      "metadata": {
        "id": "wUbiSaDkWCYK"
      },
      "source": [
        ""
      ],
      "execution_count": null,
      "outputs": []
    },
    {
      "cell_type": "markdown",
      "metadata": {
        "id": "LLUC_m5BXOWS"
      },
      "source": [
        "## สร้าง list ตัวเลขแบบอัตโนมัติ range()"
      ]
    },
    {
      "cell_type": "markdown",
      "metadata": {
        "id": "XM6BIcTMXr-g"
      },
      "source": [
        "# ห้ามตั้งชื่อซ้ำกับฟังก์ชัน"
      ]
    },
    {
      "cell_type": "code",
      "metadata": {
        "id": "7ljJbs58XCf4",
        "outputId": "1bf6fe24-21de-4e7e-ec30-9861729914d8",
        "colab": {
          "base_uri": "https://localhost:8080/"
        }
      },
      "source": [
        "range5_output = range(5) \r\n",
        "print(list(range5_output))"
      ],
      "execution_count": 9,
      "outputs": [
        {
          "output_type": "stream",
          "text": [
            "[0, 1, 2, 3, 4]\n"
          ],
          "name": "stdout"
        }
      ]
    },
    {
      "cell_type": "code",
      "metadata": {
        "id": "UFYvOxjOX1bT",
        "outputId": "ba73c572-d8cc-4e60-98ff-857bebdee2a4",
        "colab": {
          "base_uri": "https://localhost:8080/"
        }
      },
      "source": [
        "for i in range(100) :\r\n",
        "  print('งง' ,end=' ')"
      ],
      "execution_count": 10,
      "outputs": [
        {
          "output_type": "stream",
          "text": [
            "งง งง งง งง งง งง งง งง งง งง งง งง งง งง งง งง งง งง งง งง งง งง งง งง งง งง งง งง งง งง งง งง งง งง งง งง งง งง งง งง งง งง งง งง งง งง งง งง งง งง งง งง งง งง งง งง งง งง งง งง งง งง งง งง งง งง งง งง งง งง งง งง งง งง งง งง งง งง งง งง งง งง งง งง งง งง งง งง งง งง งง งง งง งง งง งง งง งง งง งง "
          ],
          "name": "stdout"
        }
      ]
    },
    {
      "cell_type": "code",
      "metadata": {
        "id": "9uNNMhaxYpGm",
        "outputId": "9db1bf35-dd82-4fe7-f084-2bce03ec299f",
        "colab": {
          "base_uri": "https://localhost:8080/"
        }
      },
      "source": [
        "list(range(1,11)) #เริ่มต้นทึบ จบเป็นโปร่ง เหมือน list slicing"
      ],
      "execution_count": 11,
      "outputs": [
        {
          "output_type": "execute_result",
          "data": {
            "text/plain": [
              "[1, 2, 3, 4, 5, 6, 7, 8, 9, 10]"
            ]
          },
          "metadata": {
            "tags": []
          },
          "execution_count": 11
        }
      ]
    },
    {
      "cell_type": "markdown",
      "metadata": {
        "id": "NRL-wAa6ZNjA"
      },
      "source": [
        "# "
      ]
    },
    {
      "cell_type": "code",
      "metadata": {
        "id": "3um5KTWTZAiA",
        "outputId": "48057500-e5fc-4fd9-f50d-18da14a6a7f1",
        "colab": {
          "base_uri": "https://localhost:8080/"
        }
      },
      "source": [
        "list(range(-3,20,4))"
      ],
      "execution_count": 15,
      "outputs": [
        {
          "output_type": "execute_result",
          "data": {
            "text/plain": [
              "[-3, 1, 5, 9, 13, 17]"
            ]
          },
          "metadata": {
            "tags": []
          },
          "execution_count": 15
        }
      ]
    },
    {
      "cell_type": "code",
      "metadata": {
        "id": "J8IoLT7AciZ_"
      },
      "source": [
        ""
      ],
      "execution_count": null,
      "outputs": []
    },
    {
      "cell_type": "markdown",
      "metadata": {
        "id": "lDX3MLcAc9pQ"
      },
      "source": [
        "#loop ซ้อน loop"
      ]
    },
    {
      "cell_type": "code",
      "metadata": {
        "id": "KXNUen4YdEGQ",
        "outputId": "3a1096b1-d05c-4721-c750-ebcb1156fec7",
        "colab": {
          "base_uri": "https://localhost:8080/"
        }
      },
      "source": [
        "for name in range(2,5) : #(2 - 4)\r\n",
        "\r\n",
        "  for name1 in range(1,13) : #(1 - 12)\r\n",
        "    print(name, ' X ' ,name1,  ' = ' ,name*name1)"
      ],
      "execution_count": 25,
      "outputs": [
        {
          "output_type": "stream",
          "text": [
            "2  X  1  =  2\n",
            "2  X  2  =  4\n",
            "2  X  3  =  6\n",
            "2  X  4  =  8\n",
            "2  X  5  =  10\n",
            "2  X  6  =  12\n",
            "2  X  7  =  14\n",
            "2  X  8  =  16\n",
            "2  X  9  =  18\n",
            "2  X  10  =  20\n",
            "2  X  11  =  22\n",
            "2  X  12  =  24\n",
            "3  X  1  =  3\n",
            "3  X  2  =  6\n",
            "3  X  3  =  9\n",
            "3  X  4  =  12\n",
            "3  X  5  =  15\n",
            "3  X  6  =  18\n",
            "3  X  7  =  21\n",
            "3  X  8  =  24\n",
            "3  X  9  =  27\n",
            "3  X  10  =  30\n",
            "3  X  11  =  33\n",
            "3  X  12  =  36\n",
            "4  X  1  =  4\n",
            "4  X  2  =  8\n",
            "4  X  3  =  12\n",
            "4  X  4  =  16\n",
            "4  X  5  =  20\n",
            "4  X  6  =  24\n",
            "4  X  7  =  28\n",
            "4  X  8  =  32\n",
            "4  X  9  =  36\n",
            "4  X  10  =  40\n",
            "4  X  11  =  44\n",
            "4  X  12  =  48\n"
          ],
          "name": "stdout"
        }
      ]
    },
    {
      "cell_type": "code",
      "metadata": {
        "id": "5VETzopFdzXl"
      },
      "source": [
        ""
      ],
      "execution_count": null,
      "outputs": []
    },
    {
      "cell_type": "markdown",
      "metadata": {
        "id": "Z5pURdzVfGCB"
      },
      "source": [
        "#loop in function"
      ]
    },
    {
      "cell_type": "code",
      "metadata": {
        "id": "mOzYPQjQfhPf"
      },
      "source": [
        "def print_feeling(I,friends,feeling = 'miss') :\r\n",
        "  for friend in friends :\r\n",
        "    print(f' {I} {feeling} {friend}' )"
      ],
      "execution_count": 52,
      "outputs": []
    },
    {
      "cell_type": "code",
      "metadata": {
        "id": "uI4AREqwfJPJ"
      },
      "source": [
        "list_friends = [ 'aor' , 'eye' , 'tle' , 'boom' , 'ben' , 'bex' ]"
      ],
      "execution_count": 53,
      "outputs": []
    },
    {
      "cell_type": "code",
      "metadata": {
        "id": "2Y6SW794gWFR",
        "outputId": "e781e1a0-9541-4722-9c14-9e5cd16ae997",
        "colab": {
          "base_uri": "https://localhost:8080/"
        }
      },
      "source": [
        "print_feeling('aor' , list_friends)"
      ],
      "execution_count": 54,
      "outputs": [
        {
          "output_type": "stream",
          "text": [
            " aor miss aor\n",
            " aor miss eye\n",
            " aor miss tle\n",
            " aor miss boom\n",
            " aor miss ben\n",
            " aor miss bex\n"
          ],
          "name": "stdout"
        }
      ]
    },
    {
      "cell_type": "code",
      "metadata": {
        "id": "to3UIMkDg1T6"
      },
      "source": [
        "#condition เงื่อนไข"
      ],
      "execution_count": 55,
      "outputs": []
    },
    {
      "cell_type": "code",
      "metadata": {
        "id": "a1MbA8HulKJa",
        "outputId": "9e3c909e-20a1-4041-8adb-7efe6c112371",
        "colab": {
          "base_uri": "https://localhost:8080/",
          "height": 130
        }
      },
      "source": [
        "  for name1 in list_friends :\r\n",
        "    for name2 in list_friends :\r\n",
        "      if name1 = name2 :\r\n",
        "      print(name1, 'love', name2)\r\n"
      ],
      "execution_count": 66,
      "outputs": [
        {
          "output_type": "error",
          "ename": "SyntaxError",
          "evalue": "ignored",
          "traceback": [
            "\u001b[0;36m  File \u001b[0;32m\"<ipython-input-66-fb4f7460e1c1>\"\u001b[0;36m, line \u001b[0;32m3\u001b[0m\n\u001b[0;31m    if name1 = name2 :\u001b[0m\n\u001b[0m             ^\u001b[0m\n\u001b[0;31mSyntaxError\u001b[0m\u001b[0;31m:\u001b[0m invalid syntax\n"
          ]
        }
      ]
    },
    {
      "cell_type": "markdown",
      "metadata": {
        "id": "49l6jbKYm3xT"
      },
      "source": [
        "==,"
      ]
    },
    {
      "cell_type": "code",
      "metadata": {
        "id": "wsCTK9cvnCOS",
        "outputId": "a251594d-2781-4452-cd4c-41567ea079b9",
        "colab": {
          "base_uri": "https://localhost:8080/"
        }
      },
      "source": [
        "'aor' == 'eye'"
      ],
      "execution_count": 64,
      "outputs": [
        {
          "output_type": "execute_result",
          "data": {
            "text/plain": [
              "False"
            ]
          },
          "metadata": {
            "tags": []
          },
          "execution_count": 64
        }
      ]
    },
    {
      "cell_type": "code",
      "metadata": {
        "id": "VQVfK-nenKNn",
        "outputId": "f0b8f912-460f-47d9-adfe-6c920ac9ed0d",
        "colab": {
          "base_uri": "https://localhost:8080/"
        }
      },
      "source": [
        "'bex' != 'eye'"
      ],
      "execution_count": 65,
      "outputs": [
        {
          "output_type": "execute_result",
          "data": {
            "text/plain": [
              "True"
            ]
          },
          "metadata": {
            "tags": []
          },
          "execution_count": 65
        }
      ]
    },
    {
      "cell_type": "code",
      "metadata": {
        "id": "RDS-V7BGndIb"
      },
      "source": [
        "if False :\r\n",
        "  print( 'yes' )\r\n",
        "  "
      ],
      "execution_count": null,
      "outputs": []
    },
    {
      "cell_type": "markdown",
      "metadata": {
        "id": "_MbsjPfjkFQf"
      },
      "source": [
        "#condition เงื่อนไข"
      ]
    },
    {
      "cell_type": "markdown",
      "metadata": {
        "id": "L5dJobJ9kKDJ"
      },
      "source": [
        "การวนลูปโดยมีเงื่อนไขต่างๆมาเกี่ยวข้อง โดยมี pettern"
      ]
    },
    {
      "cell_type": "code",
      "metadata": {
        "id": "WpYJReVSkCo0"
      },
      "source": [
        "```python\r\n",
        "if condition :\r\n",
        "  do somting "
      ],
      "execution_count": null,
      "outputs": []
    }
  ]
}