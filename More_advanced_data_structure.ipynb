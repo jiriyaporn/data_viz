{
  "nbformat": 4,
  "nbformat_minor": 0,
  "metadata": {
    "colab": {
      "name": "More advanced data structure.ipynb",
      "provenance": [],
      "authorship_tag": "ABX9TyOTAv5vBwkX4IEZNsBOFOAK",
      "include_colab_link": true
    },
    "kernelspec": {
      "name": "python3",
      "display_name": "Python 3"
    }
  },
  "cells": [
    {
      "cell_type": "markdown",
      "metadata": {
        "id": "view-in-github",
        "colab_type": "text"
      },
      "source": [
        "<a href=\"https://colab.research.google.com/github/jiriyaporn/data_viz/blob/main/More_advanced_data_structure.ipynb\" target=\"_parent\"><img src=\"https://colab.research.google.com/assets/colab-badge.svg\" alt=\"Open In Colab\"/></a>"
      ]
    },
    {
      "cell_type": "markdown",
      "metadata": {
        "id": "X9zdLsWamEVQ"
      },
      "source": [
        "ที่เรียนไปแล้ว 1 ตัวคือ list หน้าตาแบบนี้\r\n",
        "\r\n",
        "list เก็บได้ทั้งแบบ string number"
      ]
    },
    {
      "cell_type": "markdown",
      "metadata": {
        "id": "Qw-f5Sc8nbUg"
      },
      "source": [
        "# Dictionary\r\n",
        "\r\n",
        "สามารถ index ด้วยอะไรก็ได้ แต่ลำดับจะหายไป "
      ]
    },
    {
      "cell_type": "code",
      "metadata": {
        "id": "IPRHEXvilrY7"
      },
      "source": [
        "ex_dict = {' a ' : 10, '1':1, 'stat' :5} # curly brackets ในการบอก dict"
      ],
      "execution_count": 2,
      "outputs": []
    },
    {
      "cell_type": "code",
      "metadata": {
        "colab": {
          "base_uri": "https://localhost:8080/"
        },
        "id": "7FmtiVZipDds",
        "outputId": "db31e575-7d73-46e0-b305-c24ba778f32b"
      },
      "source": [
        "ex_dict['stat']"
      ],
      "execution_count": 3,
      "outputs": [
        {
          "output_type": "execute_result",
          "data": {
            "text/plain": [
              "5"
            ]
          },
          "metadata": {
            "tags": []
          },
          "execution_count": 3
        }
      ]
    },
    {
      "cell_type": "code",
      "metadata": {
        "id": "-sUaCmzSpH1L"
      },
      "source": [
        "ex2_dict = {1: 'one', 2 : 'two', 3 : 'three'}"
      ],
      "execution_count": 6,
      "outputs": []
    },
    {
      "cell_type": "code",
      "metadata": {
        "colab": {
          "base_uri": "https://localhost:8080/",
          "height": 35
        },
        "id": "coMoeDEUpoWI",
        "outputId": "0d155e38-d913-4d88-f2a2-7b545df85be3"
      },
      "source": [
        "ex2_dict[2]"
      ],
      "execution_count": 7,
      "outputs": [
        {
          "output_type": "execute_result",
          "data": {
            "application/vnd.google.colaboratory.intrinsic+json": {
              "type": "string"
            },
            "text/plain": [
              "'two'"
            ]
          },
          "metadata": {
            "tags": []
          },
          "execution_count": 7
        }
      ]
    },
    {
      "cell_type": "markdown",
      "metadata": {
        "id": "viCW3VfuqRzA"
      },
      "source": [
        "##การเพิ่มสมาชิกใน dict"
      ]
    },
    {
      "cell_type": "code",
      "metadata": {
        "id": "dfKuG3y-ptX8"
      },
      "source": [
        "ex2_dict[0] = 'zero'"
      ],
      "execution_count": 8,
      "outputs": []
    },
    {
      "cell_type": "markdown",
      "metadata": {
        "id": "HmevIyX6qvuu"
      },
      "source": [
        "คำสั่งพิเศษที่ใช้"
      ]
    },
    {
      "cell_type": "code",
      "metadata": {
        "colab": {
          "base_uri": "https://localhost:8080/"
        },
        "id": "iezw_CiNqo8J",
        "outputId": "e39e8dd6-b2b7-4d6f-f395-875558e5a13b"
      },
      "source": [
        "ex2_dict.keys()\r\n"
      ],
      "execution_count": 23,
      "outputs": [
        {
          "output_type": "execute_result",
          "data": {
            "text/plain": [
              "dict_keys([1, 2, 3, 0])"
            ]
          },
          "metadata": {
            "tags": []
          },
          "execution_count": 23
        }
      ]
    },
    {
      "cell_type": "code",
      "metadata": {
        "colab": {
          "base_uri": "https://localhost:8080/"
        },
        "id": "JY-oHUY_rKqz",
        "outputId": "30ca1340-88bb-4bb0-c7a8-bf45db5a288a"
      },
      "source": [
        "for index in ex2_dict.keys() :\r\n",
        "  print(index)"
      ],
      "execution_count": 24,
      "outputs": [
        {
          "output_type": "stream",
          "text": [
            "1\n",
            "2\n",
            "3\n",
            "0\n"
          ],
          "name": "stdout"
        }
      ]
    },
    {
      "cell_type": "code",
      "metadata": {
        "colab": {
          "base_uri": "https://localhost:8080/"
        },
        "id": "RV6Oh-bBrfxp",
        "outputId": "87db215d-a1f2-48a7-c3b3-063364f6ca14"
      },
      "source": [
        "ex2_dict.values()\r\n",
        "\r\n"
      ],
      "execution_count": 22,
      "outputs": [
        {
          "output_type": "execute_result",
          "data": {
            "text/plain": [
              "dict_values(['one', 'two', 'three', 'zero'])"
            ]
          },
          "metadata": {
            "tags": []
          },
          "execution_count": 22
        }
      ]
    },
    {
      "cell_type": "markdown",
      "metadata": {
        "id": "Tmz5UexnstaI"
      },
      "source": [
        "เอาไปใช้ร่วมกับ dataframe ของ pandas"
      ]
    },
    {
      "cell_type": "markdown",
      "metadata": {
        "id": "-JlBk77ZtCsG"
      },
      "source": [
        "# Number Arrey  (arrey n มิติ)"
      ]
    },
    {
      "cell_type": "markdown",
      "metadata": {
        "id": "hsg411qRt6Ye"
      },
      "source": [
        "numpy คือ package ที่ทำงานเกี่ยวกับ arrey ของตัวเลข (มีคนเขียนแล้ว)\r\n",
        "\r\n",
        "numpy > number python"
      ]
    },
    {
      "cell_type": "code",
      "metadata": {
        "id": "eht9C1dGsA-z"
      },
      "source": [
        "import numpy #วิธีเรียกใช้งาน"
      ],
      "execution_count": 80,
      "outputs": []
    },
    {
      "cell_type": "code",
      "metadata": {
        "colab": {
          "base_uri": "https://localhost:8080/"
        },
        "id": "dpby0OEexd7N",
        "outputId": "345cd9c3-0705-4349-917f-8e5f6f70cd5d"
      },
      "source": [
        "ex_2d_array = numpy.array([[5.2, 3.0, 4.5],[9.1, 0.1, 0.3]])\r\n",
        "\r\n",
        "print(ex_2d_array)"
      ],
      "execution_count": 85,
      "outputs": [
        {
          "output_type": "stream",
          "text": [
            "[[5.2 3.  4.5]\n",
            " [9.1 0.1 0.3]]\n"
          ],
          "name": "stdout"
        }
      ]
    },
    {
      "cell_type": "code",
      "metadata": {
        "id": "Ou8CSsSNxd0G"
      },
      "source": [
        ""
      ],
      "execution_count": null,
      "outputs": []
    },
    {
      "cell_type": "markdown",
      "metadata": {
        "id": "l358bpqUvnBY"
      },
      "source": [
        "#การชี้ค่าใน numpy array"
      ]
    },
    {
      "cell_type": "code",
      "metadata": {
        "colab": {
          "base_uri": "https://localhost:8080/"
        },
        "id": "yyDjd-qVu8-Z",
        "outputId": "4a560e19-b822-4ac6-d323-90bc793341ea"
      },
      "source": [
        "ex_2d_array[1,2]"
      ],
      "execution_count": 86,
      "outputs": [
        {
          "output_type": "execute_result",
          "data": {
            "text/plain": [
              "0.3"
            ]
          },
          "metadata": {
            "tags": []
          },
          "execution_count": 86
        }
      ]
    },
    {
      "cell_type": "code",
      "metadata": {
        "colab": {
          "base_uri": "https://localhost:8080/"
        },
        "id": "iiTC4KMUvwdl",
        "outputId": "a5f0b0ca-eefa-4fe1-80f6-be9eb218543a"
      },
      "source": [
        "list_x = [[5.2,3.0,4.5],[9.1,0.1,0.3]] #การมี list\r\n",
        "\r\n",
        "print(len(list_x))\r\n",
        "\r\n",
        "print(list_x[1])\r\n",
        "\r\n",
        "print(list_x[1][2])"
      ],
      "execution_count": 42,
      "outputs": [
        {
          "output_type": "stream",
          "text": [
            "2\n",
            "[9.1, 0.1, 0.3]\n",
            "0.3\n"
          ],
          "name": "stdout"
        }
      ]
    },
    {
      "cell_type": "markdown",
      "metadata": {
        "id": "vHFW_oPTx6mH"
      },
      "source": [
        "Operations"
      ]
    },
    {
      "cell_type": "code",
      "metadata": {
        "colab": {
          "base_uri": "https://localhost:8080/"
        },
        "id": "Sde_i9VUxLOJ",
        "outputId": "2ffdd5fb-8808-4b48-ba04-2e2cf12c8bd1"
      },
      "source": [
        "ex_2d_array = numpy.array([[1,0,0],[0,0,1]])\r\n",
        "print(ex_2d_array)\r\n",
        "print(ex_2d_array)"
      ],
      "execution_count": 88,
      "outputs": [
        {
          "output_type": "stream",
          "text": [
            "[[1 0 0]\n",
            " [0 0 1]]\n",
            "[[1 0 0]\n",
            " [0 0 1]]\n"
          ],
          "name": "stdout"
        }
      ]
    },
    {
      "cell_type": "code",
      "metadata": {
        "colab": {
          "base_uri": "https://localhost:8080/"
        },
        "id": "4JBhF8v1ydw1",
        "outputId": "dc6e8217-11b1-4cc5-c6b8-a1c629fdd70f"
      },
      "source": [
        "ex_2d_array.shape #ตรวจสอบขนาดของ matrix"
      ],
      "execution_count": 89,
      "outputs": [
        {
          "output_type": "execute_result",
          "data": {
            "text/plain": [
              "(2, 3)"
            ]
          },
          "metadata": {
            "tags": []
          },
          "execution_count": 89
        }
      ]
    },
    {
      "cell_type": "code",
      "metadata": {
        "colab": {
          "base_uri": "https://localhost:8080/"
        },
        "id": "BdJ7iHhzyxgu",
        "outputId": "1780ea4f-e1af-4747-d172-44f1ca83265d"
      },
      "source": [
        "list_x = [[5.2,3.0,4.5],[9.1,0.1,0.3]] #การมี list\r\n",
        "list_x2 = [[1,0,0],[0,0,1]] \r\n",
        "list_x + list_x2"
      ],
      "execution_count": 71,
      "outputs": [
        {
          "output_type": "execute_result",
          "data": {
            "text/plain": [
              "[[5.2, 3.0, 4.5], [9.1, 0.1, 0.3], [1, 0, 0], [0, 0, 1]]"
            ]
          },
          "metadata": {
            "tags": []
          },
          "execution_count": 71
        }
      ]
    },
    {
      "cell_type": "code",
      "metadata": {
        "colab": {
          "base_uri": "https://localhost:8080/"
        },
        "id": "xJ1wQTfrzc3j",
        "outputId": "9f484554-10e6-4ea3-f3dd-b0d88d597694"
      },
      "source": [
        "ex_2d_array - ex_2d_array"
      ],
      "execution_count": 90,
      "outputs": [
        {
          "output_type": "execute_result",
          "data": {
            "text/plain": [
              "array([[0, 0, 0],\n",
              "       [0, 0, 0]])"
            ]
          },
          "metadata": {
            "tags": []
          },
          "execution_count": 90
        }
      ]
    },
    {
      "cell_type": "code",
      "metadata": {
        "colab": {
          "base_uri": "https://localhost:8080/"
        },
        "id": "hoVPmmKaz7qz",
        "outputId": "64965925-1a42-4bd0-d732-334ae425ddaa"
      },
      "source": [
        "ex_2d_array * ex_2d_array #เอาตำแหน่งเดียวกันมาคูณกัน"
      ],
      "execution_count": 91,
      "outputs": [
        {
          "output_type": "execute_result",
          "data": {
            "text/plain": [
              "array([[1, 0, 0],\n",
              "       [0, 0, 1]])"
            ]
          },
          "metadata": {
            "tags": []
          },
          "execution_count": 91
        }
      ]
    },
    {
      "cell_type": "code",
      "metadata": {
        "colab": {
          "base_uri": "https://localhost:8080/"
        },
        "id": "r6hKB1PM1LGi",
        "outputId": "66aa3995-b745-4962-8c01-a7eae1053bf7"
      },
      "source": [
        "print(ex_2d_array)\r\n",
        "print(ex_2d_array.T)"
      ],
      "execution_count": 92,
      "outputs": [
        {
          "output_type": "stream",
          "text": [
            "[[1 0 0]\n",
            " [0 0 1]]\n",
            "[[1 0]\n",
            " [0 0]\n",
            " [0 1]]\n"
          ],
          "name": "stdout"
        }
      ]
    },
    {
      "cell_type": "code",
      "metadata": {
        "colab": {
          "base_uri": "https://localhost:8080/",
          "height": 180
        },
        "id": "4OjBQEBQ2Dtk",
        "outputId": "06d6cfeb-0676-42cd-d254-13d0c28f56d3"
      },
      "source": [
        "dot_mat = numpy.dot(ex_2d_array,ex2_2d_array.T)\r\n",
        "print(dot_mat)\r\n"
      ],
      "execution_count": 104,
      "outputs": [
        {
          "output_type": "error",
          "ename": "NameError",
          "evalue": "ignored",
          "traceback": [
            "\u001b[0;31m---------------------------------------------------------------------------\u001b[0m",
            "\u001b[0;31mNameError\u001b[0m                                 Traceback (most recent call last)",
            "\u001b[0;32m<ipython-input-104-3ad9e058d492>\u001b[0m in \u001b[0;36m<module>\u001b[0;34m()\u001b[0m\n\u001b[0;32m----> 1\u001b[0;31m \u001b[0mdot_mat\u001b[0m \u001b[0;34m=\u001b[0m \u001b[0mnumpy\u001b[0m\u001b[0;34m.\u001b[0m\u001b[0mdot\u001b[0m\u001b[0;34m(\u001b[0m\u001b[0mex_2d_array\u001b[0m\u001b[0;34m,\u001b[0m\u001b[0mex2_2d_array\u001b[0m\u001b[0;34m.\u001b[0m\u001b[0mT\u001b[0m\u001b[0;34m)\u001b[0m\u001b[0;34m\u001b[0m\u001b[0;34m\u001b[0m\u001b[0m\n\u001b[0m\u001b[1;32m      2\u001b[0m \u001b[0mprint\u001b[0m\u001b[0;34m(\u001b[0m\u001b[0mdot_mat\u001b[0m\u001b[0;34m)\u001b[0m\u001b[0;34m\u001b[0m\u001b[0;34m\u001b[0m\u001b[0m\n",
            "\u001b[0;31mNameError\u001b[0m: name 'ex2_2d_array' is not defined"
          ]
        }
      ]
    },
    {
      "cell_type": "code",
      "metadata": {
        "colab": {
          "base_uri": "https://localhost:8080/",
          "height": 163
        },
        "id": "TzLpYNrT4H_d",
        "outputId": "9a3f797a-3bb1-4b70-f9f3-50625d569ec4"
      },
      "source": [
        "numpy.linalg.det(dot_mat)"
      ],
      "execution_count": 103,
      "outputs": [
        {
          "output_type": "error",
          "ename": "NameError",
          "evalue": "ignored",
          "traceback": [
            "\u001b[0;31m---------------------------------------------------------------------------\u001b[0m",
            "\u001b[0;31mNameError\u001b[0m                                 Traceback (most recent call last)",
            "\u001b[0;32m<ipython-input-103-fe28f809ce0a>\u001b[0m in \u001b[0;36m<module>\u001b[0;34m()\u001b[0m\n\u001b[0;32m----> 1\u001b[0;31m \u001b[0mnumpy\u001b[0m\u001b[0;34m.\u001b[0m\u001b[0mlinalg\u001b[0m\u001b[0;34m.\u001b[0m\u001b[0mdet\u001b[0m\u001b[0;34m(\u001b[0m\u001b[0mdot_mat\u001b[0m\u001b[0;34m)\u001b[0m\u001b[0;34m\u001b[0m\u001b[0;34m\u001b[0m\u001b[0m\n\u001b[0m",
            "\u001b[0;31mNameError\u001b[0m: name 'dot_mat' is not defined"
          ]
        }
      ]
    },
    {
      "cell_type": "markdown",
      "metadata": {
        "id": "ggwni91j5H6m"
      },
      "source": [
        "## matrix slicing"
      ]
    },
    {
      "cell_type": "code",
      "metadata": {
        "colab": {
          "base_uri": "https://localhost:8080/"
        },
        "id": "zcJbLzIa5kSc",
        "outputId": "4e84635a-bf5b-4bd7-b4a9-e133815221ca"
      },
      "source": [
        "print(ex_2d_array)"
      ],
      "execution_count": 97,
      "outputs": [
        {
          "output_type": "stream",
          "text": [
            "[[1 0 0]\n",
            " [0 0 1]]\n"
          ],
          "name": "stdout"
        }
      ]
    },
    {
      "cell_type": "code",
      "metadata": {
        "colab": {
          "base_uri": "https://localhost:8080/"
        },
        "id": "xWqYWF9i55f9",
        "outputId": "20342716-0d5f-4418-c429-626c50b82a4f"
      },
      "source": [
        "ex_2d_array[1,1:]"
      ],
      "execution_count": 98,
      "outputs": [
        {
          "output_type": "execute_result",
          "data": {
            "text/plain": [
              "array([0, 1])"
            ]
          },
          "metadata": {
            "tags": []
          },
          "execution_count": 98
        }
      ]
    },
    {
      "cell_type": "code",
      "metadata": {
        "colab": {
          "base_uri": "https://localhost:8080/"
        },
        "id": "I7Rx6GHQ6CPw",
        "outputId": "873b58ed-7148-4b94-f177-828d8f16b008"
      },
      "source": [
        "ex_2d_array[:,:2]"
      ],
      "execution_count": 99,
      "outputs": [
        {
          "output_type": "execute_result",
          "data": {
            "text/plain": [
              "array([[1, 0],\n",
              "       [0, 0]])"
            ]
          },
          "metadata": {
            "tags": []
          },
          "execution_count": 99
        }
      ]
    },
    {
      "cell_type": "markdown",
      "metadata": {
        "id": "-u8dKArF5TDF"
      },
      "source": [
        "## random,ones,zeros"
      ]
    },
    {
      "cell_type": "markdown",
      "metadata": {
        "id": "muTyzCom4AhW"
      },
      "source": [
        "## HW5 \r\n",
        "\r\n",
        "เขียนฟังก์ชัน * เมทริกซ์ \r\n",
        "\r\n",
        "แล้ว test กับ matrix \r\n",
        "\r\n",
        "(2,3)*(3,2)\r\n",
        "\r\n",
        "(4,4)*(4,1)\r\n",
        "\r\n",
        "(2,2)*(2,2)"
      ]
    },
    {
      "cell_type": "code",
      "metadata": {
        "id": "7ZxdEstf46ba"
      },
      "source": [
        ""
      ],
      "execution_count": null,
      "outputs": []
    }
  ]
}