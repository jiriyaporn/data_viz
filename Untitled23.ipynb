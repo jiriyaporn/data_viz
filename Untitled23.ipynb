{
  "nbformat": 4,
  "nbformat_minor": 0,
  "metadata": {
    "colab": {
      "name": "Untitled23.ipynb",
      "provenance": [],
      "collapsed_sections": [],
      "authorship_tag": "ABX9TyPTluViQfaXi0CMlOXWDcxI",
      "include_colab_link": true
    },
    "kernelspec": {
      "name": "python3",
      "display_name": "Python 3"
    },
    "language_info": {
      "name": "python"
    }
  },
  "cells": [
    {
      "cell_type": "markdown",
      "metadata": {
        "id": "view-in-github",
        "colab_type": "text"
      },
      "source": [
        "<a href=\"https://colab.research.google.com/github/jiriyaporn/data_viz/blob/main/Untitled23.ipynb\" target=\"_parent\"><img src=\"https://colab.research.google.com/assets/colab-badge.svg\" alt=\"Open In Colab\"/></a>"
      ]
    },
    {
      "cell_type": "markdown",
      "source": [
        "##bitcoin\n"
      ],
      "metadata": {
        "id": "bKzUMwYQlRnm"
      }
    },
    {
      "cell_type": "markdown",
      "source": [
        "Q@KBpmVRE2iRZqB"
      ],
      "metadata": {
        "id": "7dqXzjbkRqCl"
      }
    },
    {
      "cell_type": "code",
      "source": [
        "\n",
        "from hashlib import sha256\n",
        "MAX_NONCE = 100000000000\n",
        "\n",
        "def SHA256(text):\n",
        "    return sha256(text.encode(\"ascii\")).hexdigest()\n",
        "\n",
        "def mine(block_number, transactions, previous_hash, prefix_zeros):\n",
        "    prefix_str = '0'*prefix_zeros\n",
        "    for nonce in range(MAX_NONCE):\n",
        "        text = str(block_number) + transactions + previous_hash + str(nonce)\n",
        "        new_hash = SHA256(text)\n",
        "        if new_hash.startswith(prefix_str):\n",
        "            print(f\"Successfully mined bitcoins with given nonce value:{nonce}\")\n",
        "            return new_hash\n",
        "\n",
        "    raise BaseException(f\"Couldn't find correct has after trying {MAX_NONCE} times\")\n",
        "\n",
        "if __name__=='__main__':\n",
        "    transactions='''\n",
        "    Kharwal->Aman->20,\n",
        "    Amazon->Google->45\n",
        "    '''\n",
        "    difficulty=6 # try changing this to higher number and you will see it will take more time for mining as difficulty increases\n",
        "    import time\n",
        "    start = time.time()\n",
        "    print(\"start mining\")\n",
        "    new_hash = mine(5,transactions,'1AKVrrKGSDtbLrcW77HPEwrJM2Ej2yFNYw', difficulty) #previous hash of already mined bitcoin\n",
        "    total_time = str((time.time() - start))\n",
        "    print(f\"end mining. Mining took: {total_time} seconds\")\n",
        "    print(new_hash)"
      ],
      "metadata": {
        "id": "N4smMGAifqp-",
        "colab": {
          "base_uri": "https://localhost:8080/"
        },
        "outputId": "d84c518a-8077-4d63-af28-1da78b872105"
      },
      "execution_count": 27,
      "outputs": [
        {
          "output_type": "stream",
          "name": "stdout",
          "text": [
            "start mining\n",
            "Successfully mined bitcoins with given nonce value:18405158\n",
            "end mining. Mining took: 37.184528827667236 seconds\n",
            "0000005f094520bb38db32717ea9a2b7902b57cdbf2bd9c0ee8810389e15e967\n"
          ]
        }
      ]
    },
    {
      "cell_type": "code",
      "source": [
        ""
      ],
      "metadata": {
        "id": "nOcby9Cdfqke"
      },
      "execution_count": null,
      "outputs": []
    },
    {
      "cell_type": "code",
      "source": [
        ""
      ],
      "metadata": {
        "id": "fuTFvzT0fqjF"
      },
      "execution_count": null,
      "outputs": []
    },
    {
      "cell_type": "code",
      "source": [
        ""
      ],
      "metadata": {
        "id": "oC3XLnQAfqgs"
      },
      "execution_count": null,
      "outputs": []
    },
    {
      "cell_type": "code",
      "source": [
        ""
      ],
      "metadata": {
        "id": "4-Ljm5P6fqfL"
      },
      "execution_count": null,
      "outputs": []
    },
    {
      "cell_type": "code",
      "source": [
        ""
      ],
      "metadata": {
        "id": "5PQgbPCDfqdY"
      },
      "execution_count": null,
      "outputs": []
    },
    {
      "cell_type": "code",
      "source": [
        ""
      ],
      "metadata": {
        "id": "U7ZBTF6nfqS6"
      },
      "execution_count": null,
      "outputs": []
    },
    {
      "cell_type": "code",
      "source": [
        ""
      ],
      "metadata": {
        "id": "knBf14-NfqQq"
      },
      "execution_count": null,
      "outputs": []
    },
    {
      "cell_type": "code",
      "source": [
        ""
      ],
      "metadata": {
        "id": "qAzNeAL5fqPU"
      },
      "execution_count": null,
      "outputs": []
    },
    {
      "cell_type": "code",
      "source": [
        ""
      ],
      "metadata": {
        "id": "tJnPRegWfqBU"
      },
      "execution_count": null,
      "outputs": []
    },
    {
      "cell_type": "code",
      "source": [
        "from hashlib import sha256"
      ],
      "metadata": {
        "id": "r2NCqeDmcXeW"
      },
      "execution_count": null,
      "outputs": []
    },
    {
      "cell_type": "code",
      "source": [
        "from hashlib import sha256\n",
        "MAX_NONCE = 100000000000\n",
        "\n",
        "def SHA256(text):\n",
        "    return sha256(text.encode(\"ascii\")).hexdigest()\n",
        "\n",
        "def mine(block_number, transactions, previous_hash, prefix_zeros):\n",
        "    prefix_str = '0'*prefix_zeros\n",
        "    for nonce in range(MAX_NONCE):\n",
        "        text = str(block_number) + transactions + previous_hash + str(nonce)\n",
        "        new_hash = SHA256(text)\n",
        "        if new_hash.startswith(prefix_str):\n",
        "            print(f\"Yay! Successfully mined bitcoins with nonce value:{nonce}\")\n",
        "            return new_hash\n",
        "\n",
        "    raise BaseException(f\"Couldn't find correct has after trying {MAX_NONCE} times\")\n",
        "\n",
        "if __name__=='__main__':\n",
        "    transactions='''\n",
        "    Dhaval->Bhavin->20,\n",
        "    Mando->Cara->45\n",
        "    '''\n",
        "    difficulty=4 # try changing this to higher number and you will see it will take more time for mining as difficulty increases\n",
        "    import time\n",
        "    start = time.time()\n",
        "    print(\"start mining\")\n",
        "    new_hash = mine(5,transactions,'1AKVrrKGSDtbLrcW77HPEwrJM2Ej2yFNYw', difficulty)\n",
        "    total_time = str((time.time() - start))\n",
        "    print(f\"end mining. Mining took: {total_time} seconds\")\n",
        "    print(new_hash)"
      ],
      "metadata": {
        "id": "rm0emCP5lRDa",
        "colab": {
          "base_uri": "https://localhost:8080/"
        },
        "outputId": "208cbfef-4b40-487c-8826-d1be4d73e7da"
      },
      "execution_count": 24,
      "outputs": [
        {
          "output_type": "stream",
          "name": "stdout",
          "text": [
            "start mining\n",
            "Yay! Successfully mined bitcoins with nonce value:1015\n",
            "end mining. Mining took: 0.005742073059082031 seconds\n",
            "00005e97db2646a553eafc892c723023f8449eb54cbb33bd32ed145f20678cf0\n"
          ]
        }
      ]
    }
  ]
}