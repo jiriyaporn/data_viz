{
  "nbformat": 4,
  "nbformat_minor": 0,
  "metadata": {
    "colab": {
      "name": "Untitled23.ipynb",
      "provenance": [],
      "collapsed_sections": [],
      "authorship_tag": "ABX9TyNbG9ZM5ON2N2K9KJKLZjRq",
      "include_colab_link": true
    },
    "kernelspec": {
      "name": "python3",
      "display_name": "Python 3"
    },
    "language_info": {
      "name": "python"
    }
  },
  "cells": [
    {
      "cell_type": "markdown",
      "metadata": {
        "id": "view-in-github",
        "colab_type": "text"
      },
      "source": [
        "<a href=\"https://colab.research.google.com/github/jiriyaporn/data_viz/blob/main/Untitled23.ipynb\" target=\"_parent\"><img src=\"https://colab.research.google.com/assets/colab-badge.svg\" alt=\"Open In Colab\"/></a>"
      ]
    },
    {
      "cell_type": "markdown",
      "source": [
        "##bitcoin\n"
      ],
      "metadata": {
        "id": "bKzUMwYQlRnm"
      }
    },
    {
      "cell_type": "markdown",
      "source": [
        "Q@KBpmVRE2iRZqB"
      ],
      "metadata": {
        "id": "7dqXzjbkRqCl"
      }
    },
    {
      "cell_type": "code",
      "source": [
        "import json\n",
        "import random\n",
        "from itertools import groupby\n",
        "from operator import itemgetter\n",
        "import numpy as np\n",
        "import pickle\n",
        "\n",
        "\n"
      ],
      "metadata": {
        "id": "0iTSu6jF8yhg"
      },
      "execution_count": 6,
      "outputs": []
    },
    {
      "cell_type": "code",
      "source": [
        ""
      ],
      "metadata": {
        "id": "O2n_4eeAsmXr"
      },
      "execution_count": null,
      "outputs": []
    },
    {
      "cell_type": "code",
      "source": [
        "\n",
        "from hashlib import sha256\n",
        "MAX_NONCE = 100000000000\n",
        "\n",
        "def SHA256(text):\n",
        "    return sha256(text.encode(\"ascii\")).hexdigest()\n",
        "\n",
        "def mine(block_number, transactions, previous_hash, prefix_zeros):\n",
        "    prefix_str = '0'*prefix_zeros\n",
        "    for nonce in range(MAX_NONCE):\n",
        "        text = str(block_number) + transactions + previous_hash + str(nonce)\n",
        "        new_hash = SHA256(text)\n",
        "        if new_hash.startswith(prefix_str):\n",
        "            print(f\"Successfully mined bitcoins with given nonce value:{nonce}\")\n",
        "            return new_hash\n",
        "\n",
        "    raise BaseException(f\"Couldn't find correct has after trying {MAX_NONCE} times\")\n",
        "\n",
        "if __name__=='__main__':\n",
        "    transactions='''\n",
        "    Kharwal->Aman->20,\n",
        "    Amazon->Google->45\n",
        "    '''\n",
        "    difficulty=4 # try changing this to higher number and you will see it will take more time for mining as difficulty increases\n",
        "    import time\n",
        "    start = time.time()\n",
        "    print(\"start mining\")\n",
        "    new_hash = mine(5,transactions,'1AKVrrKGSDtbLrcW77HPEwrJM2Ej2yFNYw', difficulty) #previous hash of already mined bitcoin\n",
        "    total_time = str((time.time() - start))\n",
        "    print(f\"end mining. Mining took: {total_time} seconds\")\n",
        "    print(new_hash)"
      ],
      "metadata": {
        "id": "N4smMGAifqp-"
      },
      "execution_count": null,
      "outputs": []
    },
    {
      "cell_type": "code",
      "source": [
        "pip install bit"
      ],
      "metadata": {
        "id": "dF7H-tCb86g1"
      },
      "execution_count": null,
      "outputs": []
    },
    {
      "cell_type": "code",
      "source": [
        "pip install bitcoin"
      ],
      "metadata": {
        "id": "fuTFvzT0fqjF"
      },
      "execution_count": null,
      "outputs": []
    },
    {
      "cell_type": "code",
      "source": [
        "from bitcoin import *"
      ],
      "metadata": {
        "id": "oC3XLnQAfqgs"
      },
      "execution_count": 16,
      "outputs": []
    },
    {
      "cell_type": "code",
      "source": [
        "from bitcoin import *\n",
        "\n",
        "\n",
        "def main():\n",
        "    # Generate new private key\n",
        "    PrivateKey = random_key()\n",
        "    # Generate new public key from private key\n",
        "    PublicKey = privtopub(PrivateKey)\n",
        "    # Create new address from public key\n",
        "    addr = pubtoaddr(PublicKey)\n",
        "\n",
        "    print(\"My Public Address: \" +addr)\n",
        "    print(\"My Private Address: \" + PrivateKey)\n",
        "\n",
        "\n",
        "if __name__ == \"__main__\":\n",
        "    main()"
      ],
      "metadata": {
        "id": "qAzNeAL5fqPU",
        "colab": {
          "base_uri": "https://localhost:8080/"
        },
        "outputId": "a8791f35-8a8b-43f1-bf26-05fcfd8fc211"
      },
      "execution_count": 26,
      "outputs": [
        {
          "output_type": "stream",
          "name": "stdout",
          "text": [
            "My Public Address: 173zdf5WPa6mLYbEU82b2w82mNQ2tgBqwX\n",
            "My Private Address: adf45218d7e20f36ee4a50293e16bab4f38f043dff5cee49ca509fd2b553e81a\n"
          ]
        }
      ]
    },
    {
      "cell_type": "code",
      "source": [
        "from bitcoin import *my_private_key = random_key()print(my_private_key)Save it as a .py file \n",
        "and then open your command line program \n",
        "and run the above program like this.python <program location and name>"
      ],
      "metadata": {
        "id": "tJnPRegWfqBU"
      },
      "execution_count": null,
      "outputs": []
    },
    {
      "cell_type": "code",
      "source": [
        "from bitcoin import *\n",
        "my_private_key = random_key()\n",
        "print(my_private_key)\n",
        "Save it as a .py file and then open your command line program and run the above program like this.\n",
        "python <program location and name>"
      ],
      "metadata": {
        "colab": {
          "base_uri": "https://localhost:8080/",
          "height": 134
        },
        "id": "wgjwErfI4Jej",
        "outputId": "1fa9bfe1-d2b9-4d79-d57e-558917987c8c"
      },
      "execution_count": 27,
      "outputs": [
        {
          "output_type": "error",
          "ename": "SyntaxError",
          "evalue": "ignored",
          "traceback": [
            "\u001b[0;36m  File \u001b[0;32m\"<ipython-input-27-11a37179c6e7>\"\u001b[0;36m, line \u001b[0;32m4\u001b[0m\n\u001b[0;31m    Save it as a .py file and then open your command line program and run the above program like this.\u001b[0m\n\u001b[0m          ^\u001b[0m\n\u001b[0;31mSyntaxError\u001b[0m\u001b[0;31m:\u001b[0m invalid syntax\n"
          ]
        }
      ]
    },
    {
      "cell_type": "code",
      "source": [
        "from hashlib import sha256"
      ],
      "metadata": {
        "id": "r2NCqeDmcXeW"
      },
      "execution_count": 23,
      "outputs": []
    },
    {
      "cell_type": "code",
      "source": [
        "from hashlib import sha256\n",
        "MAX_NONCE = 100000000000\n",
        "\n",
        "def SHA256(text):\n",
        "    return sha256(text.encode(\"ascii\")).hexdigest()\n",
        "\n",
        "def mine(block_number, transactions, previous_hash, prefix_zeros):\n",
        "    prefix_str = '0'*prefix_zeros\n",
        "    for nonce in range(MAX_NONCE):\n",
        "        text = str(block_number) + transactions + previous_hash + str(nonce)\n",
        "        new_hash = SHA256(text)\n",
        "        if new_hash.startswith(prefix_str):\n",
        "            print(f\"Yay! Successfully mined bitcoins with nonce value:{nonce}\")\n",
        "            return new_hash\n",
        "\n",
        "    raise BaseException(f\"Couldn't find correct has after trying {MAX_NONCE} times\")\n",
        "\n",
        "if __name__=='__main__':\n",
        "    transactions='''\n",
        "    Dhaval->Bhavin->20,\n",
        "    Mando->Cara->45\n",
        "    '''\n",
        "    difficulty=4 # try changing this to higher number and you will see it will take more time for mining as difficulty increases\n",
        "    import time\n",
        "    start = time.time()\n",
        "    print(\"start mining\")\n",
        "    new_hash = mine(5,transactions,'1AKVrrKGSDtbLrcW77HPEwrJM2Ej2yFNYw', difficulty)\n",
        "    total_time = str((time.time() - start))\n",
        "    print(f\"end mining. Mining took: {total_time} seconds\")\n",
        "    print(new_hash)"
      ],
      "metadata": {
        "id": "rm0emCP5lRDa",
        "colab": {
          "base_uri": "https://localhost:8080/"
        },
        "outputId": "ba977e5f-b660-4551-af51-354f61db82df"
      },
      "execution_count": 24,
      "outputs": [
        {
          "output_type": "stream",
          "name": "stdout",
          "text": [
            "start mining\n",
            "Yay! Successfully mined bitcoins with nonce value:1015\n",
            "end mining. Mining took: 0.005858182907104492 seconds\n",
            "00005e97db2646a553eafc892c723023f8449eb54cbb33bd32ed145f20678cf0\n"
          ]
        }
      ]
    }
  ]
}