{
  "nbformat": 4,
  "nbformat_minor": 0,
  "metadata": {
    "colab": {
      "name": "Untitled23.ipynb",
      "provenance": [],
      "authorship_tag": "ABX9TyNfmTDaMq9nsOJGjZ33Wq+3",
      "include_colab_link": true
    },
    "kernelspec": {
      "name": "python3",
      "display_name": "Python 3"
    },
    "language_info": {
      "name": "python"
    }
  },
  "cells": [
    {
      "cell_type": "markdown",
      "metadata": {
        "id": "view-in-github",
        "colab_type": "text"
      },
      "source": [
        "<a href=\"https://colab.research.google.com/github/jiriyaporn/data_viz/blob/main/Untitled23.ipynb\" target=\"_parent\"><img src=\"https://colab.research.google.com/assets/colab-badge.svg\" alt=\"Open In Colab\"/></a>"
      ]
    },
    {
      "cell_type": "markdown",
      "source": [
        "##bitcoin\n"
      ],
      "metadata": {
        "id": "bKzUMwYQlRnm"
      }
    },
    {
      "cell_type": "code",
      "source": [
        "from hashlib import sha256"
      ],
      "metadata": {
        "id": "r2NCqeDmcXeW"
      },
      "execution_count": 6,
      "outputs": []
    },
    {
      "cell_type": "code",
      "source": [
        "def SHA256(text):\n",
        "  return sha256(text.encode(\"ascii\")).hexdigest()\n",
        "\n",
        "def mine(block_number, trasactions, previous_hash, prefix_zeros):\n",
        "  nonce=3\n",
        "  text = str(block_number) + trasactions + previous_hash + str(nonce)\n",
        "  return new_hash\n",
        "\n",
        "\n",
        "if __name__==' _ _main_ _':\n",
        "  transactions='''\n",
        "  Dhaval->Bhavin->20,\n",
        "  Mando->Cara->45\n",
        "  '''\n",
        "  difficulty=4\n",
        "  new_hash = mine(5, transactions, '1AKVrrKGSDtbLrcW77HPEwrJM2Ej2yFNYw',   difficulty)\n",
        "\n",
        "  print(new_hash)\n"
      ],
      "metadata": {
        "id": "BrlPQuTBeE_7"
      },
      "execution_count": 8,
      "outputs": []
    },
    {
      "cell_type": "code",
      "source": [
        ""
      ],
      "metadata": {
        "id": "rm0emCP5lRDa"
      },
      "execution_count": null,
      "outputs": []
    }
  ]
}