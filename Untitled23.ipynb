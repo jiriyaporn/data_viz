{
  "nbformat": 4,
  "nbformat_minor": 0,
  "metadata": {
    "colab": {
      "name": "Untitled23.ipynb",
      "provenance": [],
      "collapsed_sections": [],
      "authorship_tag": "ABX9TyNDq3wuMr0opVEvRP2i3L6U",
      "include_colab_link": true
    },
    "kernelspec": {
      "name": "python3",
      "display_name": "Python 3"
    },
    "language_info": {
      "name": "python"
    }
  },
  "cells": [
    {
      "cell_type": "markdown",
      "metadata": {
        "id": "view-in-github",
        "colab_type": "text"
      },
      "source": [
        "<a href=\"https://colab.research.google.com/github/jiriyaporn/data_viz/blob/main/Untitled23.ipynb\" target=\"_parent\"><img src=\"https://colab.research.google.com/assets/colab-badge.svg\" alt=\"Open In Colab\"/></a>"
      ]
    },
    {
      "cell_type": "markdown",
      "source": [
        "##bitcoin\n"
      ],
      "metadata": {
        "id": "bKzUMwYQlRnm"
      }
    },
    {
      "cell_type": "markdown",
      "source": [
        "Q@KBpmVRE2iRZqB"
      ],
      "metadata": {
        "id": "7dqXzjbkRqCl"
      }
    },
    {
      "cell_type": "code",
      "source": [
        "import json\n",
        "import random\n",
        "from itertools import groupby\n",
        "from operator import itemgetter\n",
        "import numpy as np\n",
        "import pickle\n",
        "\n",
        "\n"
      ],
      "metadata": {
        "id": "0iTSu6jF8yhg"
      },
      "execution_count": null,
      "outputs": []
    },
    {
      "cell_type": "code",
      "source": [],
      "metadata": {
        "id": "O2n_4eeAsmXr"
      },
      "execution_count": null,
      "outputs": []
    },
    {
      "cell_type": "code",
      "source": [
        "\n",
        "from hashlib import sha256\n",
        "MAX_NONCE = 100000000000\n",
        "\n",
        "def SHA256(text):\n",
        "    return sha256(text.encode(\"ascii\")).hexdigest()\n",
        "\n",
        "def mine(block_number, transactions, previous_hash, prefix_zeros):\n",
        "    prefix_str = '0'*prefix_zeros\n",
        "    for nonce in range(MAX_NONCE):\n",
        "        text = str(block_number) + transactions + previous_hash + str(nonce)\n",
        "        new_hash = SHA256(text)\n",
        "        if new_hash.startswith(prefix_str):\n",
        "            print(f\"Successfully mined bitcoins with given nonce value:{nonce}\")\n",
        "            return new_hash\n",
        "\n",
        "    raise BaseException(f\"Couldn't find correct has after trying {MAX_NONCE} times\")\n",
        "\n",
        "if __name__=='__main__':\n",
        "    transactions='''\n",
        "    Kharwal->Aman->20,\n",
        "    Amazon->Google->45\n",
        "    '''\n",
        "    difficulty=4 # try changing this to higher number and you will see it will take more time for mining as difficulty increases\n",
        "    import time\n",
        "    start = time.time()\n",
        "    print(\"start mining\")\n",
        "    new_hash = mine(5,transactions,'1AKVrrKGSDtbLrcW77HPEwrJM2Ej2yFNYw', difficulty) #previous hash of already mined bitcoin\n",
        "    total_time = str((time.time() - start))\n",
        "    print(f\"end mining. Mining took: {total_time} seconds\")\n",
        "    print(new_hash)"
      ],
      "metadata": {
        "id": "N4smMGAifqp-",
        "outputId": "d4138855-2a56-4968-80b6-64e0808fd97e",
        "colab": {
          "base_uri": "https://localhost:8080/"
        }
      },
      "execution_count": null,
      "outputs": [
        {
          "output_type": "stream",
          "name": "stdout",
          "text": [
            "start mining\n",
            "Successfully mined bitcoins with given nonce value:3205\n",
            "end mining. Mining took: 0.017621517181396484 seconds\n",
            "0000f9a78ec0acd60bc168cb85a0bdb04747ac151d9bca6d2fad0c58638753d2\n"
          ]
        }
      ]
    },
    {
      "cell_type": "code",
      "source": [
        "pip install bit"
      ],
      "metadata": {
        "id": "dF7H-tCb86g1",
        "colab": {
          "base_uri": "https://localhost:8080/"
        },
        "outputId": "ee0da47e-35ea-4a55-8e38-17d5d8758898"
      },
      "execution_count": 4,
      "outputs": [
        {
          "output_type": "stream",
          "name": "stdout",
          "text": [
            "Looking in indexes: https://pypi.org/simple, https://us-python.pkg.dev/colab-wheels/public/simple/\n",
            "Collecting bit\n",
            "  Downloading bit-0.8.0-py3-none-any.whl (68 kB)\n",
            "\u001b[K     |████████████████████████████████| 68 kB 3.1 MB/s \n",
            "\u001b[?25hRequirement already satisfied: requests in /usr/local/lib/python3.7/dist-packages (from bit) (2.23.0)\n",
            "Collecting coincurve>=4.3.0\n",
            "  Downloading coincurve-17.0.0-cp37-cp37m-manylinux_2_17_x86_64.manylinux2014_x86_64.whl (1.3 MB)\n",
            "\u001b[K     |████████████████████████████████| 1.3 MB 10.8 MB/s \n",
            "\u001b[?25hCollecting asn1crypto\n",
            "  Downloading asn1crypto-1.5.1-py2.py3-none-any.whl (105 kB)\n",
            "\u001b[K     |████████████████████████████████| 105 kB 48.6 MB/s \n",
            "\u001b[?25hRequirement already satisfied: cffi>=1.3.0 in /usr/local/lib/python3.7/dist-packages (from coincurve>=4.3.0->bit) (1.15.1)\n",
            "Requirement already satisfied: pycparser in /usr/local/lib/python3.7/dist-packages (from cffi>=1.3.0->coincurve>=4.3.0->bit) (2.21)\n",
            "Requirement already satisfied: certifi>=2017.4.17 in /usr/local/lib/python3.7/dist-packages (from requests->bit) (2022.6.15)\n",
            "Requirement already satisfied: urllib3!=1.25.0,!=1.25.1,<1.26,>=1.21.1 in /usr/local/lib/python3.7/dist-packages (from requests->bit) (1.24.3)\n",
            "Requirement already satisfied: idna<3,>=2.5 in /usr/local/lib/python3.7/dist-packages (from requests->bit) (2.10)\n",
            "Requirement already satisfied: chardet<4,>=3.0.2 in /usr/local/lib/python3.7/dist-packages (from requests->bit) (3.0.4)\n",
            "Installing collected packages: asn1crypto, coincurve, bit\n",
            "Successfully installed asn1crypto-1.5.1 bit-0.8.0 coincurve-17.0.0\n"
          ]
        }
      ]
    },
    {
      "cell_type": "code",
      "source": [
        "pip install bitcoin"
      ],
      "metadata": {
        "id": "fuTFvzT0fqjF",
        "colab": {
          "base_uri": "https://localhost:8080/"
        },
        "outputId": "e9a519c9-3dd4-4910-a876-9a86b825dca0"
      },
      "execution_count": 5,
      "outputs": [
        {
          "output_type": "stream",
          "name": "stdout",
          "text": [
            "Looking in indexes: https://pypi.org/simple, https://us-python.pkg.dev/colab-wheels/public/simple/\n",
            "Collecting bitcoin\n",
            "  Downloading bitcoin-1.1.42.tar.gz (36 kB)\n",
            "Building wheels for collected packages: bitcoin\n",
            "  Building wheel for bitcoin (setup.py) ... \u001b[?25l\u001b[?25hdone\n",
            "  Created wheel for bitcoin: filename=bitcoin-1.1.42-py3-none-any.whl size=44423 sha256=a0c55ff74ad95bda3a2cc43f5d81bb0503202d26cec3c16338ad7619fd562c04\n",
            "  Stored in directory: /root/.cache/pip/wheels/6c/66/7d/2b4114252aed67e75a79a1235ce8b2701da915acac6f6d7061\n",
            "Successfully built bitcoin\n",
            "Installing collected packages: bitcoin\n",
            "Successfully installed bitcoin-1.1.42\n"
          ]
        }
      ]
    },
    {
      "cell_type": "code",
      "source": [
        "from bitcoin import *"
      ],
      "metadata": {
        "id": "oC3XLnQAfqgs"
      },
      "execution_count": null,
      "outputs": []
    },
    {
      "cell_type": "code",
      "source": [
        "from bitcoin import *\n",
        "\n",
        "\n",
        "def main():\n",
        "    # Generate new private key\n",
        "    PrivateKey = random_key()\n",
        "    # Generate new public key from private key\n",
        "    PublicKey = privtopub(PrivateKey)\n",
        "    # Create new address from public key\n",
        "    addr = pubtoaddr(PublicKey)\n",
        "\n",
        "    print(\"My Public Address: \" +addr)\n",
        "    print(\"My Private Address: \" + PrivateKey)\n",
        "\n",
        "\n",
        "if __name__ == \"__main__\":\n",
        "    main()"
      ],
      "metadata": {
        "id": "qAzNeAL5fqPU",
        "colab": {
          "base_uri": "https://localhost:8080/"
        },
        "outputId": "a8791f35-8a8b-43f1-bf26-05fcfd8fc211"
      },
      "execution_count": null,
      "outputs": [
        {
          "output_type": "stream",
          "name": "stdout",
          "text": [
            "My Public Address: 173zdf5WPa6mLYbEU82b2w82mNQ2tgBqwX\n",
            "My Private Address: adf45218d7e20f36ee4a50293e16bab4f38f043dff5cee49ca509fd2b553e81a\n"
          ]
        }
      ]
    },
    {
      "cell_type": "code",
      "source": [
        "from bitcoin import *my_private_key = random_key()print(my_private_key)Save it as a .py file \n",
        "and then open your command line program \n",
        "and run the above program like this.python <program location and name>"
      ],
      "metadata": {
        "id": "tJnPRegWfqBU"
      },
      "execution_count": null,
      "outputs": []
    },
    {
      "cell_type": "code",
      "source": [],
      "metadata": {
        "id": "r2NCqeDmcXeW"
      },
      "execution_count": null,
      "outputs": []
    },
    {
      "cell_type": "code",
      "source": [
        "from hashlib import sha256\n",
        "MAX_NONCE = 100000000000\n",
        "\n",
        "def SHA256(text):\n",
        "    return sha256(text.encode(\"ascii\")).hexdigest()\n",
        "\n",
        "def mine(block_number, transactions, previous_hash, prefix_zeros):\n",
        "    prefix_str = '0'*prefix_zeros\n",
        "    for nonce in range(MAX_NONCE):\n",
        "        text = str(block_number) + transactions + previous_hash + str(nonce)\n",
        "        new_hash = SHA256(text)\n",
        "        if new_hash.startswith(prefix_str):\n",
        "            print(f\"Yay! Successfully mined bitcoins with nonce value:{nonce}\")\n",
        "            return new_hash\n",
        "\n",
        "    raise BaseException(f\"Couldn't find correct has after trying {MAX_NONCE} times\")\n",
        "\n",
        "if __name__=='__main__':\n",
        "    transactions='''\n",
        "    Dhaval->Bhavin->20,\n",
        "    Mando->Cara->45\n",
        "    '''\n",
        "    difficulty=4 # try changing this to higher number and you will see it will take more time for mining as difficulty increases\n",
        "    import time\n",
        "    start = time.time()\n",
        "    print(\"start mining\")\n",
        "    new_hash = mine(5,transactions,'1AKVrrKGSDtbLrcW77HPEwrJM2Ej2yFNYw', difficulty)\n",
        "    total_time = str((time.time() - start))\n",
        "    print(f\"end mining. Mining took: {total_time} seconds\")\n",
        "    print(new_hash)"
      ],
      "metadata": {
        "id": "rm0emCP5lRDa",
        "colab": {
          "base_uri": "https://localhost:8080/"
        },
        "outputId": "ba977e5f-b660-4551-af51-354f61db82df"
      },
      "execution_count": null,
      "outputs": [
        {
          "output_type": "stream",
          "name": "stdout",
          "text": [
            "start mining\n",
            "Yay! Successfully mined bitcoins with nonce value:1015\n",
            "end mining. Mining took: 0.005858182907104492 seconds\n",
            "00005e97db2646a553eafc892c723023f8449eb54cbb33bd32ed145f20678cf0\n"
          ]
        }
      ]
    },
    {
      "cell_type": "code",
      "source": [],
      "metadata": {
        "id": "rlnyWK6F9smU"
      },
      "execution_count": null,
      "outputs": []
    },
    {
      "cell_type": "code",
      "source": [
        "from bitcoin import *"
      ],
      "metadata": {
        "id": "X6QVFNdf9siu"
      },
      "execution_count": 6,
      "outputs": []
    },
    {
      "cell_type": "code",
      "source": [
        "private_key = random_key()\n",
        "print(private_key)"
      ],
      "metadata": {
        "colab": {
          "base_uri": "https://localhost:8080/"
        },
        "id": "IcT7Yf0O9sfo",
        "outputId": "0615416a-3b9a-4584-91a5-d921ba02c82d"
      },
      "execution_count": 7,
      "outputs": [
        {
          "output_type": "stream",
          "name": "stdout",
          "text": [
            "3ef3c8470584da3d2c53018997582a752a4325d0a78db879359aa668713a8b4e\n"
          ]
        }
      ]
    },
    {
      "cell_type": "code",
      "source": [],
      "metadata": {
        "id": "E8eWyh-89sc2"
      },
      "execution_count": null,
      "outputs": []
    },
    {
      "cell_type": "code",
      "source": [],
      "metadata": {
        "id": "qBCOaQLE9sSr"
      },
      "execution_count": null,
      "outputs": []
    }
  ]
}