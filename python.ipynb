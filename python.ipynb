{
  "nbformat": 4,
  "nbformat_minor": 0,
  "metadata": {
    "colab": {
      "name": "python.ipynb",
      "provenance": [],
      "authorship_tag": "ABX9TyPVSKTG0yYNa4M17HbENpYB",
      "include_colab_link": true
    },
    "kernelspec": {
      "name": "python3",
      "display_name": "Python 3"
    }
  },
  "cells": [
    {
      "cell_type": "markdown",
      "metadata": {
        "id": "view-in-github",
        "colab_type": "text"
      },
      "source": [
        "<a href=\"https://colab.research.google.com/github/jiriyaporn/data_viz/blob/main/python.ipynb\" target=\"_parent\"><img src=\"https://colab.research.google.com/assets/colab-badge.svg\" alt=\"Open In Colab\"/></a>"
      ]
    },
    {
      "cell_type": "markdown",
      "metadata": {
        "id": "6y1f6gkDRjki"
      },
      "source": [
        "Varibles"
      ]
    },
    {
      "cell_type": "code",
      "metadata": {
        "colab": {
          "base_uri": "https://localhost:8080/"
        },
        "id": "HjJt1FcCNYr8",
        "outputId": "9ffe6a69-8750-4d47-ddeb-bc90e95e9dbf"
      },
      "source": [
        "3.1415"
      ],
      "execution_count": null,
      "outputs": [
        {
          "output_type": "execute_result",
          "data": {
            "text/plain": [
              "3.1415"
            ]
          },
          "metadata": {
            "tags": []
          },
          "execution_count": 2
        }
      ]
    },
    {
      "cell_type": "code",
      "metadata": {
        "id": "_553_7qxOSSv"
      },
      "source": [
        "pi = 3.1415"
      ],
      "execution_count": null,
      "outputs": []
    },
    {
      "cell_type": "markdown",
      "metadata": {
        "id": "SAJmiqDpRShT"
      },
      "source": [
        "หลักการตั้งชื่อตัวแปรเบื้องต้น\r\n",
        "\r\n",
        "1. ตั้งให้สื่อ\r\n",
        "2. ภาษาอังกฤษ\r\n",
        "3. ใช้ตัวเลขได้แต่ห้ามขึ้นต้นด้วยตัวเลข\r\n",
        "4. ห้ามเว้นวรรค"
      ]
    },
    {
      "cell_type": "code",
      "metadata": {
        "colab": {
          "base_uri": "https://localhost:8080/"
        },
        "id": "enh8kQ9bOj2M",
        "outputId": "549169e3-e556-4c1b-ae38-0945a5c1125d"
      },
      "source": [
        "pi"
      ],
      "execution_count": null,
      "outputs": [
        {
          "output_type": "execute_result",
          "data": {
            "text/plain": [
              "3.1415"
            ]
          },
          "metadata": {
            "tags": []
          },
          "execution_count": 8
        }
      ]
    },
    {
      "cell_type": "code",
      "metadata": {
        "colab": {
          "base_uri": "https://localhost:8080/",
          "height": 163
        },
        "id": "jPFVmm34O18c",
        "outputId": "38b639ad-6e58-4f15-c363-0dd63692f5e6"
      },
      "source": [
        "int : จำนวนเต็ม"
      ],
      "execution_count": null,
      "outputs": [
        {
          "output_type": "error",
          "ename": "NameError",
          "evalue": "ignored",
          "traceback": [
            "\u001b[0;31m---------------------------------------------------------------------------\u001b[0m",
            "\u001b[0;31mNameError\u001b[0m                                 Traceback (most recent call last)",
            "\u001b[0;32m<ipython-input-9-64e148989f62>\u001b[0m in \u001b[0;36m<module>\u001b[0;34m()\u001b[0m\n\u001b[0;32m----> 1\u001b[0;31m \u001b[0mint\u001b[0m \u001b[0;34m:\u001b[0m \u001b[0mจำนวนเต\u001b[0m\u001b[0;31m็\u001b[0m\u001b[0mม\u001b[0m\u001b[0;34m\u001b[0m\u001b[0;34m\u001b[0m\u001b[0m\n\u001b[0m",
            "\u001b[0;31mNameError\u001b[0m: name 'จํานวนเต็ม' is not defined"
          ]
        }
      ]
    },
    {
      "cell_type": "code",
      "metadata": {
        "id": "tU4iNL42O7Py"
      },
      "source": [
        "a = 10 "
      ],
      "execution_count": null,
      "outputs": []
    },
    {
      "cell_type": "code",
      "metadata": {
        "colab": {
          "base_uri": "https://localhost:8080/"
        },
        "id": "uAyhX2mTPDV4",
        "outputId": "bc5c7f60-e9c0-45ba-c221-8a0f94b60f0a"
      },
      "source": [
        "print(a)"
      ],
      "execution_count": null,
      "outputs": [
        {
          "output_type": "stream",
          "text": [
            "10\n"
          ],
          "name": "stdout"
        }
      ]
    },
    {
      "cell_type": "markdown",
      "metadata": {
        "id": "8x_kkiHPPJJT"
      },
      "source": [
        "float : จำนวนจริง"
      ]
    },
    {
      "cell_type": "code",
      "metadata": {
        "colab": {
          "base_uri": "https://localhost:8080/"
        },
        "id": "vn0MNeY5Pd5S",
        "outputId": "395560dd-4dfd-4a72-bd7c-010308bee69a"
      },
      "source": [
        "b = 10\r\n",
        "print(b)"
      ],
      "execution_count": null,
      "outputs": [
        {
          "output_type": "stream",
          "text": [
            "10\n"
          ],
          "name": "stdout"
        }
      ]
    },
    {
      "cell_type": "markdown",
      "metadata": {
        "id": "5GOmFtC0Pj0D"
      },
      "source": [
        "char : ข้อความหรือตัวอังษร ข้อความแท็ก หรือ string"
      ]
    },
    {
      "cell_type": "code",
      "metadata": {
        "id": "pDpNFtotPqAm"
      },
      "source": [
        ""
      ],
      "execution_count": null,
      "outputs": []
    },
    {
      "cell_type": "markdown",
      "metadata": {
        "id": "QfLx1ZzkPthc"
      },
      "source": [
        "# hastag, sharp ใช้สำหรับคอมเม้น"
      ]
    },
    {
      "cell_type": "code",
      "metadata": {
        "id": "TsHn0O5nPqi1"
      },
      "source": [
        ""
      ],
      "execution_count": null,
      "outputs": []
    },
    {
      "cell_type": "code",
      "metadata": {
        "colab": {
          "base_uri": "https://localhost:8080/"
        },
        "id": "itCFOaLrP6pT",
        "outputId": "763edbbf-345a-4140-989c-a606b7cbe117"
      },
      "source": [
        "c = 'จิริยาพร' #เราจะบอกตัวแปรเป็นตัวอักษรหรือข้อความโดยการใช้ '' ,\"\" ล้อมรอบ\r\n",
        "print(c)"
      ],
      "execution_count": null,
      "outputs": [
        {
          "output_type": "stream",
          "text": [
            "จิริยาพร\n"
          ],
          "name": "stdout"
        }
      ]
    },
    {
      "cell_type": "markdown",
      "metadata": {
        "id": "wvk8FC98Q9w1"
      },
      "source": [
        "ตัวเลขที่เป็น string ไม่สามารถ + - * / กับตัวเลขได้"
      ]
    },
    {
      "cell_type": "code",
      "metadata": {
        "id": "pmJHntihQ1Vj"
      },
      "source": [
        "d = '10'\r\n"
      ],
      "execution_count": null,
      "outputs": []
    },
    {
      "cell_type": "markdown",
      "metadata": {
        "id": "Wrp91OYfRtDq"
      },
      "source": [
        "### variable casting (การเปลี่ยนชนิดข้อมูล)"
      ]
    },
    {
      "cell_type": "code",
      "metadata": {
        "id": "BRi52I_eSDs1"
      },
      "source": [
        ""
      ],
      "execution_count": null,
      "outputs": []
    },
    {
      "cell_type": "code",
      "metadata": {
        "colab": {
          "base_uri": "https://localhost:8080/",
          "height": 163
        },
        "id": "ocu1ZfbOSJ4r",
        "outputId": "5e12d425-d11e-441e-b431-8b08f12d324e"
      },
      "source": [
        "int(d) + 1"
      ],
      "execution_count": null,
      "outputs": [
        {
          "output_type": "error",
          "ename": "NameError",
          "evalue": "ignored",
          "traceback": [
            "\u001b[0;31m---------------------------------------------------------------------------\u001b[0m",
            "\u001b[0;31mNameError\u001b[0m                                 Traceback (most recent call last)",
            "\u001b[0;32m<ipython-input-16-582b9c71090e>\u001b[0m in \u001b[0;36m<module>\u001b[0;34m()\u001b[0m\n\u001b[0;32m----> 1\u001b[0;31m \u001b[0mint\u001b[0m\u001b[0;34m(\u001b[0m\u001b[0md\u001b[0m\u001b[0;34m)\u001b[0m \u001b[0;34m+\u001b[0m \u001b[0;36m1\u001b[0m\u001b[0;34m\u001b[0m\u001b[0;34m\u001b[0m\u001b[0m\n\u001b[0m",
            "\u001b[0;31mNameError\u001b[0m: name 'd' is not defined"
          ]
        }
      ]
    },
    {
      "cell_type": "code",
      "metadata": {
        "colab": {
          "base_uri": "https://localhost:8080/",
          "height": 230
        },
        "id": "zycHi8oZSK1l",
        "outputId": "8dffe42d-15fc-4408-85ed-4777ddb48495"
      },
      "source": [
        "print(a)\r\n",
        "print(float(a))\r\n",
        "print(srt(a))"
      ],
      "execution_count": null,
      "outputs": [
        {
          "output_type": "stream",
          "text": [
            "10\n",
            "10.0\n"
          ],
          "name": "stdout"
        },
        {
          "output_type": "error",
          "ename": "NameError",
          "evalue": "ignored",
          "traceback": [
            "\u001b[0;31m---------------------------------------------------------------------------\u001b[0m",
            "\u001b[0;31mNameError\u001b[0m                                 Traceback (most recent call last)",
            "\u001b[0;32m<ipython-input-18-36be43655a17>\u001b[0m in \u001b[0;36m<module>\u001b[0;34m()\u001b[0m\n\u001b[1;32m      1\u001b[0m \u001b[0mprint\u001b[0m\u001b[0;34m(\u001b[0m\u001b[0ma\u001b[0m\u001b[0;34m)\u001b[0m\u001b[0;34m\u001b[0m\u001b[0;34m\u001b[0m\u001b[0m\n\u001b[1;32m      2\u001b[0m \u001b[0mprint\u001b[0m\u001b[0;34m(\u001b[0m\u001b[0mfloat\u001b[0m\u001b[0;34m(\u001b[0m\u001b[0ma\u001b[0m\u001b[0;34m)\u001b[0m\u001b[0;34m)\u001b[0m\u001b[0;34m\u001b[0m\u001b[0;34m\u001b[0m\u001b[0m\n\u001b[0;32m----> 3\u001b[0;31m \u001b[0mprint\u001b[0m\u001b[0;34m(\u001b[0m\u001b[0msrt\u001b[0m\u001b[0;34m(\u001b[0m\u001b[0ma\u001b[0m\u001b[0;34m)\u001b[0m\u001b[0;34m)\u001b[0m\u001b[0;34m\u001b[0m\u001b[0;34m\u001b[0m\u001b[0m\n\u001b[0m",
            "\u001b[0;31mNameError\u001b[0m: name 'srt' is not defined"
          ]
        }
      ]
    },
    {
      "cell_type": "code",
      "metadata": {
        "id": "nDaVWW9DSkF4"
      },
      "source": [
        ""
      ],
      "execution_count": null,
      "outputs": []
    },
    {
      "cell_type": "markdown",
      "metadata": {
        "id": "GvKg7VC0SmUE"
      },
      "source": [
        "Opeeration (Operators +- */)"
      ]
    },
    {
      "cell_type": "code",
      "metadata": {
        "colab": {
          "base_uri": "https://localhost:8080/"
        },
        "id": "sdfm76oTSuGF",
        "outputId": "478d586d-d03a-456a-d076-d9d337266ca5"
      },
      "source": [
        "a+b"
      ],
      "execution_count": null,
      "outputs": [
        {
          "output_type": "execute_result",
          "data": {
            "text/plain": [
              "20"
            ]
          },
          "metadata": {
            "tags": []
          },
          "execution_count": 19
        }
      ]
    },
    {
      "cell_type": "code",
      "metadata": {
        "colab": {
          "base_uri": "https://localhost:8080/"
        },
        "id": "OCkqYDtUS15h",
        "outputId": "6a3b68ca-7cac-4e67-9897-05a080fc8339"
      },
      "source": [
        "ab = a+b\r\n",
        "print(ab)"
      ],
      "execution_count": null,
      "outputs": [
        {
          "output_type": "stream",
          "text": [
            "20\n"
          ],
          "name": "stdout"
        }
      ]
    },
    {
      "cell_type": "code",
      "metadata": {
        "id": "awnjTqk3S85z"
      },
      "source": [
        ""
      ],
      "execution_count": null,
      "outputs": []
    },
    {
      "cell_type": "markdown",
      "metadata": {
        "id": "cbR3Q_GxTCPz"
      },
      "source": [
        "% คือหมาย modulo"
      ]
    },
    {
      "cell_type": "code",
      "metadata": {
        "colab": {
          "base_uri": "https://localhost:8080/"
        },
        "id": "zA9mrMowTJhn",
        "outputId": "f276aa39-7a42-4a24-ea7b-55a68b380006"
      },
      "source": [
        "5%3"
      ],
      "execution_count": null,
      "outputs": [
        {
          "output_type": "execute_result",
          "data": {
            "text/plain": [
              "2"
            ]
          },
          "metadata": {
            "tags": []
          },
          "execution_count": 22
        }
      ]
    },
    {
      "cell_type": "code",
      "metadata": {
        "colab": {
          "base_uri": "https://localhost:8080/"
        },
        "id": "fXyoya1gTL-3",
        "outputId": "a439cbf4-2677-49f1-bf22-17d005def277"
      },
      "source": [
        "7%3"
      ],
      "execution_count": null,
      "outputs": [
        {
          "output_type": "execute_result",
          "data": {
            "text/plain": [
              "1"
            ]
          },
          "metadata": {
            "tags": []
          },
          "execution_count": 23
        }
      ]
    },
    {
      "cell_type": "code",
      "metadata": {
        "id": "tBRmFK_wTQCZ"
      },
      "source": [
        ""
      ],
      "execution_count": null,
      "outputs": []
    },
    {
      "cell_type": "markdown",
      "metadata": {
        "id": "sJ-176UwTRuj"
      },
      "source": [
        "### คำสั่ง print แบบพิเศษ (การ format string) "
      ]
    },
    {
      "cell_type": "code",
      "metadata": {
        "colab": {
          "base_uri": "https://localhost:8080/"
        },
        "id": "O5yCSjZdTbMP",
        "outputId": "627d579d-358e-4721-eff3-db229c809d73"
      },
      "source": [
        "print ('ตัวแปร') #สิ่งที่อยู่ข้างในวงเล็บคือตัวแปร และ string"
      ],
      "execution_count": null,
      "outputs": [
        {
          "output_type": "stream",
          "text": [
            "ตัวแปร\n"
          ],
          "name": "stdout"
        }
      ]
    },
    {
      "cell_type": "code",
      "metadata": {
        "colab": {
          "base_uri": "https://localhost:8080/"
        },
        "id": "mrizsaaJT4Ps",
        "outputId": "034ae266-b1ab-4253-84c8-a85a40dde2a1"
      },
      "source": [
        "print (f'% คือการหารเอาเศษ เช่น  7%3 = {7%3} ') # เพิ่ม f หน้า และใช้ 'string' และใช้ {} ใส่ code"
      ],
      "execution_count": null,
      "outputs": [
        {
          "output_type": "stream",
          "text": [
            "% คือการหารเอาเศษ เช่น  7%3 = 1 \n"
          ],
          "name": "stdout"
        }
      ]
    },
    {
      "cell_type": "code",
      "metadata": {
        "colab": {
          "base_uri": "https://localhost:8080/"
        },
        "id": "mDNSAkoHU_V9",
        "outputId": "d4e48567-58f3-4d4e-ff24-291c182a762d"
      },
      "source": [
        "print(f'% คือการหารเอาส่วน เช่น 7%3 แต่\\n / คือการหารเอาส่วน = {7/3} ' ) # \\n คือการขึ้นบันทัดใหม่"
      ],
      "execution_count": null,
      "outputs": [
        {
          "output_type": "stream",
          "text": [
            "% คือการหารเอาส่วน เช่น 7%3 แต่\n",
            " / คือการหารเอาส่วน = 2.3333333333333335 \n"
          ],
          "name": "stdout"
        }
      ]
    },
    {
      "cell_type": "code",
      "metadata": {
        "id": "nyMx0K_lUzQt",
        "colab": {
          "base_uri": "https://localhost:8080/",
          "height": 130
        },
        "outputId": "4e2cf662-06b9-4cc4-b6a2-2b6cc42875e2"
      },
      "source": [
        "print(f'9%2' = {9%2 }) \\n print(f'9%2 = {9/2}') "
      ],
      "execution_count": null,
      "outputs": [
        {
          "output_type": "error",
          "ename": "SyntaxError",
          "evalue": "ignored",
          "traceback": [
            "\u001b[0;36m  File \u001b[0;32m\"<ipython-input-29-392b7d00366e>\"\u001b[0;36m, line \u001b[0;32m1\u001b[0m\n\u001b[0;31m    print(f'9%2' = {9%2 }) \\n print(f'9%2 = {9/2}')\u001b[0m\n\u001b[0m                                                    ^\u001b[0m\n\u001b[0;31mSyntaxError\u001b[0m\u001b[0;31m:\u001b[0m unexpected character after line continuation character\n"
          ]
        }
      ]
    },
    {
      "cell_type": "code",
      "metadata": {
        "colab": {
          "base_uri": "https://localhost:8080/"
        },
        "id": "dFWsUc1SZJ_m",
        "outputId": "fd6c640b-e6df-4b04-cc4c-71ce39f2e285"
      },
      "source": [
        "print(f'% คือการหารเอาเศษ เช่น 7%3 = {7%3} \\\\\r\n",
        "      แต่\\n/ คือการหารปกติ เช่น 7/3 = {7/3} \\\\\r\n",
        "      และ \\n// คือการหารเอาส่วน เช่น 7//3 = {7//3} \\\\\r\n",
        "      หรือ \\n ใช้ int () เพื่อเพิ่มหารเอาส่วน  เช่น int (7/3) = {int(7/3)}' ) # \\n คือการขึ้นบันทัดใหม่"
      ],
      "execution_count": null,
      "outputs": [
        {
          "output_type": "stream",
          "text": [
            "% คือการหารเอาเศษ เช่น 7%3 = 1 \\      แต่\n",
            "/ คือการหารปกติ เช่น 7/3 = 2.3333333333333335 \\      และ \n",
            "// คือการหารเอาส่วน เช่น 7//3 = 2 \\      หรือ \n",
            " ใช้ int () เพื่อเพิ่มหารเอาส่วน  เช่น int (7/3) = 2\n"
          ],
          "name": "stdout"
        }
      ]
    },
    {
      "cell_type": "code",
      "metadata": {
        "id": "DDu9Hn9xaobP"
      },
      "source": [
        ""
      ],
      "execution_count": null,
      "outputs": []
    },
    {
      "cell_type": "markdown",
      "metadata": {
        "id": "N-EGWB8zapml"
      },
      "source": [
        "##Data stucture (โครงสร้างข้อมูล)"
      ]
    },
    {
      "cell_type": "code",
      "metadata": {
        "id": "MmWK59LPay_w"
      },
      "source": [
        ""
      ],
      "execution_count": null,
      "outputs": []
    },
    {
      "cell_type": "markdown",
      "metadata": {
        "id": "Ndktsizya0uj"
      },
      "source": [
        "#list มี 2 แบบ"
      ]
    },
    {
      "cell_type": "code",
      "metadata": {
        "id": "A0sFEfEwa6bI"
      },
      "source": [
        ""
      ],
      "execution_count": null,
      "outputs": []
    },
    {
      "cell_type": "markdown",
      "metadata": {
        "id": "fBnvRZKpa7PK"
      },
      "source": [
        "แบบที่ 1> square brackets"
      ]
    },
    {
      "cell_type": "code",
      "metadata": {
        "id": "qvq7cqyPbC_L"
      },
      "source": [
        "list_a = []"
      ],
      "execution_count": null,
      "outputs": []
    },
    {
      "cell_type": "code",
      "metadata": {
        "colab": {
          "base_uri": "https://localhost:8080/"
        },
        "id": "7B91-f2GbJbh",
        "outputId": "4ab57f71-17f8-4ecf-a061-ac315e653b67"
      },
      "source": [
        "list_b = [1,5,'v']\r\n",
        "print(list_b)"
      ],
      "execution_count": null,
      "outputs": [
        {
          "output_type": "stream",
          "text": [
            "[1, 5, 'v']\n"
          ],
          "name": "stdout"
        }
      ]
    },
    {
      "cell_type": "code",
      "metadata": {
        "id": "4tzUAkNYbPDE"
      },
      "source": [
        ""
      ],
      "execution_count": null,
      "outputs": []
    },
    {
      "cell_type": "markdown",
      "metadata": {
        "id": "veoPPOSlbWEb"
      },
      "source": [
        "## ลำดับที่อยู่ใน list มีความสำคัญ"
      ]
    },
    {
      "cell_type": "markdown",
      "metadata": {
        "id": "6TIgucVWbkh3"
      },
      "source": [
        "### ลำดับที่อยู่ใน list มีความสำคะญ (ลำดับใน list เริ่มจาก 0 1 2 ...)"
      ]
    },
    {
      "cell_type": "code",
      "metadata": {
        "colab": {
          "base_uri": "https://localhost:8080/"
        },
        "id": "DciQ0nXZbdzQ",
        "outputId": "601f6dd8-85e7-4df4-eda1-3a282279bfcc"
      },
      "source": [
        "list_b[1]"
      ],
      "execution_count": null,
      "outputs": [
        {
          "output_type": "execute_result",
          "data": {
            "text/plain": [
              "5"
            ]
          },
          "metadata": {
            "tags": []
          },
          "execution_count": 38
        }
      ]
    },
    {
      "cell_type": "code",
      "metadata": {
        "id": "MuIXxLvwbiTe"
      },
      "source": [
        ""
      ],
      "execution_count": null,
      "outputs": []
    },
    {
      "cell_type": "markdown",
      "metadata": {
        "id": "pdFK5Zkjbz2z"
      },
      "source": [
        "แบบที่ 2 "
      ]
    },
    {
      "cell_type": "code",
      "metadata": {
        "colab": {
          "base_uri": "https://localhost:8080/"
        },
        "id": "dxdHsXDSb2FT",
        "outputId": "5701bee3-2c83-410c-ad66-e660dd478521"
      },
      "source": [
        "list_c = list()\r\n",
        "print(list_c)"
      ],
      "execution_count": null,
      "outputs": [
        {
          "output_type": "stream",
          "text": [
            "[]\n"
          ],
          "name": "stdout"
        }
      ]
    },
    {
      "cell_type": "code",
      "metadata": {
        "id": "PvIX4TFVcMI7"
      },
      "source": [
        ""
      ],
      "execution_count": null,
      "outputs": []
    },
    {
      "cell_type": "markdown",
      "metadata": {
        "id": "xLMQxC8jcOHd"
      },
      "source": [
        "append() เพิ่มสมาชิกใน list"
      ]
    },
    {
      "cell_type": "code",
      "metadata": {
        "colab": {
          "base_uri": "https://localhost:8080/"
        },
        "id": "I5NqdsLocT6y",
        "outputId": "e9457d0d-cd81-4880-8012-b94d8e9f758e"
      },
      "source": [
        "list_b.append('u')\r\n",
        "print(list_b)"
      ],
      "execution_count": null,
      "outputs": [
        {
          "output_type": "stream",
          "text": [
            "[1, 5, 'v', 'u']\n"
          ],
          "name": "stdout"
        }
      ]
    },
    {
      "cell_type": "code",
      "metadata": {
        "colab": {
          "base_uri": "https://localhost:8080/",
          "height": 35
        },
        "id": "mIOiNplQceVu",
        "outputId": "1572b604-ff76-4ad4-e14f-5ca58a10b7ed"
      },
      "source": [
        "list_b.pop() ### ดึงตัวสุดท้ายออกจาก list"
      ],
      "execution_count": null,
      "outputs": [
        {
          "output_type": "execute_result",
          "data": {
            "application/vnd.google.colaboratory.intrinsic+json": {
              "type": "string"
            },
            "text/plain": [
              "'u'"
            ]
          },
          "metadata": {
            "tags": []
          },
          "execution_count": 41
        }
      ]
    },
    {
      "cell_type": "code",
      "metadata": {
        "colab": {
          "base_uri": "https://localhost:8080/"
        },
        "id": "r_cgn4LicrRh",
        "outputId": "60b6849a-71bb-49b5-dca1-ab155a408bb1"
      },
      "source": [
        "list_b"
      ],
      "execution_count": null,
      "outputs": [
        {
          "output_type": "execute_result",
          "data": {
            "text/plain": [
              "[1, 5, 'v']"
            ]
          },
          "metadata": {
            "tags": []
          },
          "execution_count": 42
        }
      ]
    },
    {
      "cell_type": "code",
      "metadata": {
        "colab": {
          "base_uri": "https://localhost:8080/"
        },
        "id": "mY8KCj2GctlB",
        "outputId": "5f031ef1-2c0d-465d-d1be-baa1f9fbff54"
      },
      "source": [
        "list_b.append(list_a)\r\n",
        "print(list_b)"
      ],
      "execution_count": null,
      "outputs": [
        {
          "output_type": "stream",
          "text": [
            "[1, 5, 'v', []]\n"
          ],
          "name": "stdout"
        }
      ]
    },
    {
      "cell_type": "code",
      "metadata": {
        "id": "eY06XG21c49V"
      },
      "source": [
        ""
      ],
      "execution_count": null,
      "outputs": []
    },
    {
      "cell_type": "markdown",
      "metadata": {
        "id": "yQ1zMUdQc6f8"
      },
      "source": [
        "###String >list of characters"
      ]
    },
    {
      "cell_type": "code",
      "metadata": {
        "colab": {
          "base_uri": "https://localhost:8080/",
          "height": 35
        },
        "id": "sVT8-PYUdB4R",
        "outputId": "fc8f0cd1-7ef0-4498-9377-4b9becd32e62"
      },
      "source": [
        "t = 'python is easy'\r\n",
        "t"
      ],
      "execution_count": null,
      "outputs": [
        {
          "output_type": "execute_result",
          "data": {
            "application/vnd.google.colaboratory.intrinsic+json": {
              "type": "string"
            },
            "text/plain": [
              "'python is easy'"
            ]
          },
          "metadata": {
            "tags": []
          },
          "execution_count": 44
        }
      ]
    },
    {
      "cell_type": "code",
      "metadata": {
        "colab": {
          "base_uri": "https://localhost:8080/"
        },
        "id": "GE0n5RsXdKxG",
        "outputId": "2833f2f4-51bd-4f08-c54f-7ef7278cfd5d"
      },
      "source": [
        "len(list_b) # len คือคำสั่งตรวจสอบความยาวของ list"
      ],
      "execution_count": null,
      "outputs": [
        {
          "output_type": "execute_result",
          "data": {
            "text/plain": [
              "4"
            ]
          },
          "metadata": {
            "tags": []
          },
          "execution_count": 46
        }
      ]
    },
    {
      "cell_type": "code",
      "metadata": {
        "colab": {
          "base_uri": "https://localhost:8080/"
        },
        "id": "XqXxWbCRdUfy",
        "outputId": "2ffe0531-fada-492b-ff74-9c7bb192ed67"
      },
      "source": [
        "len(t)"
      ],
      "execution_count": null,
      "outputs": [
        {
          "output_type": "execute_result",
          "data": {
            "text/plain": [
              "14"
            ]
          },
          "metadata": {
            "tags": []
          },
          "execution_count": 47
        }
      ]
    },
    {
      "cell_type": "code",
      "metadata": {
        "id": "bmW03IKOdsgS"
      },
      "source": [
        ""
      ],
      "execution_count": null,
      "outputs": []
    },
    {
      "cell_type": "markdown",
      "metadata": {
        "id": "TFizy8MHdvK0"
      },
      "source": [
        "### access a member of list (list & string)"
      ]
    },
    {
      "cell_type": "code",
      "metadata": {
        "id": "8jD77N8feGWF"
      },
      "source": [
        ""
      ],
      "execution_count": null,
      "outputs": []
    },
    {
      "cell_type": "markdown",
      "metadata": {
        "id": "wuxCLDZ2eHJj"
      },
      "source": [
        "โดยการเริ่มนับจะเริ่มจาก 0\r\n",
        "0 คือสมาชิกตัวแรก"
      ]
    },
    {
      "cell_type": "code",
      "metadata": {
        "colab": {
          "base_uri": "https://localhost:8080/",
          "height": 35
        },
        "id": "TeCMliNmeUr8",
        "outputId": "5055761f-8a76-41b3-ebda-15cf651e3998"
      },
      "source": [
        "t[1]"
      ],
      "execution_count": null,
      "outputs": [
        {
          "output_type": "execute_result",
          "data": {
            "application/vnd.google.colaboratory.intrinsic+json": {
              "type": "string"
            },
            "text/plain": [
              "'y'"
            ]
          },
          "metadata": {
            "tags": []
          },
          "execution_count": 48
        }
      ]
    },
    {
      "cell_type": "code",
      "metadata": {
        "colab": {
          "base_uri": "https://localhost:8080/",
          "height": 35
        },
        "id": "Ngf1iab6eYId",
        "outputId": "72d4da5e-4981-489a-e438-4f54a8a8d374"
      },
      "source": [
        "t[-1]"
      ],
      "execution_count": null,
      "outputs": [
        {
          "output_type": "execute_result",
          "data": {
            "application/vnd.google.colaboratory.intrinsic+json": {
              "type": "string"
            },
            "text/plain": [
              "'y'"
            ]
          },
          "metadata": {
            "tags": []
          },
          "execution_count": 49
        }
      ]
    },
    {
      "cell_type": "code",
      "metadata": {
        "id": "gQMbyxDYeao4"
      },
      "source": [
        ""
      ],
      "execution_count": null,
      "outputs": []
    },
    {
      "cell_type": "markdown",
      "metadata": {
        "id": "CrunMzx1en5e"
      },
      "source": [
        "### ตัวที่อยู่ข้างใน[] เราเรียก index (ตัวชี้)"
      ]
    },
    {
      "cell_type": "code",
      "metadata": {
        "colab": {
          "base_uri": "https://localhost:8080/",
          "height": 35
        },
        "id": "5Vn7IEl3e0Cs",
        "outputId": "cb47cced-c328-431f-ead8-7b44c195a5a5"
      },
      "source": [
        "t[-4]"
      ],
      "execution_count": null,
      "outputs": [
        {
          "output_type": "execute_result",
          "data": {
            "application/vnd.google.colaboratory.intrinsic+json": {
              "type": "string"
            },
            "text/plain": [
              "'e'"
            ]
          },
          "metadata": {
            "tags": []
          },
          "execution_count": 51
        }
      ]
    },
    {
      "cell_type": "markdown",
      "metadata": {
        "id": "OXmSQJ4ueeXd"
      },
      "source": [
        "###list *slicing* สามารถทำได้โดนใช้![Ep4eY94UYAAYKHE.jfif](data:image/jpeg;base64,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) colon\r\n",
        " [a:b]->[a,b)"
      ]
    },
    {
      "cell_type": "code",
      "metadata": {
        "colab": {
          "base_uri": "https://localhost:8080/",
          "height": 35
        },
        "id": "Nao36BV2elLp",
        "outputId": "cdecbc49-c660-4b7e-e71c-3fabe11f6316"
      },
      "source": [
        "t[7:9]"
      ],
      "execution_count": null,
      "outputs": [
        {
          "output_type": "execute_result",
          "data": {
            "application/vnd.google.colaboratory.intrinsic+json": {
              "type": "string"
            },
            "text/plain": [
              "'is'"
            ]
          },
          "metadata": {
            "tags": []
          },
          "execution_count": 52
        }
      ]
    },
    {
      "cell_type": "code",
      "metadata": {
        "colab": {
          "base_uri": "https://localhost:8080/"
        },
        "id": "wZyrUSATgWK-",
        "outputId": "e09fa63c-643d-4501-b9cc-fb82a94688f5"
      },
      "source": [
        "print(t)\r\n",
        "print(t[7:9])"
      ],
      "execution_count": null,
      "outputs": [
        {
          "output_type": "stream",
          "text": [
            "python is easy\n",
            "is\n"
          ],
          "name": "stdout"
        }
      ]
    },
    {
      "cell_type": "code",
      "metadata": {
        "id": "3YyWUz0Xfkwo"
      },
      "source": [
        ""
      ],
      "execution_count": null,
      "outputs": []
    },
    {
      "cell_type": "markdown",
      "metadata": {
        "id": "wppiuHm3hDcW"
      },
      "source": [
        "ถ้าเว้นว่างหน้า colon หมายความว่าหน้า : เริ่มตั้งแต่ตัวแรก\r\n",
        "ถ้าเว้นว่างหลัง : หมายความว่า ไปจนถึงตัวสุดท้าย"
      ]
    },
    {
      "cell_type": "code",
      "metadata": {
        "colab": {
          "base_uri": "https://localhost:8080/"
        },
        "id": "MKoIe5HOhZVj",
        "outputId": "4ac04d1e-308a-4bd0-c7eb-c95010cd1015"
      },
      "source": [
        "print(t)\r\n",
        "print(t[:6])\r\n",
        "print(t[10:])\r\n",
        "print(t[-4:])\r\n",
        "print(t[:])"
      ],
      "execution_count": null,
      "outputs": [
        {
          "output_type": "stream",
          "text": [
            "python is easy\n",
            "python\n",
            "easy\n",
            "easy\n",
            "python is easy\n"
          ],
          "name": "stdout"
        }
      ]
    },
    {
      "cell_type": "code",
      "metadata": {
        "id": "61woAsNthg9X"
      },
      "source": [
        ""
      ],
      "execution_count": null,
      "outputs": []
    },
    {
      "cell_type": "markdown",
      "metadata": {
        "id": "ZwWUTBhfh1yc"
      },
      "source": [
        "###เราสามารถเอา list มาต่อกันด้วย +\r\n",
        "##functions for string"
      ]
    },
    {
      "cell_type": "code",
      "metadata": {
        "colab": {
          "base_uri": "https://localhost:8080/",
          "height": 35
        },
        "id": "T8GCMBYch8FZ",
        "outputId": "c88c164b-dd31-4f42-bf1d-7681cd1971da"
      },
      "source": [
        "t+ '??'"
      ],
      "execution_count": null,
      "outputs": [
        {
          "output_type": "execute_result",
          "data": {
            "application/vnd.google.colaboratory.intrinsic+json": {
              "type": "string"
            },
            "text/plain": [
              "'python is easy??'"
            ]
          },
          "metadata": {
            "tags": []
          },
          "execution_count": 59
        }
      ]
    },
    {
      "cell_type": "code",
      "metadata": {
        "colab": {
          "base_uri": "https://localhost:8080/"
        },
        "id": "5Tvu86lYiQh6",
        "outputId": "de0145bb-7e1b-4aff-baa9-bfb2ffdbad26"
      },
      "source": [
        "list_a + list_b ## ไม่สามารถเอา list ปกตอมาต่อกับ string "
      ],
      "execution_count": null,
      "outputs": [
        {
          "output_type": "execute_result",
          "data": {
            "text/plain": [
              "[1, 5, 'v', []]"
            ]
          },
          "metadata": {
            "tags": []
          },
          "execution_count": 62
        }
      ]
    },
    {
      "cell_type": "code",
      "metadata": {
        "colab": {
          "base_uri": "https://localhost:8080/"
        },
        "id": "7HGwR0Rfii8r",
        "outputId": "edaf0deb-dd63-4d5c-a062-6392f1e62ba8"
      },
      "source": [
        "list_b + list_b"
      ],
      "execution_count": null,
      "outputs": [
        {
          "output_type": "execute_result",
          "data": {
            "text/plain": [
              "[1, 5, 'v', [], 1, 5, 'v', []]"
            ]
          },
          "metadata": {
            "tags": []
          },
          "execution_count": 61
        }
      ]
    },
    {
      "cell_type": "code",
      "metadata": {
        "id": "sbjCd_F6in38"
      },
      "source": [
        ""
      ],
      "execution_count": null,
      "outputs": []
    },
    {
      "cell_type": "markdown",
      "metadata": {
        "id": "IFil455fi6uW"
      },
      "source": [
        "#### การแบ่ง string ตามสัญลักษณ์ที่กำหนด ->split string (c)"
      ]
    },
    {
      "cell_type": "code",
      "metadata": {
        "colab": {
          "base_uri": "https://localhost:8080/"
        },
        "id": "o0m_8JnLjLX9",
        "outputId": "98540485-23bd-4b53-c734-9a886482aaab"
      },
      "source": [
        "t.split(' ')"
      ],
      "execution_count": null,
      "outputs": [
        {
          "output_type": "execute_result",
          "data": {
            "text/plain": [
              "['python', 'is', 'easy']"
            ]
          },
          "metadata": {
            "tags": []
          },
          "execution_count": 63
        }
      ]
    },
    {
      "cell_type": "code",
      "metadata": {
        "id": "RQ8pv8NvjRUH"
      },
      "source": [
        "time = '12:30:15'"
      ],
      "execution_count": null,
      "outputs": []
    },
    {
      "cell_type": "code",
      "metadata": {
        "colab": {
          "base_uri": "https://localhost:8080/"
        },
        "id": "UPP1TUJtjX93",
        "outputId": "10a18ae3-f601-40f9-8ef1-09376de93988"
      },
      "source": [
        "time.split(' : ')"
      ],
      "execution_count": null,
      "outputs": [
        {
          "output_type": "execute_result",
          "data": {
            "text/plain": [
              "['12:30:15']"
            ]
          },
          "metadata": {
            "tags": []
          },
          "execution_count": 66
        }
      ]
    },
    {
      "cell_type": "code",
      "metadata": {
        "colab": {
          "base_uri": "https://localhost:8080/",
          "height": 130
        },
        "id": "PyvaleUyjeLl",
        "outputId": "8f231bee-426c-4627-c6db-ce5998fb48c9"
      },
      "source": [
        "t_sp = t.split(' : ')\r\n",
        "print(t_sp)\r\n",
        "\r\n",
        " ###วิธีรวมกับ\r\n",
        "\r\n",
        " print(' : '.join(t_sp))"
      ],
      "execution_count": null,
      "outputs": [
        {
          "output_type": "error",
          "ename": "IndentationError",
          "evalue": "ignored",
          "traceback": [
            "\u001b[0;36m  File \u001b[0;32m\"<ipython-input-71-b04a383babc5>\"\u001b[0;36m, line \u001b[0;32m5\u001b[0m\n\u001b[0;31m    print(' : '.join(t_sp))\u001b[0m\n\u001b[0m    ^\u001b[0m\n\u001b[0;31mIndentationError\u001b[0m\u001b[0;31m:\u001b[0m unexpected indent\n"
          ]
        }
      ]
    },
    {
      "cell_type": "code",
      "metadata": {
        "id": "4X_leth6jnfM"
      },
      "source": [
        ""
      ],
      "execution_count": null,
      "outputs": []
    },
    {
      "cell_type": "code",
      "metadata": {
        "id": "9UZ98Sp9jvD5"
      },
      "source": [
        ""
      ],
      "execution_count": null,
      "outputs": []
    },
    {
      "cell_type": "markdown",
      "metadata": {
        "id": "lCxz9WIbjwIW"
      },
      "source": [
        "## HW"
      ]
    },
    {
      "cell_type": "markdown",
      "metadata": {
        "id": "d4ivY-vgkpnd"
      },
      "source": [
        "คำนวณเวลาเป็นวินาทีของเวลาต่อไปนี้โดยใช้คำสั่ง split() ช่วย\r\n",
        "12:30:15\r\n",
        "![136133279_2888959754669074_913586191136639320_n.jpg](data:image/jpeg;base64,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)"
      ]
    },
    {
      "cell_type": "code",
      "metadata": {
        "id": "zXT_1e1vjxhq"
      },
      "source": [
        ""
      ],
      "execution_count": null,
      "outputs": []
    }
  ]
}