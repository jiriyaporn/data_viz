{
  "nbformat": 4,
  "nbformat_minor": 0,
  "metadata": {
    "colab": {
      "name": "Untitled1.ipynb",
      "provenance": [],
      "authorship_tag": "ABX9TyMkYtJM5ts/DgD8lvPIcdao",
      "include_colab_link": true
    },
    "kernelspec": {
      "name": "python3",
      "display_name": "Python 3"
    }
  },
  "cells": [
    {
      "cell_type": "markdown",
      "metadata": {
        "id": "view-in-github",
        "colab_type": "text"
      },
      "source": [
        "<a href=\"https://colab.research.google.com/github/jiriyaporn/data_viz/blob/main/Untitled1.ipynb\" target=\"_parent\"><img src=\"https://colab.research.google.com/assets/colab-badge.svg\" alt=\"Open In Colab\"/></a>"
      ]
    },
    {
      "cell_type": "code",
      "metadata": {
        "id": "E7csy099Pdig"
      },
      "source": [
        "def time_1(time) :\r\n",
        "  st = time.split( ' : ' )\r\n",
        "  \r\n",
        "  hour = int(st[0])*3600\r\n",
        "  minute = int(st[1])*60\r\n",
        "  second = int(st[2])\r\n",
        "  sum = hour+minute+second\r\n",
        "  dec = f' เวลา {time} ผลรวม {sum}'\r\n",
        "  print(dec)\r\n"
      ],
      "execution_count": null,
      "outputs": []
    },
    {
      "cell_type": "code",
      "metadata": {
        "id": "eKPtVjMtRGW5"
      },
      "source": [
        "for i in [1,2,3] :\r\n",
        "  o = i**2"
      ],
      "execution_count": null,
      "outputs": []
    },
    {
      "cell_type": "code",
      "metadata": {
        "colab": {
          "base_uri": "https://localhost:8080/"
        },
        "id": "YaptY1eeL3Gr",
        "outputId": "372c4d05-8752-47c8-ac76-51ea8d6211b1"
      },
      "source": [
        "def time_1(time) :\r\n",
        "  st = time.split( ' : ' )\r\n",
        "for i in [1,2,3] :\r\n",
        "  o = i**2\r\n",
        "  print(f'this member = {i} after process = {o} ' )"
      ],
      "execution_count": 6,
      "outputs": [
        {
          "output_type": "stream",
          "text": [
            "this member = 1 after process = 1 \n",
            "this member = 2 after process = 4 \n",
            "this member = 3 after process = 9 \n"
          ],
          "name": "stdout"
        }
      ]
    },
    {
      "cell_type": "code",
      "metadata": {
        "id": "aE16F8KhYoVM"
      },
      "source": [
        ""
      ],
      "execution_count": null,
      "outputs": []
    }
  ]
}