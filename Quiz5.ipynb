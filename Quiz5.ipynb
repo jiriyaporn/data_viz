{
  "nbformat": 4,
  "nbformat_minor": 0,
  "metadata": {
    "colab": {
      "name": "Quiz5.ipynb",
      "provenance": [],
      "toc_visible": true,
      "authorship_tag": "ABX9TyN04ECVOuVxCgscuun21PX5",
      "include_colab_link": true
    },
    "kernelspec": {
      "name": "python3",
      "display_name": "Python 3"
    },
    "language_info": {
      "name": "python"
    }
  },
  "cells": [
    {
      "cell_type": "markdown",
      "metadata": {
        "id": "view-in-github",
        "colab_type": "text"
      },
      "source": [
        "<a href=\"https://colab.research.google.com/github/jiriyaporn/data_viz/blob/main/Quiz5.ipynb\" target=\"_parent\"><img src=\"https://colab.research.google.com/assets/colab-badge.svg\" alt=\"Open In Colab\"/></a>"
      ]
    },
    {
      "cell_type": "markdown",
      "metadata": {
        "id": "rAmZoUxt7qUo"
      },
      "source": [
        "#เปรียบเทียบผลรวม alpha และ beta ของข้อมูลก่อนและตั้งเเต่วันที่ 2 มิถุนายน 2020"
      ]
    },
    {
      "cell_type": "code",
      "metadata": {
        "id": "DwvvN5TJwFN3"
      },
      "source": [
        "import pandas as pd\n"
      ],
      "execution_count": 19,
      "outputs": []
    },
    {
      "cell_type": "code",
      "metadata": {
        "id": "bN--SOCCIfQI"
      },
      "source": [
        ""
      ],
      "execution_count": null,
      "outputs": []
    },
    {
      "cell_type": "code",
      "metadata": {
        "id": "FwUBIN9iM2RP"
      },
      "source": [
        "from datetime import date,datetime"
      ],
      "execution_count": 20,
      "outputs": []
    },
    {
      "cell_type": "code",
      "metadata": {
        "id": "PSqrABowmEjY",
        "colab": {
          "base_uri": "https://localhost:8080/",
          "height": 254
        },
        "outputId": "93164d46-db22-4c59-b16a-f37281bac838"
      },
      "source": [
        "ex = pd.read_csv('/content/example_timestamp.csv')\n",
        "ex"
      ],
      "execution_count": 13,
      "outputs": [
        {
          "output_type": "execute_result",
          "data": {
            "text/html": [
              "<div>\n",
              "<style scoped>\n",
              "    .dataframe tbody tr th:only-of-type {\n",
              "        vertical-align: middle;\n",
              "    }\n",
              "\n",
              "    .dataframe tbody tr th {\n",
              "        vertical-align: top;\n",
              "    }\n",
              "\n",
              "    .dataframe thead th {\n",
              "        text-align: right;\n",
              "    }\n",
              "</style>\n",
              "<table border=\"1\" class=\"dataframe\">\n",
              "  <thead>\n",
              "    <tr style=\"text-align: right;\">\n",
              "      <th></th>\n",
              "      <th>Unnamed: 0</th>\n",
              "      <th>alpha</th>\n",
              "      <th>beta</th>\n",
              "    </tr>\n",
              "  </thead>\n",
              "  <tbody>\n",
              "    <tr>\n",
              "      <th>0</th>\n",
              "      <td>2020-05-29</td>\n",
              "      <td>8.78</td>\n",
              "      <td>24</td>\n",
              "    </tr>\n",
              "    <tr>\n",
              "      <th>1</th>\n",
              "      <td>2020-05-30</td>\n",
              "      <td>13.00</td>\n",
              "      <td>25</td>\n",
              "    </tr>\n",
              "    <tr>\n",
              "      <th>2</th>\n",
              "      <td>2020-05-31</td>\n",
              "      <td>0.44</td>\n",
              "      <td>25</td>\n",
              "    </tr>\n",
              "    <tr>\n",
              "      <th>3</th>\n",
              "      <td>2020-06-01</td>\n",
              "      <td>1.94</td>\n",
              "      <td>28</td>\n",
              "    </tr>\n",
              "    <tr>\n",
              "      <th>4</th>\n",
              "      <td>2020-06-02</td>\n",
              "      <td>5.40</td>\n",
              "      <td>20</td>\n",
              "    </tr>\n",
              "    <tr>\n",
              "      <th>5</th>\n",
              "      <td>2020-06-03</td>\n",
              "      <td>5.68</td>\n",
              "      <td>21</td>\n",
              "    </tr>\n",
              "    <tr>\n",
              "      <th>6</th>\n",
              "      <td>2020-06-04</td>\n",
              "      <td>2.64</td>\n",
              "      <td>16</td>\n",
              "    </tr>\n",
              "  </tbody>\n",
              "</table>\n",
              "</div>"
            ],
            "text/plain": [
              "   Unnamed: 0  alpha  beta\n",
              "0  2020-05-29   8.78    24\n",
              "1  2020-05-30  13.00    25\n",
              "2  2020-05-31   0.44    25\n",
              "3  2020-06-01   1.94    28\n",
              "4  2020-06-02   5.40    20\n",
              "5  2020-06-03   5.68    21\n",
              "6  2020-06-04   2.64    16"
            ]
          },
          "metadata": {
            "tags": []
          },
          "execution_count": 13
        }
      ]
    },
    {
      "cell_type": "code",
      "metadata": {
        "id": "xbUEc2sWE7QR",
        "colab": {
          "base_uri": "https://localhost:8080/",
          "height": 35
        },
        "outputId": "5e4a4f8d-d804-45c4-e52d-8d772ffe1c37"
      },
      "source": [
        "ex.iloc[0,0]"
      ],
      "execution_count": null,
      "outputs": [
        {
          "output_type": "execute_result",
          "data": {
            "application/vnd.google.colaboratory.intrinsic+json": {
              "type": "string"
            },
            "text/plain": [
              "'2020-05-29'"
            ]
          },
          "metadata": {
            "tags": []
          },
          "execution_count": 39
        }
      ]
    },
    {
      "cell_type": "code",
      "metadata": {
        "id": "WtXncxrAhLV6",
        "colab": {
          "base_uri": "https://localhost:8080/"
        },
        "outputId": "4d4c9874-4bc6-4cbd-9884-39b0a50127d3"
      },
      "source": [
        "ex_before = ex[ex['Unnamed: 0']< '2020-06-02']\n",
        "ex_before.sum()"
      ],
      "execution_count": null,
      "outputs": [
        {
          "output_type": "execute_result",
          "data": {
            "text/plain": [
              "Unnamed: 0    2020-05-292020-05-302020-05-312020-06-01\n",
              "alpha                                            24.16\n",
              "beta                                               102\n",
              "dtype: object"
            ]
          },
          "metadata": {
            "tags": []
          },
          "execution_count": 40
        }
      ]
    },
    {
      "cell_type": "code",
      "metadata": {
        "id": "RUI6faFVhlOh",
        "colab": {
          "base_uri": "https://localhost:8080/"
        },
        "outputId": "58c8a9a0-46ea-4e7f-e045-a47c1bb2656f"
      },
      "source": [
        "ex_after = ex[ex['Unnamed: 0']>= '2020-06-02']\n",
        "ex_after.sum()"
      ],
      "execution_count": null,
      "outputs": [
        {
          "output_type": "execute_result",
          "data": {
            "text/plain": [
              "Unnamed: 0    2020-06-022020-06-032020-06-04\n",
              "alpha                                  13.72\n",
              "beta                                      57\n",
              "dtype: object"
            ]
          },
          "metadata": {
            "tags": []
          },
          "execution_count": 41
        }
      ]
    },
    {
      "cell_type": "markdown",
      "metadata": {
        "id": "8qYMK5plilTq"
      },
      "source": [
        "##ตัวอย่างที่ 2."
      ]
    },
    {
      "cell_type": "code",
      "metadata": {
        "id": "Qq3b7evS9Ui0",
        "colab": {
          "base_uri": "https://localhost:8080/",
          "height": 254
        },
        "outputId": "61265a7c-03fc-4b0a-a399-a7f766328599"
      },
      "source": [
        "ex1 = pd.read_csv('/content/example_timestamp_02.csv')\n",
        "ex1"
      ],
      "execution_count": null,
      "outputs": [
        {
          "output_type": "execute_result",
          "data": {
            "text/html": [
              "<div>\n",
              "<style scoped>\n",
              "    .dataframe tbody tr th:only-of-type {\n",
              "        vertical-align: middle;\n",
              "    }\n",
              "\n",
              "    .dataframe tbody tr th {\n",
              "        vertical-align: top;\n",
              "    }\n",
              "\n",
              "    .dataframe thead th {\n",
              "        text-align: right;\n",
              "    }\n",
              "</style>\n",
              "<table border=\"1\" class=\"dataframe\">\n",
              "  <thead>\n",
              "    <tr style=\"text-align: right;\">\n",
              "      <th></th>\n",
              "      <th>Unnamed: 0</th>\n",
              "      <th>alpha</th>\n",
              "      <th>beta</th>\n",
              "    </tr>\n",
              "  </thead>\n",
              "  <tbody>\n",
              "    <tr>\n",
              "      <th>0</th>\n",
              "      <td>29-05-2020</td>\n",
              "      <td>8.78</td>\n",
              "      <td>24</td>\n",
              "    </tr>\n",
              "    <tr>\n",
              "      <th>1</th>\n",
              "      <td>30-05-2020</td>\n",
              "      <td>13.00</td>\n",
              "      <td>25</td>\n",
              "    </tr>\n",
              "    <tr>\n",
              "      <th>2</th>\n",
              "      <td>31-05-2020</td>\n",
              "      <td>0.44</td>\n",
              "      <td>25</td>\n",
              "    </tr>\n",
              "    <tr>\n",
              "      <th>3</th>\n",
              "      <td>01-06-2020</td>\n",
              "      <td>1.94</td>\n",
              "      <td>28</td>\n",
              "    </tr>\n",
              "    <tr>\n",
              "      <th>4</th>\n",
              "      <td>02-06-2020</td>\n",
              "      <td>5.40</td>\n",
              "      <td>20</td>\n",
              "    </tr>\n",
              "    <tr>\n",
              "      <th>5</th>\n",
              "      <td>03-06-2020</td>\n",
              "      <td>5.68</td>\n",
              "      <td>21</td>\n",
              "    </tr>\n",
              "    <tr>\n",
              "      <th>6</th>\n",
              "      <td>03-06-2020</td>\n",
              "      <td>2.64</td>\n",
              "      <td>16</td>\n",
              "    </tr>\n",
              "  </tbody>\n",
              "</table>\n",
              "</div>"
            ],
            "text/plain": [
              "   Unnamed: 0  alpha  beta\n",
              "0  29-05-2020   8.78    24\n",
              "1  30-05-2020  13.00    25\n",
              "2  31-05-2020   0.44    25\n",
              "3  01-06-2020   1.94    28\n",
              "4  02-06-2020   5.40    20\n",
              "5  03-06-2020   5.68    21\n",
              "6  03-06-2020   2.64    16"
            ]
          },
          "metadata": {
            "tags": []
          },
          "execution_count": 44
        }
      ]
    },
    {
      "cell_type": "code",
      "metadata": {
        "id": "OzvznVie9UcV"
      },
      "source": [
        ""
      ],
      "execution_count": null,
      "outputs": []
    },
    {
      "cell_type": "markdown",
      "metadata": {
        "id": "YUCyFHaXiQzR"
      },
      "source": [
        "#search_click.csv"
      ]
    },
    {
      "cell_type": "markdown",
      "metadata": {
        "id": "EYKIhVTHzPZQ"
      },
      "source": [
        "###เปรียบเทียบเวลาาในการกดเลือกร้าน ''' time_diff_nanos ''' ระหว่างช่วงเวลา 10.00-10.59 กับ 23.00-23.59 ว่าช่วงเวลาไหนมี time_diff_nanos น้อยกว่ากัน"
      ]
    },
    {
      "cell_type": "code",
      "metadata": {
        "colab": {
          "base_uri": "https://localhost:8080/",
          "height": 402
        },
        "id": "_cjBoBxIwnwh",
        "outputId": "1055c064-461a-4c98-b380-c853ecb48ceb"
      },
      "source": [
        "seach = pd.read_csv('/content/search_click.csv')\n",
        "seach"
      ],
      "execution_count": null,
      "outputs": [
        {
          "output_type": "execute_result",
          "data": {
            "text/html": [
              "<div>\n",
              "<style scoped>\n",
              "    .dataframe tbody tr th:only-of-type {\n",
              "        vertical-align: middle;\n",
              "    }\n",
              "\n",
              "    .dataframe tbody tr th {\n",
              "        vertical-align: top;\n",
              "    }\n",
              "\n",
              "    .dataframe thead th {\n",
              "        text-align: right;\n",
              "    }\n",
              "</style>\n",
              "<table border=\"1\" class=\"dataframe\">\n",
              "  <thead>\n",
              "    <tr style=\"text-align: right;\">\n",
              "      <th></th>\n",
              "      <th>click_timestamp</th>\n",
              "      <th>search_id</th>\n",
              "      <th>business_id</th>\n",
              "      <th>display_position</th>\n",
              "      <th>time_diff_nanos</th>\n",
              "      <th>ads</th>\n",
              "    </tr>\n",
              "  </thead>\n",
              "  <tbody>\n",
              "    <tr>\n",
              "      <th>0</th>\n",
              "      <td>11:38.9</td>\n",
              "      <td>5c004472-5ecc-4159-9698-9f329b8e26e1</td>\n",
              "      <td>298839.0</td>\n",
              "      <td>0</td>\n",
              "      <td>2.222400e+15</td>\n",
              "      <td>True</td>\n",
              "    </tr>\n",
              "    <tr>\n",
              "      <th>1</th>\n",
              "      <td>30:51.3</td>\n",
              "      <td>5f34eca0-c04e-4c10-b600-54aa447dbd8e</td>\n",
              "      <td>171372.0</td>\n",
              "      <td>0</td>\n",
              "      <td>4.608380e+14</td>\n",
              "      <td>True</td>\n",
              "    </tr>\n",
              "    <tr>\n",
              "      <th>2</th>\n",
              "      <td>32:09.6</td>\n",
              "      <td>8dc6d1f0-11f1-4239-9dd2-5c1674c81224</td>\n",
              "      <td>16157.0</td>\n",
              "      <td>0</td>\n",
              "      <td>2.581490e+15</td>\n",
              "      <td>True</td>\n",
              "    </tr>\n",
              "    <tr>\n",
              "      <th>3</th>\n",
              "      <td>00:59.8</td>\n",
              "      <td>1a5810e9-3d1f-44b9-9a2e-26ede21c524b</td>\n",
              "      <td>89741.0</td>\n",
              "      <td>1</td>\n",
              "      <td>1.404580e+15</td>\n",
              "      <td>True</td>\n",
              "    </tr>\n",
              "    <tr>\n",
              "      <th>4</th>\n",
              "      <td>23:36.8</td>\n",
              "      <td>6bc75e0d-fc65-471e-9926-ff6be6708639</td>\n",
              "      <td>189564.0</td>\n",
              "      <td>1</td>\n",
              "      <td>9.333590e+14</td>\n",
              "      <td>True</td>\n",
              "    </tr>\n",
              "    <tr>\n",
              "      <th>...</th>\n",
              "      <td>...</td>\n",
              "      <td>...</td>\n",
              "      <td>...</td>\n",
              "      <td>...</td>\n",
              "      <td>...</td>\n",
              "      <td>...</td>\n",
              "    </tr>\n",
              "    <tr>\n",
              "      <th>1048570</th>\n",
              "      <td>05:28.8</td>\n",
              "      <td>99aab616-6fc5-4fbf-994b-4aebee7bb360</td>\n",
              "      <td>278479.0</td>\n",
              "      <td>8</td>\n",
              "      <td>2.072630e+11</td>\n",
              "      <td>False</td>\n",
              "    </tr>\n",
              "    <tr>\n",
              "      <th>1048571</th>\n",
              "      <td>15:28.8</td>\n",
              "      <td>d70a2c5d-ee94-4e4c-9f7c-c5faac6db12a</td>\n",
              "      <td>321885.0</td>\n",
              "      <td>8</td>\n",
              "      <td>6.931413e+10</td>\n",
              "      <td>False</td>\n",
              "    </tr>\n",
              "    <tr>\n",
              "      <th>1048572</th>\n",
              "      <td>11:49.4</td>\n",
              "      <td>4c1de7fe-300e-41aa-9d01-914344fc3753</td>\n",
              "      <td>221035.0</td>\n",
              "      <td>8</td>\n",
              "      <td>3.105162e+10</td>\n",
              "      <td>False</td>\n",
              "    </tr>\n",
              "    <tr>\n",
              "      <th>1048573</th>\n",
              "      <td>10:33.7</td>\n",
              "      <td>2ec0ddec-e450-4b98-9779-42b77aa7eda5</td>\n",
              "      <td>220572.0</td>\n",
              "      <td>8</td>\n",
              "      <td>7.848904e+10</td>\n",
              "      <td>False</td>\n",
              "    </tr>\n",
              "    <tr>\n",
              "      <th>1048574</th>\n",
              "      <td>13:51.4</td>\n",
              "      <td>5741d9cf-b9f1-441d-aa83-d2b0179bf874</td>\n",
              "      <td>310448.0</td>\n",
              "      <td>8</td>\n",
              "      <td>3.157757e+10</td>\n",
              "      <td>False</td>\n",
              "    </tr>\n",
              "  </tbody>\n",
              "</table>\n",
              "<p>1048575 rows × 6 columns</p>\n",
              "</div>"
            ],
            "text/plain": [
              "        click_timestamp  ...    ads\n",
              "0               11:38.9  ...   True\n",
              "1               30:51.3  ...   True\n",
              "2               32:09.6  ...   True\n",
              "3               00:59.8  ...   True\n",
              "4               23:36.8  ...   True\n",
              "...                 ...  ...    ...\n",
              "1048570         05:28.8  ...  False\n",
              "1048571         15:28.8  ...  False\n",
              "1048572         11:49.4  ...  False\n",
              "1048573         10:33.7  ...  False\n",
              "1048574         13:51.4  ...  False\n",
              "\n",
              "[1048575 rows x 6 columns]"
            ]
          },
          "metadata": {
            "tags": []
          },
          "execution_count": 48
        }
      ]
    },
    {
      "cell_type": "code",
      "metadata": {
        "id": "EfkK0-CBtSYv",
        "colab": {
          "base_uri": "https://localhost:8080/"
        },
        "outputId": "711a9127-4a94-4609-da0c-ce985c3a0c4d"
      },
      "source": [
        "len(seach)"
      ],
      "execution_count": null,
      "outputs": [
        {
          "output_type": "execute_result",
          "data": {
            "text/plain": [
              "1048575"
            ]
          },
          "metadata": {
            "tags": []
          },
          "execution_count": 49
        }
      ]
    },
    {
      "cell_type": "code",
      "metadata": {
        "id": "tP0bdjQ_tSVu",
        "colab": {
          "base_uri": "https://localhost:8080/"
        },
        "outputId": "7c09611b-7320-48b7-f2fc-daf55fa39ddd"
      },
      "source": [
        "seach.columns = [i.stritime('%H:%M:%S') if isinstance(i, datetime) else i for i in seach.columns]\n",
        "seach.columns"
      ],
      "execution_count": null,
      "outputs": [
        {
          "output_type": "execute_result",
          "data": {
            "text/plain": [
              "Index(['click_timestamp', 'search_id', 'business_id', 'display_position',\n",
              "       'time_diff_nanos', 'ads'],\n",
              "      dtype='object')"
            ]
          },
          "metadata": {
            "tags": []
          },
          "execution_count": 50
        }
      ]
    },
    {
      "cell_type": "code",
      "metadata": {
        "id": "WksrJ2SQtSSH"
      },
      "source": [
        "string_datetime = '10:00:0'"
      ],
      "execution_count": null,
      "outputs": []
    },
    {
      "cell_type": "code",
      "metadata": {
        "id": "V5m4t6hBtSIw",
        "colab": {
          "base_uri": "https://localhost:8080/"
        },
        "outputId": "54954be3-3390-4584-cbf0-8c31e9c74315"
      },
      "source": [
        "import time\n",
        "timeis = time.localtime()\n",
        "a = time.strftime('%H:%M:%S', timeis)\n",
        "print(a)"
      ],
      "execution_count": null,
      "outputs": [
        {
          "output_type": "stream",
          "text": [
            "15:12:40\n"
          ],
          "name": "stdout"
        }
      ]
    },
    {
      "cell_type": "markdown",
      "metadata": {
        "id": "QX7bbX62FKYv"
      },
      "source": [
        "#Quiz5(2)"
      ]
    },
    {
      "cell_type": "code",
      "metadata": {
        "id": "PgOLE3jZy_nU",
        "outputId": "883d5845-bc38-47ab-c41f-bfea552a10d0",
        "colab": {
          "base_uri": "https://localhost:8080/",
          "height": 754
        }
      },
      "source": [
        "se = pd.read_csv('/content/search_request.csv')\n",
        "se "
      ],
      "execution_count": 21,
      "outputs": [
        {
          "output_type": "execute_result",
          "data": {
            "text/html": [
              "<div>\n",
              "<style scoped>\n",
              "    .dataframe tbody tr th:only-of-type {\n",
              "        vertical-align: middle;\n",
              "    }\n",
              "\n",
              "    .dataframe tbody tr th {\n",
              "        vertical-align: top;\n",
              "    }\n",
              "\n",
              "    .dataframe thead th {\n",
              "        text-align: right;\n",
              "    }\n",
              "</style>\n",
              "<table border=\"1\" class=\"dataframe\">\n",
              "  <thead>\n",
              "    <tr style=\"text-align: right;\">\n",
              "      <th></th>\n",
              "      <th>Unnamed: 0</th>\n",
              "      <th>search_id</th>\n",
              "      <th>search_timestamp</th>\n",
              "      <th>user_agent</th>\n",
              "      <th>q</th>\n",
              "      <th>user_id</th>\n",
              "      <th>session_id</th>\n",
              "      <th>number_of_result</th>\n",
              "      <th>lat</th>\n",
              "      <th>long</th>\n",
              "    </tr>\n",
              "  </thead>\n",
              "  <tbody>\n",
              "    <tr>\n",
              "      <th>0</th>\n",
              "      <td>0</td>\n",
              "      <td>683de889-f923-494e-9d46-44a3d67b7259</td>\n",
              "      <td>2018-06-14 12:34:35.449</td>\n",
              "      <td>Wongnai/8.17.3 rv:8.17.3.3921 (iPhone5,4; iOS;...</td>\n",
              "      <td>NaN</td>\n",
              "      <td>NaN</td>\n",
              "      <td>5lqjjikta19d296mo7g2h1k86p</td>\n",
              "      <td>18.0</td>\n",
              "      <td>12.634739</td>\n",
              "      <td>101.463177</td>\n",
              "    </tr>\n",
              "    <tr>\n",
              "      <th>1</th>\n",
              "      <td>1</td>\n",
              "      <td>4a811230-ffa4-4631-a4c8-5d0394137d02</td>\n",
              "      <td>2018-06-14 17:11:19.469</td>\n",
              "      <td>Mozilla/5.0 (iPhone; CPU iPhone OS 11_4 like M...</td>\n",
              "      <td>NaN</td>\n",
              "      <td>NaN</td>\n",
              "      <td>1r3iotmp0o9slom91stdt9vivc</td>\n",
              "      <td>10.0</td>\n",
              "      <td>14.800882</td>\n",
              "      <td>102.533777</td>\n",
              "    </tr>\n",
              "    <tr>\n",
              "      <th>2</th>\n",
              "      <td>2</td>\n",
              "      <td>7ad6ee8e-438e-4bea-9183-74dcef9e358e</td>\n",
              "      <td>2018-06-14 13:22:31.736</td>\n",
              "      <td>Mozilla/5.0 (Linux; Android 7.0; SAMSUNG SM-J7...</td>\n",
              "      <td>NaN</td>\n",
              "      <td>NaN</td>\n",
              "      <td>5ci1eo4v5u9dha4ppgu94ue7p6</td>\n",
              "      <td>8.0</td>\n",
              "      <td>13.738260</td>\n",
              "      <td>100.371405</td>\n",
              "    </tr>\n",
              "    <tr>\n",
              "      <th>3</th>\n",
              "      <td>3</td>\n",
              "      <td>0c17a5f5-fa89-40f4-ae94-a8659268f827</td>\n",
              "      <td>2018-06-02 12:37:27.331</td>\n",
              "      <td>Mozilla/5.0 (Linux; Android 7.1.1; SM-N950F Bu...</td>\n",
              "      <td>NaN</td>\n",
              "      <td>NaN</td>\n",
              "      <td>39n535qgje9kpojp0grhfj8umk</td>\n",
              "      <td>12.0</td>\n",
              "      <td>12.666877</td>\n",
              "      <td>101.860838</td>\n",
              "    </tr>\n",
              "    <tr>\n",
              "      <th>4</th>\n",
              "      <td>4</td>\n",
              "      <td>6870dc3a-5602-44fc-80ed-df0a7783df9d</td>\n",
              "      <td>2018-06-02 11:19:22.404</td>\n",
              "      <td>Mozilla/5.0 (iPhone; CPU iPhone OS 11_3_1 like...</td>\n",
              "      <td>NaN</td>\n",
              "      <td>NaN</td>\n",
              "      <td>5pa03h6lj691to60erver1l8o4</td>\n",
              "      <td>14.0</td>\n",
              "      <td>12.237242</td>\n",
              "      <td>99.879998</td>\n",
              "    </tr>\n",
              "    <tr>\n",
              "      <th>...</th>\n",
              "      <td>...</td>\n",
              "      <td>...</td>\n",
              "      <td>...</td>\n",
              "      <td>...</td>\n",
              "      <td>...</td>\n",
              "      <td>...</td>\n",
              "      <td>...</td>\n",
              "      <td>...</td>\n",
              "      <td>...</td>\n",
              "      <td>...</td>\n",
              "    </tr>\n",
              "    <tr>\n",
              "      <th>511651</th>\n",
              "      <td>511659</td>\n",
              "      <td>6617276e-f660-4976-989a-de0e80d9577b</td>\n",
              "      <td>2018-06-30 10:47:14.616</td>\n",
              "      <td>Wongnai/10.0 (iPhone8,4; iOS; 11.4; en_TH;)</td>\n",
              "      <td>NaN</td>\n",
              "      <td>82159.0</td>\n",
              "      <td>4dbukp534s8mq8dk5b802il5j4</td>\n",
              "      <td>21.0</td>\n",
              "      <td>13.675765</td>\n",
              "      <td>100.623082</td>\n",
              "    </tr>\n",
              "    <tr>\n",
              "      <th>511652</th>\n",
              "      <td>511660</td>\n",
              "      <td>5283d09e-2612-430d-82f8-1aceec88e27d</td>\n",
              "      <td>2018-06-30 12:21:15.683</td>\n",
              "      <td>Wongnai/10.0 (iPhone8,4; iOS; 11.4; en_TH;)</td>\n",
              "      <td>NaN</td>\n",
              "      <td>NaN</td>\n",
              "      <td>6hu4ca8m739cvr306gib4173cm</td>\n",
              "      <td>21.0</td>\n",
              "      <td>13.677228</td>\n",
              "      <td>100.685538</td>\n",
              "    </tr>\n",
              "    <tr>\n",
              "      <th>511653</th>\n",
              "      <td>511661</td>\n",
              "      <td>a65bb016-9845-4c18-b995-e2a5e54a345b</td>\n",
              "      <td>2018-06-30 12:33:18.119</td>\n",
              "      <td>Wongnai/10.0 (iPhone9,2; iOS; 11.4; en_TH;)</td>\n",
              "      <td>NaN</td>\n",
              "      <td>59162.0</td>\n",
              "      <td>14l9dhpes2847qe70uhvmt69hk</td>\n",
              "      <td>21.0</td>\n",
              "      <td>13.933480</td>\n",
              "      <td>100.565861</td>\n",
              "    </tr>\n",
              "    <tr>\n",
              "      <th>511654</th>\n",
              "      <td>511662</td>\n",
              "      <td>43834703-0485-4a34-a3a9-c5a56ee317a4</td>\n",
              "      <td>2018-06-30 12:10:30.858</td>\n",
              "      <td>Wongnai/10.0 (iPhone9,2; iOS; 11.4; en_TH;)</td>\n",
              "      <td>NaN</td>\n",
              "      <td>NaN</td>\n",
              "      <td>4ip6cn2krb8rkpej4dbft0l3la</td>\n",
              "      <td>21.0</td>\n",
              "      <td>14.020648</td>\n",
              "      <td>99.532828</td>\n",
              "    </tr>\n",
              "    <tr>\n",
              "      <th>511655</th>\n",
              "      <td>511663</td>\n",
              "      <td>c963315c-5054-4c66-9c0c-88a234aab77e</td>\n",
              "      <td>2018-06-30 11:5</td>\n",
              "      <td>NaN</td>\n",
              "      <td>NaN</td>\n",
              "      <td>NaN</td>\n",
              "      <td>NaN</td>\n",
              "      <td>NaN</td>\n",
              "      <td>NaN</td>\n",
              "      <td>NaN</td>\n",
              "    </tr>\n",
              "  </tbody>\n",
              "</table>\n",
              "<p>511656 rows × 10 columns</p>\n",
              "</div>"
            ],
            "text/plain": [
              "        Unnamed: 0                             search_id  ...        lat        long\n",
              "0                0  683de889-f923-494e-9d46-44a3d67b7259  ...  12.634739  101.463177\n",
              "1                1  4a811230-ffa4-4631-a4c8-5d0394137d02  ...  14.800882  102.533777\n",
              "2                2  7ad6ee8e-438e-4bea-9183-74dcef9e358e  ...  13.738260  100.371405\n",
              "3                3  0c17a5f5-fa89-40f4-ae94-a8659268f827  ...  12.666877  101.860838\n",
              "4                4  6870dc3a-5602-44fc-80ed-df0a7783df9d  ...  12.237242   99.879998\n",
              "...            ...                                   ...  ...        ...         ...\n",
              "511651      511659  6617276e-f660-4976-989a-de0e80d9577b  ...  13.675765  100.623082\n",
              "511652      511660  5283d09e-2612-430d-82f8-1aceec88e27d  ...  13.677228  100.685538\n",
              "511653      511661  a65bb016-9845-4c18-b995-e2a5e54a345b  ...  13.933480  100.565861\n",
              "511654      511662  43834703-0485-4a34-a3a9-c5a56ee317a4  ...  14.020648   99.532828\n",
              "511655      511663  c963315c-5054-4c66-9c0c-88a234aab77e  ...        NaN         NaN\n",
              "\n",
              "[511656 rows x 10 columns]"
            ]
          },
          "metadata": {
            "tags": []
          },
          "execution_count": 21
        }
      ]
    },
    {
      "cell_type": "code",
      "metadata": {
        "id": "N2h_b6H1F0R9",
        "outputId": "e168d971-4d18-4155-b22a-cc4089074144",
        "colab": {
          "base_uri": "https://localhost:8080/",
          "height": 297
        }
      },
      "source": [
        "se_time = se[se['search_timestamp']>= '11:00'<= '11:59' ]\n",
        "se_time.sum()"
      ],
      "execution_count": 27,
      "outputs": [
        {
          "output_type": "error",
          "ename": "ValueError",
          "evalue": "ignored",
          "traceback": [
            "\u001b[0;31m---------------------------------------------------------------------------\u001b[0m",
            "\u001b[0;31mValueError\u001b[0m                                Traceback (most recent call last)",
            "\u001b[0;32m<ipython-input-27-ea5d56a0f5fa>\u001b[0m in \u001b[0;36m<module>\u001b[0;34m()\u001b[0m\n\u001b[0;32m----> 1\u001b[0;31m \u001b[0mse_time\u001b[0m \u001b[0;34m=\u001b[0m \u001b[0mse\u001b[0m\u001b[0;34m[\u001b[0m\u001b[0mse\u001b[0m\u001b[0;34m[\u001b[0m\u001b[0;34m'search_timestamp'\u001b[0m\u001b[0;34m]\u001b[0m\u001b[0;34m>=\u001b[0m \u001b[0;34m'11:00'\u001b[0m\u001b[0;34m<=\u001b[0m \u001b[0;34m'11:59'\u001b[0m \u001b[0;34m]\u001b[0m\u001b[0;34m\u001b[0m\u001b[0;34m\u001b[0m\u001b[0m\n\u001b[0m\u001b[1;32m      2\u001b[0m \u001b[0mse_time\u001b[0m\u001b[0;34m.\u001b[0m\u001b[0msum\u001b[0m\u001b[0;34m(\u001b[0m\u001b[0;34m)\u001b[0m\u001b[0;34m\u001b[0m\u001b[0;34m\u001b[0m\u001b[0m\n",
            "\u001b[0;32m/usr/local/lib/python3.7/dist-packages/pandas/core/generic.py\u001b[0m in \u001b[0;36m__nonzero__\u001b[0;34m(self)\u001b[0m\n\u001b[1;32m   1328\u001b[0m     \u001b[0;32mdef\u001b[0m \u001b[0m__nonzero__\u001b[0m\u001b[0;34m(\u001b[0m\u001b[0mself\u001b[0m\u001b[0;34m)\u001b[0m\u001b[0;34m:\u001b[0m\u001b[0;34m\u001b[0m\u001b[0;34m\u001b[0m\u001b[0m\n\u001b[1;32m   1329\u001b[0m         raise ValueError(\n\u001b[0;32m-> 1330\u001b[0;31m             \u001b[0;34mf\"The truth value of a {type(self).__name__} is ambiguous. \"\u001b[0m\u001b[0;34m\u001b[0m\u001b[0;34m\u001b[0m\u001b[0m\n\u001b[0m\u001b[1;32m   1331\u001b[0m             \u001b[0;34m\"Use a.empty, a.bool(), a.item(), a.any() or a.all().\"\u001b[0m\u001b[0;34m\u001b[0m\u001b[0;34m\u001b[0m\u001b[0m\n\u001b[1;32m   1332\u001b[0m         )\n",
            "\u001b[0;31mValueError\u001b[0m: The truth value of a Series is ambiguous. Use a.empty, a.bool(), a.item(), a.any() or a.all()."
          ]
        }
      ]
    },
    {
      "cell_type": "code",
      "metadata": {
        "id": "OPFEYJ44F0OH",
        "outputId": "ffb6e7cf-d5fc-4383-8575-06168b42d38b",
        "colab": {
          "base_uri": "https://localhost:8080/",
          "height": 556
        }
      },
      "source": [
        "se_day = ex[ex['search_timestamp\t'] == 'จันทร์:พฤหัสบดี']\n",
        "se_day"
      ],
      "execution_count": 29,
      "outputs": [
        {
          "output_type": "error",
          "ename": "KeyError",
          "evalue": "ignored",
          "traceback": [
            "\u001b[0;31m---------------------------------------------------------------------------\u001b[0m",
            "\u001b[0;31mKeyError\u001b[0m                                  Traceback (most recent call last)",
            "\u001b[0;32m/usr/local/lib/python3.7/dist-packages/pandas/core/indexes/base.py\u001b[0m in \u001b[0;36mget_loc\u001b[0;34m(self, key, method, tolerance)\u001b[0m\n\u001b[1;32m   2897\u001b[0m             \u001b[0;32mtry\u001b[0m\u001b[0;34m:\u001b[0m\u001b[0;34m\u001b[0m\u001b[0;34m\u001b[0m\u001b[0m\n\u001b[0;32m-> 2898\u001b[0;31m                 \u001b[0;32mreturn\u001b[0m \u001b[0mself\u001b[0m\u001b[0;34m.\u001b[0m\u001b[0m_engine\u001b[0m\u001b[0;34m.\u001b[0m\u001b[0mget_loc\u001b[0m\u001b[0;34m(\u001b[0m\u001b[0mcasted_key\u001b[0m\u001b[0;34m)\u001b[0m\u001b[0;34m\u001b[0m\u001b[0;34m\u001b[0m\u001b[0m\n\u001b[0m\u001b[1;32m   2899\u001b[0m             \u001b[0;32mexcept\u001b[0m \u001b[0mKeyError\u001b[0m \u001b[0;32mas\u001b[0m \u001b[0merr\u001b[0m\u001b[0;34m:\u001b[0m\u001b[0;34m\u001b[0m\u001b[0;34m\u001b[0m\u001b[0m\n",
            "\u001b[0;32mpandas/_libs/index.pyx\u001b[0m in \u001b[0;36mpandas._libs.index.IndexEngine.get_loc\u001b[0;34m()\u001b[0m\n",
            "\u001b[0;32mpandas/_libs/index.pyx\u001b[0m in \u001b[0;36mpandas._libs.index.IndexEngine.get_loc\u001b[0;34m()\u001b[0m\n",
            "\u001b[0;32mpandas/_libs/hashtable_class_helper.pxi\u001b[0m in \u001b[0;36mpandas._libs.hashtable.PyObjectHashTable.get_item\u001b[0;34m()\u001b[0m\n",
            "\u001b[0;32mpandas/_libs/hashtable_class_helper.pxi\u001b[0m in \u001b[0;36mpandas._libs.hashtable.PyObjectHashTable.get_item\u001b[0;34m()\u001b[0m\n",
            "\u001b[0;31mKeyError\u001b[0m: 'search_timestamp\\t'",
            "\nThe above exception was the direct cause of the following exception:\n",
            "\u001b[0;31mKeyError\u001b[0m                                  Traceback (most recent call last)",
            "\u001b[0;32m<ipython-input-29-fdbcb1c1e9f3>\u001b[0m in \u001b[0;36m<module>\u001b[0;34m()\u001b[0m\n\u001b[0;32m----> 1\u001b[0;31m \u001b[0mse_day\u001b[0m \u001b[0;34m=\u001b[0m \u001b[0mex\u001b[0m\u001b[0;34m[\u001b[0m\u001b[0mex\u001b[0m\u001b[0;34m[\u001b[0m\u001b[0;34m'search_timestamp        '\u001b[0m\u001b[0;34m]\u001b[0m \u001b[0;34m==\u001b[0m \u001b[0;34m'จันทร์:พฤหัสบดี'\u001b[0m\u001b[0;34m]\u001b[0m\u001b[0;34m\u001b[0m\u001b[0;34m\u001b[0m\u001b[0m\n\u001b[0m\u001b[1;32m      2\u001b[0m \u001b[0mse_day\u001b[0m\u001b[0;34m\u001b[0m\u001b[0;34m\u001b[0m\u001b[0m\n",
            "\u001b[0;32m/usr/local/lib/python3.7/dist-packages/pandas/core/frame.py\u001b[0m in \u001b[0;36m__getitem__\u001b[0;34m(self, key)\u001b[0m\n\u001b[1;32m   2904\u001b[0m             \u001b[0;32mif\u001b[0m \u001b[0mself\u001b[0m\u001b[0;34m.\u001b[0m\u001b[0mcolumns\u001b[0m\u001b[0;34m.\u001b[0m\u001b[0mnlevels\u001b[0m \u001b[0;34m>\u001b[0m \u001b[0;36m1\u001b[0m\u001b[0;34m:\u001b[0m\u001b[0;34m\u001b[0m\u001b[0;34m\u001b[0m\u001b[0m\n\u001b[1;32m   2905\u001b[0m                 \u001b[0;32mreturn\u001b[0m \u001b[0mself\u001b[0m\u001b[0;34m.\u001b[0m\u001b[0m_getitem_multilevel\u001b[0m\u001b[0;34m(\u001b[0m\u001b[0mkey\u001b[0m\u001b[0;34m)\u001b[0m\u001b[0;34m\u001b[0m\u001b[0;34m\u001b[0m\u001b[0m\n\u001b[0;32m-> 2906\u001b[0;31m             \u001b[0mindexer\u001b[0m \u001b[0;34m=\u001b[0m \u001b[0mself\u001b[0m\u001b[0;34m.\u001b[0m\u001b[0mcolumns\u001b[0m\u001b[0;34m.\u001b[0m\u001b[0mget_loc\u001b[0m\u001b[0;34m(\u001b[0m\u001b[0mkey\u001b[0m\u001b[0;34m)\u001b[0m\u001b[0;34m\u001b[0m\u001b[0;34m\u001b[0m\u001b[0m\n\u001b[0m\u001b[1;32m   2907\u001b[0m             \u001b[0;32mif\u001b[0m \u001b[0mis_integer\u001b[0m\u001b[0;34m(\u001b[0m\u001b[0mindexer\u001b[0m\u001b[0;34m)\u001b[0m\u001b[0;34m:\u001b[0m\u001b[0;34m\u001b[0m\u001b[0;34m\u001b[0m\u001b[0m\n\u001b[1;32m   2908\u001b[0m                 \u001b[0mindexer\u001b[0m \u001b[0;34m=\u001b[0m \u001b[0;34m[\u001b[0m\u001b[0mindexer\u001b[0m\u001b[0;34m]\u001b[0m\u001b[0;34m\u001b[0m\u001b[0;34m\u001b[0m\u001b[0m\n",
            "\u001b[0;32m/usr/local/lib/python3.7/dist-packages/pandas/core/indexes/base.py\u001b[0m in \u001b[0;36mget_loc\u001b[0;34m(self, key, method, tolerance)\u001b[0m\n\u001b[1;32m   2898\u001b[0m                 \u001b[0;32mreturn\u001b[0m \u001b[0mself\u001b[0m\u001b[0;34m.\u001b[0m\u001b[0m_engine\u001b[0m\u001b[0;34m.\u001b[0m\u001b[0mget_loc\u001b[0m\u001b[0;34m(\u001b[0m\u001b[0mcasted_key\u001b[0m\u001b[0;34m)\u001b[0m\u001b[0;34m\u001b[0m\u001b[0;34m\u001b[0m\u001b[0m\n\u001b[1;32m   2899\u001b[0m             \u001b[0;32mexcept\u001b[0m \u001b[0mKeyError\u001b[0m \u001b[0;32mas\u001b[0m \u001b[0merr\u001b[0m\u001b[0;34m:\u001b[0m\u001b[0;34m\u001b[0m\u001b[0;34m\u001b[0m\u001b[0m\n\u001b[0;32m-> 2900\u001b[0;31m                 \u001b[0;32mraise\u001b[0m \u001b[0mKeyError\u001b[0m\u001b[0;34m(\u001b[0m\u001b[0mkey\u001b[0m\u001b[0;34m)\u001b[0m \u001b[0;32mfrom\u001b[0m \u001b[0merr\u001b[0m\u001b[0;34m\u001b[0m\u001b[0;34m\u001b[0m\u001b[0m\n\u001b[0m\u001b[1;32m   2901\u001b[0m \u001b[0;34m\u001b[0m\u001b[0m\n\u001b[1;32m   2902\u001b[0m         \u001b[0;32mif\u001b[0m \u001b[0mtolerance\u001b[0m \u001b[0;32mis\u001b[0m \u001b[0;32mnot\u001b[0m \u001b[0;32mNone\u001b[0m\u001b[0;34m:\u001b[0m\u001b[0;34m\u001b[0m\u001b[0;34m\u001b[0m\u001b[0m\n",
            "\u001b[0;31mKeyError\u001b[0m: 'search_timestamp\\t'"
          ]
        }
      ]
    },
    {
      "cell_type": "code",
      "metadata": {
        "id": "07cP5T18F0K6"
      },
      "source": [
        ""
      ],
      "execution_count": null,
      "outputs": []
    },
    {
      "cell_type": "code",
      "metadata": {
        "id": "mrQKB9GqF0HH"
      },
      "source": [
        ""
      ],
      "execution_count": null,
      "outputs": []
    }
  ]
}