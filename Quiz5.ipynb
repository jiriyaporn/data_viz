{
  "nbformat": 4,
  "nbformat_minor": 0,
  "metadata": {
    "colab": {
      "name": "Quiz5.ipynb",
      "provenance": [],
      "authorship_tag": "ABX9TyPXK8okQOsf0x6UAkzNQeBr",
      "include_colab_link": true
    },
    "kernelspec": {
      "name": "python3",
      "display_name": "Python 3"
    },
    "language_info": {
      "name": "python"
    }
  },
  "cells": [
    {
      "cell_type": "markdown",
      "metadata": {
        "id": "view-in-github",
        "colab_type": "text"
      },
      "source": [
        "<a href=\"https://colab.research.google.com/github/jiriyaporn/data_viz/blob/main/Quiz5.ipynb\" target=\"_parent\"><img src=\"https://colab.research.google.com/assets/colab-badge.svg\" alt=\"Open In Colab\"/></a>"
      ]
    },
    {
      "cell_type": "markdown",
      "metadata": {
        "id": "rAmZoUxt7qUo"
      },
      "source": [
        "#เปรียบเทียบผลรวม alpha และ beta ของข้อมูลก่อนและตั้งเเต่วันที่ 2 มิถุนายน 2020"
      ]
    },
    {
      "cell_type": "code",
      "metadata": {
        "id": "DwvvN5TJwFN3"
      },
      "source": [
        "import pandas as pd\n"
      ],
      "execution_count": 19,
      "outputs": []
    },
    {
      "cell_type": "code",
      "metadata": {
        "id": "bN--SOCCIfQI"
      },
      "source": [
        ""
      ],
      "execution_count": null,
      "outputs": []
    },
    {
      "cell_type": "code",
      "metadata": {
        "id": "FwUBIN9iM2RP"
      },
      "source": [
        "from datetime import date,datetime"
      ],
      "execution_count": 20,
      "outputs": []
    },
    {
      "cell_type": "code",
      "metadata": {
        "id": "PSqrABowmEjY",
        "colab": {
          "base_uri": "https://localhost:8080/",
          "height": 254
        },
        "outputId": "93164d46-db22-4c59-b16a-f37281bac838"
      },
      "source": [
        "ex = pd.read_csv('/content/example_timestamp.csv')\n",
        "ex"
      ],
      "execution_count": 13,
      "outputs": [
        {
          "output_type": "execute_result",
          "data": {
            "text/html": [
              "<div>\n",
              "<style scoped>\n",
              "    .dataframe tbody tr th:only-of-type {\n",
              "        vertical-align: middle;\n",
              "    }\n",
              "\n",
              "    .dataframe tbody tr th {\n",
              "        vertical-align: top;\n",
              "    }\n",
              "\n",
              "    .dataframe thead th {\n",
              "        text-align: right;\n",
              "    }\n",
              "</style>\n",
              "<table border=\"1\" class=\"dataframe\">\n",
              "  <thead>\n",
              "    <tr style=\"text-align: right;\">\n",
              "      <th></th>\n",
              "      <th>Unnamed: 0</th>\n",
              "      <th>alpha</th>\n",
              "      <th>beta</th>\n",
              "    </tr>\n",
              "  </thead>\n",
              "  <tbody>\n",
              "    <tr>\n",
              "      <th>0</th>\n",
              "      <td>2020-05-29</td>\n",
              "      <td>8.78</td>\n",
              "      <td>24</td>\n",
              "    </tr>\n",
              "    <tr>\n",
              "      <th>1</th>\n",
              "      <td>2020-05-30</td>\n",
              "      <td>13.00</td>\n",
              "      <td>25</td>\n",
              "    </tr>\n",
              "    <tr>\n",
              "      <th>2</th>\n",
              "      <td>2020-05-31</td>\n",
              "      <td>0.44</td>\n",
              "      <td>25</td>\n",
              "    </tr>\n",
              "    <tr>\n",
              "      <th>3</th>\n",
              "      <td>2020-06-01</td>\n",
              "      <td>1.94</td>\n",
              "      <td>28</td>\n",
              "    </tr>\n",
              "    <tr>\n",
              "      <th>4</th>\n",
              "      <td>2020-06-02</td>\n",
              "      <td>5.40</td>\n",
              "      <td>20</td>\n",
              "    </tr>\n",
              "    <tr>\n",
              "      <th>5</th>\n",
              "      <td>2020-06-03</td>\n",
              "      <td>5.68</td>\n",
              "      <td>21</td>\n",
              "    </tr>\n",
              "    <tr>\n",
              "      <th>6</th>\n",
              "      <td>2020-06-04</td>\n",
              "      <td>2.64</td>\n",
              "      <td>16</td>\n",
              "    </tr>\n",
              "  </tbody>\n",
              "</table>\n",
              "</div>"
            ],
            "text/plain": [
              "   Unnamed: 0  alpha  beta\n",
              "0  2020-05-29   8.78    24\n",
              "1  2020-05-30  13.00    25\n",
              "2  2020-05-31   0.44    25\n",
              "3  2020-06-01   1.94    28\n",
              "4  2020-06-02   5.40    20\n",
              "5  2020-06-03   5.68    21\n",
              "6  2020-06-04   2.64    16"
            ]
          },
          "metadata": {
            "tags": []
          },
          "execution_count": 13
        }
      ]
    },
    {
      "cell_type": "code",
      "metadata": {
        "id": "xbUEc2sWE7QR",
        "colab": {
          "base_uri": "https://localhost:8080/",
          "height": 35
        },
        "outputId": "5e4a4f8d-d804-45c4-e52d-8d772ffe1c37"
      },
      "source": [
        "ex.iloc[0,0]"
      ],
      "execution_count": null,
      "outputs": [
        {
          "output_type": "execute_result",
          "data": {
            "application/vnd.google.colaboratory.intrinsic+json": {
              "type": "string"
            },
            "text/plain": [
              "'2020-05-29'"
            ]
          },
          "metadata": {
            "tags": []
          },
          "execution_count": 39
        }
      ]
    },
    {
      "cell_type": "code",
      "metadata": {
        "id": "WtXncxrAhLV6",
        "colab": {
          "base_uri": "https://localhost:8080/"
        },
        "outputId": "4d4c9874-4bc6-4cbd-9884-39b0a50127d3"
      },
      "source": [
        "ex_before = ex[ex['Unnamed: 0']< '2020-06-02']\n",
        "ex_before.sum()"
      ],
      "execution_count": null,
      "outputs": [
        {
          "output_type": "execute_result",
          "data": {
            "text/plain": [
              "Unnamed: 0    2020-05-292020-05-302020-05-312020-06-01\n",
              "alpha                                            24.16\n",
              "beta                                               102\n",
              "dtype: object"
            ]
          },
          "metadata": {
            "tags": []
          },
          "execution_count": 40
        }
      ]
    },
    {
      "cell_type": "code",
      "metadata": {
        "id": "RUI6faFVhlOh",
        "colab": {
          "base_uri": "https://localhost:8080/"
        },
        "outputId": "58c8a9a0-46ea-4e7f-e045-a47c1bb2656f"
      },
      "source": [
        "ex_after = ex[ex['Unnamed: 0']>= '2020-06-02']\n",
        "ex_after.sum()"
      ],
      "execution_count": null,
      "outputs": [
        {
          "output_type": "execute_result",
          "data": {
            "text/plain": [
              "Unnamed: 0    2020-06-022020-06-032020-06-04\n",
              "alpha                                  13.72\n",
              "beta                                      57\n",
              "dtype: object"
            ]
          },
          "metadata": {
            "tags": []
          },
          "execution_count": 41
        }
      ]
    },
    {
      "cell_type": "markdown",
      "metadata": {
        "id": "8qYMK5plilTq"
      },
      "source": [
        "##ตัวอย่างที่ 2."
      ]
    },
    {
      "cell_type": "code",
      "metadata": {
        "id": "Qq3b7evS9Ui0",
        "colab": {
          "base_uri": "https://localhost:8080/",
          "height": 254
        },
        "outputId": "61265a7c-03fc-4b0a-a399-a7f766328599"
      },
      "source": [
        "ex1 = pd.read_csv('/content/example_timestamp_02.csv')\n",
        "ex1"
      ],
      "execution_count": null,
      "outputs": [
        {
          "output_type": "execute_result",
          "data": {
            "text/html": [
              "<div>\n",
              "<style scoped>\n",
              "    .dataframe tbody tr th:only-of-type {\n",
              "        vertical-align: middle;\n",
              "    }\n",
              "\n",
              "    .dataframe tbody tr th {\n",
              "        vertical-align: top;\n",
              "    }\n",
              "\n",
              "    .dataframe thead th {\n",
              "        text-align: right;\n",
              "    }\n",
              "</style>\n",
              "<table border=\"1\" class=\"dataframe\">\n",
              "  <thead>\n",
              "    <tr style=\"text-align: right;\">\n",
              "      <th></th>\n",
              "      <th>Unnamed: 0</th>\n",
              "      <th>alpha</th>\n",
              "      <th>beta</th>\n",
              "    </tr>\n",
              "  </thead>\n",
              "  <tbody>\n",
              "    <tr>\n",
              "      <th>0</th>\n",
              "      <td>29-05-2020</td>\n",
              "      <td>8.78</td>\n",
              "      <td>24</td>\n",
              "    </tr>\n",
              "    <tr>\n",
              "      <th>1</th>\n",
              "      <td>30-05-2020</td>\n",
              "      <td>13.00</td>\n",
              "      <td>25</td>\n",
              "    </tr>\n",
              "    <tr>\n",
              "      <th>2</th>\n",
              "      <td>31-05-2020</td>\n",
              "      <td>0.44</td>\n",
              "      <td>25</td>\n",
              "    </tr>\n",
              "    <tr>\n",
              "      <th>3</th>\n",
              "      <td>01-06-2020</td>\n",
              "      <td>1.94</td>\n",
              "      <td>28</td>\n",
              "    </tr>\n",
              "    <tr>\n",
              "      <th>4</th>\n",
              "      <td>02-06-2020</td>\n",
              "      <td>5.40</td>\n",
              "      <td>20</td>\n",
              "    </tr>\n",
              "    <tr>\n",
              "      <th>5</th>\n",
              "      <td>03-06-2020</td>\n",
              "      <td>5.68</td>\n",
              "      <td>21</td>\n",
              "    </tr>\n",
              "    <tr>\n",
              "      <th>6</th>\n",
              "      <td>03-06-2020</td>\n",
              "      <td>2.64</td>\n",
              "      <td>16</td>\n",
              "    </tr>\n",
              "  </tbody>\n",
              "</table>\n",
              "</div>"
            ],
            "text/plain": [
              "   Unnamed: 0  alpha  beta\n",
              "0  29-05-2020   8.78    24\n",
              "1  30-05-2020  13.00    25\n",
              "2  31-05-2020   0.44    25\n",
              "3  01-06-2020   1.94    28\n",
              "4  02-06-2020   5.40    20\n",
              "5  03-06-2020   5.68    21\n",
              "6  03-06-2020   2.64    16"
            ]
          },
          "metadata": {
            "tags": []
          },
          "execution_count": 44
        }
      ]
    },
    {
      "cell_type": "code",
      "metadata": {
        "id": "OzvznVie9UcV"
      },
      "source": [
        ""
      ],
      "execution_count": null,
      "outputs": []
    },
    {
      "cell_type": "markdown",
      "metadata": {
        "id": "YUCyFHaXiQzR"
      },
      "source": [
        "#search_click.csv"
      ]
    },
    {
      "cell_type": "markdown",
      "metadata": {
        "id": "EYKIhVTHzPZQ"
      },
      "source": [
        "###เปรียบเทียบเวลาาในการกดเลือกร้าน ''' time_diff_nanos ''' ระหว่างช่วงเวลา 10.00-10.59 กับ 23.00-23.59 ว่าช่วงเวลาไหนมี time_diff_nanos น้อยกว่ากัน"
      ]
    },
    {
      "cell_type": "code",
      "metadata": {
        "colab": {
          "base_uri": "https://localhost:8080/",
          "height": 402
        },
        "id": "_cjBoBxIwnwh",
        "outputId": "1055c064-461a-4c98-b380-c853ecb48ceb"
      },
      "source": [
        "seach = pd.read_csv('/content/search_click.csv')\n",
        "seach"
      ],
      "execution_count": null,
      "outputs": [
        {
          "output_type": "execute_result",
          "data": {
            "text/html": [
              "<div>\n",
              "<style scoped>\n",
              "    .dataframe tbody tr th:only-of-type {\n",
              "        vertical-align: middle;\n",
              "    }\n",
              "\n",
              "    .dataframe tbody tr th {\n",
              "        vertical-align: top;\n",
              "    }\n",
              "\n",
              "    .dataframe thead th {\n",
              "        text-align: right;\n",
              "    }\n",
              "</style>\n",
              "<table border=\"1\" class=\"dataframe\">\n",
              "  <thead>\n",
              "    <tr style=\"text-align: right;\">\n",
              "      <th></th>\n",
              "      <th>click_timestamp</th>\n",
              "      <th>search_id</th>\n",
              "      <th>business_id</th>\n",
              "      <th>display_position</th>\n",
              "      <th>time_diff_nanos</th>\n",
              "      <th>ads</th>\n",
              "    </tr>\n",
              "  </thead>\n",
              "  <tbody>\n",
              "    <tr>\n",
              "      <th>0</th>\n",
              "      <td>11:38.9</td>\n",
              "      <td>5c004472-5ecc-4159-9698-9f329b8e26e1</td>\n",
              "      <td>298839.0</td>\n",
              "      <td>0</td>\n",
              "      <td>2.222400e+15</td>\n",
              "      <td>True</td>\n",
              "    </tr>\n",
              "    <tr>\n",
              "      <th>1</th>\n",
              "      <td>30:51.3</td>\n",
              "      <td>5f34eca0-c04e-4c10-b600-54aa447dbd8e</td>\n",
              "      <td>171372.0</td>\n",
              "      <td>0</td>\n",
              "      <td>4.608380e+14</td>\n",
              "      <td>True</td>\n",
              "    </tr>\n",
              "    <tr>\n",
              "      <th>2</th>\n",
              "      <td>32:09.6</td>\n",
              "      <td>8dc6d1f0-11f1-4239-9dd2-5c1674c81224</td>\n",
              "      <td>16157.0</td>\n",
              "      <td>0</td>\n",
              "      <td>2.581490e+15</td>\n",
              "      <td>True</td>\n",
              "    </tr>\n",
              "    <tr>\n",
              "      <th>3</th>\n",
              "      <td>00:59.8</td>\n",
              "      <td>1a5810e9-3d1f-44b9-9a2e-26ede21c524b</td>\n",
              "      <td>89741.0</td>\n",
              "      <td>1</td>\n",
              "      <td>1.404580e+15</td>\n",
              "      <td>True</td>\n",
              "    </tr>\n",
              "    <tr>\n",
              "      <th>4</th>\n",
              "      <td>23:36.8</td>\n",
              "      <td>6bc75e0d-fc65-471e-9926-ff6be6708639</td>\n",
              "      <td>189564.0</td>\n",
              "      <td>1</td>\n",
              "      <td>9.333590e+14</td>\n",
              "      <td>True</td>\n",
              "    </tr>\n",
              "    <tr>\n",
              "      <th>...</th>\n",
              "      <td>...</td>\n",
              "      <td>...</td>\n",
              "      <td>...</td>\n",
              "      <td>...</td>\n",
              "      <td>...</td>\n",
              "      <td>...</td>\n",
              "    </tr>\n",
              "    <tr>\n",
              "      <th>1048570</th>\n",
              "      <td>05:28.8</td>\n",
              "      <td>99aab616-6fc5-4fbf-994b-4aebee7bb360</td>\n",
              "      <td>278479.0</td>\n",
              "      <td>8</td>\n",
              "      <td>2.072630e+11</td>\n",
              "      <td>False</td>\n",
              "    </tr>\n",
              "    <tr>\n",
              "      <th>1048571</th>\n",
              "      <td>15:28.8</td>\n",
              "      <td>d70a2c5d-ee94-4e4c-9f7c-c5faac6db12a</td>\n",
              "      <td>321885.0</td>\n",
              "      <td>8</td>\n",
              "      <td>6.931413e+10</td>\n",
              "      <td>False</td>\n",
              "    </tr>\n",
              "    <tr>\n",
              "      <th>1048572</th>\n",
              "      <td>11:49.4</td>\n",
              "      <td>4c1de7fe-300e-41aa-9d01-914344fc3753</td>\n",
              "      <td>221035.0</td>\n",
              "      <td>8</td>\n",
              "      <td>3.105162e+10</td>\n",
              "      <td>False</td>\n",
              "    </tr>\n",
              "    <tr>\n",
              "      <th>1048573</th>\n",
              "      <td>10:33.7</td>\n",
              "      <td>2ec0ddec-e450-4b98-9779-42b77aa7eda5</td>\n",
              "      <td>220572.0</td>\n",
              "      <td>8</td>\n",
              "      <td>7.848904e+10</td>\n",
              "      <td>False</td>\n",
              "    </tr>\n",
              "    <tr>\n",
              "      <th>1048574</th>\n",
              "      <td>13:51.4</td>\n",
              "      <td>5741d9cf-b9f1-441d-aa83-d2b0179bf874</td>\n",
              "      <td>310448.0</td>\n",
              "      <td>8</td>\n",
              "      <td>3.157757e+10</td>\n",
              "      <td>False</td>\n",
              "    </tr>\n",
              "  </tbody>\n",
              "</table>\n",
              "<p>1048575 rows × 6 columns</p>\n",
              "</div>"
            ],
            "text/plain": [
              "        click_timestamp  ...    ads\n",
              "0               11:38.9  ...   True\n",
              "1               30:51.3  ...   True\n",
              "2               32:09.6  ...   True\n",
              "3               00:59.8  ...   True\n",
              "4               23:36.8  ...   True\n",
              "...                 ...  ...    ...\n",
              "1048570         05:28.8  ...  False\n",
              "1048571         15:28.8  ...  False\n",
              "1048572         11:49.4  ...  False\n",
              "1048573         10:33.7  ...  False\n",
              "1048574         13:51.4  ...  False\n",
              "\n",
              "[1048575 rows x 6 columns]"
            ]
          },
          "metadata": {
            "tags": []
          },
          "execution_count": 48
        }
      ]
    },
    {
      "cell_type": "code",
      "metadata": {
        "id": "EfkK0-CBtSYv",
        "colab": {
          "base_uri": "https://localhost:8080/"
        },
        "outputId": "711a9127-4a94-4609-da0c-ce985c3a0c4d"
      },
      "source": [
        "len(seach)"
      ],
      "execution_count": null,
      "outputs": [
        {
          "output_type": "execute_result",
          "data": {
            "text/plain": [
              "1048575"
            ]
          },
          "metadata": {
            "tags": []
          },
          "execution_count": 49
        }
      ]
    },
    {
      "cell_type": "code",
      "metadata": {
        "id": "tP0bdjQ_tSVu",
        "colab": {
          "base_uri": "https://localhost:8080/"
        },
        "outputId": "7c09611b-7320-48b7-f2fc-daf55fa39ddd"
      },
      "source": [
        "seach.columns = [i.stritime('%H:%M:%S') if isinstance(i, datetime) else i for i in seach.columns]\n",
        "seach.columns"
      ],
      "execution_count": null,
      "outputs": [
        {
          "output_type": "execute_result",
          "data": {
            "text/plain": [
              "Index(['click_timestamp', 'search_id', 'business_id', 'display_position',\n",
              "       'time_diff_nanos', 'ads'],\n",
              "      dtype='object')"
            ]
          },
          "metadata": {
            "tags": []
          },
          "execution_count": 50
        }
      ]
    },
    {
      "cell_type": "code",
      "metadata": {
        "id": "WksrJ2SQtSSH"
      },
      "source": [
        "string_datetime = '10:00:0'"
      ],
      "execution_count": null,
      "outputs": []
    },
    {
      "cell_type": "code",
      "metadata": {
        "id": "V5m4t6hBtSIw",
        "colab": {
          "base_uri": "https://localhost:8080/"
        },
        "outputId": "54954be3-3390-4584-cbf0-8c31e9c74315"
      },
      "source": [
        "import time\n",
        "timeis = time.localtime()\n",
        "a = time.strftime('%H:%M:%S', timeis)\n",
        "print(a)"
      ],
      "execution_count": null,
      "outputs": [
        {
          "output_type": "stream",
          "text": [
            "15:12:40\n"
          ],
          "name": "stdout"
        }
      ]
    },
    {
      "cell_type": "markdown",
      "metadata": {
        "id": "QX7bbX62FKYv"
      },
      "source": [
        "#Quiz5(2)"
      ]
    },
    {
      "cell_type": "code",
      "metadata": {
        "id": "PgOLE3jZy_nU",
        "colab": {
          "base_uri": "https://localhost:8080/",
          "height": 976
        },
        "outputId": "df0dbfb6-4ca6-4ddb-f434-dc95abf881a9"
      },
      "source": [
        "se = pd.read_csv('/content/search_request.csv')\n",
        "se.dropna()"
      ],
      "execution_count": 68,
      "outputs": [
        {
          "output_type": "stream",
          "text": [
            "/usr/local/lib/python3.7/dist-packages/IPython/core/interactiveshell.py:2718: DtypeWarning: Columns (7,8,9) have mixed types.Specify dtype option on import or set low_memory=False.\n",
            "  interactivity=interactivity, compiler=compiler, result=result)\n"
          ],
          "name": "stderr"
        },
        {
          "output_type": "execute_result",
          "data": {
            "text/html": [
              "<div>\n",
              "<style scoped>\n",
              "    .dataframe tbody tr th:only-of-type {\n",
              "        vertical-align: middle;\n",
              "    }\n",
              "\n",
              "    .dataframe tbody tr th {\n",
              "        vertical-align: top;\n",
              "    }\n",
              "\n",
              "    .dataframe thead th {\n",
              "        text-align: right;\n",
              "    }\n",
              "</style>\n",
              "<table border=\"1\" class=\"dataframe\">\n",
              "  <thead>\n",
              "    <tr style=\"text-align: right;\">\n",
              "      <th></th>\n",
              "      <th>Unnamed: 0</th>\n",
              "      <th>search_id</th>\n",
              "      <th>search_timestamp</th>\n",
              "      <th>user_agent</th>\n",
              "      <th>q</th>\n",
              "      <th>user_id</th>\n",
              "      <th>session_id</th>\n",
              "      <th>number_of_result</th>\n",
              "      <th>lat</th>\n",
              "      <th>long</th>\n",
              "    </tr>\n",
              "  </thead>\n",
              "  <tbody>\n",
              "    <tr>\n",
              "      <th>8</th>\n",
              "      <td>8</td>\n",
              "      <td>02fedb5c-c9cd-46d7-9354-7613ecb7cfdd</td>\n",
              "      <td>2018-06-22 12:22:17.031</td>\n",
              "      <td>Wongnai/10.0 (iPhone10,6; iOS; 11.4; en_TH@cal...</td>\n",
              "      <td>vt แหนมเนือง</td>\n",
              "      <td>6967.0</td>\n",
              "      <td>4db1ugh8nj95totfl6dd4q4rb9</td>\n",
              "      <td>14</td>\n",
              "      <td>13.7209</td>\n",
              "      <td>100.527</td>\n",
              "    </tr>\n",
              "    <tr>\n",
              "      <th>9</th>\n",
              "      <td>9</td>\n",
              "      <td>e215d487-0450-4794-830a-ecfc0ab6493b</td>\n",
              "      <td>2018-06-22 12:15:24.769</td>\n",
              "      <td>Wongnai/10.0 (iPhone10,6; iOS; 11.4; en_TH@cal...</td>\n",
              "      <td>kuppadeli</td>\n",
              "      <td>6967.0</td>\n",
              "      <td>4orpg6839u93baoa36aicq78iq</td>\n",
              "      <td>9</td>\n",
              "      <td>13.7208</td>\n",
              "      <td>100.527</td>\n",
              "    </tr>\n",
              "    <tr>\n",
              "      <th>10</th>\n",
              "      <td>10</td>\n",
              "      <td>3a69e702-e54b-497c-9b8f-c3991d4c02ff</td>\n",
              "      <td>2018-06-22 12:12:24.091</td>\n",
              "      <td>Wongnai/10.0 (iPhone10,6; iOS; 11.4; en_TH@cal...</td>\n",
              "      <td>ข้าวซอยลำดวน</td>\n",
              "      <td>6967.0</td>\n",
              "      <td>4orpg6839u93baoa36aicq78iq</td>\n",
              "      <td>9</td>\n",
              "      <td>13.7209</td>\n",
              "      <td>100.527</td>\n",
              "    </tr>\n",
              "    <tr>\n",
              "      <th>11</th>\n",
              "      <td>11</td>\n",
              "      <td>03cb2585-738e-4000-afed-e976d123a145</td>\n",
              "      <td>2018-06-22 12:04:43.977</td>\n",
              "      <td>Wongnai/10.0 (iPhone10,6; iOS; 11.4; en_TH@cal...</td>\n",
              "      <td>kagonoya</td>\n",
              "      <td>6967.0</td>\n",
              "      <td>4orpg6839u93baoa36aicq78iq</td>\n",
              "      <td>8</td>\n",
              "      <td>13.7211</td>\n",
              "      <td>100.527</td>\n",
              "    </tr>\n",
              "    <tr>\n",
              "      <th>12</th>\n",
              "      <td>12</td>\n",
              "      <td>4974a821-2bc0-4efe-9e2d-d602669dc283</td>\n",
              "      <td>2018-06-22 12:07:02.556</td>\n",
              "      <td>Wongnai/10.0 (iPhone10,6; iOS; 11.4; en_TH@cal...</td>\n",
              "      <td>สุพรรณิการ์</td>\n",
              "      <td>6967.0</td>\n",
              "      <td>4orpg6839u93baoa36aicq78iq</td>\n",
              "      <td>10</td>\n",
              "      <td>13.7208</td>\n",
              "      <td>100.527</td>\n",
              "    </tr>\n",
              "    <tr>\n",
              "      <th>...</th>\n",
              "      <td>...</td>\n",
              "      <td>...</td>\n",
              "      <td>...</td>\n",
              "      <td>...</td>\n",
              "      <td>...</td>\n",
              "      <td>...</td>\n",
              "      <td>...</td>\n",
              "      <td>...</td>\n",
              "      <td>...</td>\n",
              "      <td>...</td>\n",
              "    </tr>\n",
              "    <tr>\n",
              "      <th>3600886</th>\n",
              "      <td>3601028</td>\n",
              "      <td>d39831dc-05ed-47cb-9cbf-d632dc95891d</td>\n",
              "      <td>2018-06-14 16:20:51.331</td>\n",
              "      <td>Wongnai/8.17.4 (iPhone9,4; iOS; 11.3; en_TH;)</td>\n",
              "      <td>เมืองชลบุรี</td>\n",
              "      <td>71380.0</td>\n",
              "      <td>1j6gup24vv9jnoeqsfq2ogn60k</td>\n",
              "      <td>22</td>\n",
              "      <td>13.1013</td>\n",
              "      <td>100.947</td>\n",
              "    </tr>\n",
              "    <tr>\n",
              "      <th>3600913</th>\n",
              "      <td>3601055</td>\n",
              "      <td>86ce9b61-8b62-418a-bfa9-8a75819e05b4</td>\n",
              "      <td>2018-06-14 14:02:41.327</td>\n",
              "      <td>Wongnai/8.17.4 (iPhone9,4; iOS; 11.4; en_TH;)</td>\n",
              "      <td>ร้านกาแฟ</td>\n",
              "      <td>24819.0</td>\n",
              "      <td>4jr3ibl2kp9iha6hscojfs67fe</td>\n",
              "      <td>22</td>\n",
              "      <td>13.3041</td>\n",
              "      <td>100.903</td>\n",
              "    </tr>\n",
              "    <tr>\n",
              "      <th>3600965</th>\n",
              "      <td>3601107</td>\n",
              "      <td>de8690ef-6bae-495c-8ec9-718793527a24</td>\n",
              "      <td>2018-06-14 13:38:22.734</td>\n",
              "      <td>Wongnai/8.17.4 (iPhone9,4; iOS; 11.4; th_TH;)</td>\n",
              "      <td>บางรัก</td>\n",
              "      <td>96280.0</td>\n",
              "      <td>664aj81fkv8cdp92fh97n9r6kd</td>\n",
              "      <td>22</td>\n",
              "      <td>13.7463</td>\n",
              "      <td>100.53</td>\n",
              "    </tr>\n",
              "    <tr>\n",
              "      <th>3600966</th>\n",
              "      <td>3601108</td>\n",
              "      <td>a0aabf40-760d-4041-94ff-67470d56ff20</td>\n",
              "      <td>2018-06-14 13:38:29.799</td>\n",
              "      <td>Wongnai/8.17.4 (iPhone9,4; iOS; 11.4; th_TH;)</td>\n",
              "      <td>บางรัก</td>\n",
              "      <td>96280.0</td>\n",
              "      <td>664aj81fkv8cdp92fh97n9r6kd</td>\n",
              "      <td>22</td>\n",
              "      <td>13.7463</td>\n",
              "      <td>100.53</td>\n",
              "    </tr>\n",
              "    <tr>\n",
              "      <th>3601017</th>\n",
              "      <td>3601159</td>\n",
              "      <td>dac91d76-3ad5-4ec1-961e-ff5c0321e19e</td>\n",
              "      <td>2018-06-14 15:51:33.510</td>\n",
              "      <td>Wongnai/8.17.4 (iPhone10,5; iOS; 11.3; en_TH;)</td>\n",
              "      <td>ของหวาน ภูเก็ต</td>\n",
              "      <td>58927.0</td>\n",
              "      <td>3ia5qjeml58n79b2g6fp9mruhj</td>\n",
              "      <td>22</td>\n",
              "      <td>8.00921</td>\n",
              "      <td>98.3382</td>\n",
              "    </tr>\n",
              "  </tbody>\n",
              "</table>\n",
              "<p>100746 rows × 10 columns</p>\n",
              "</div>"
            ],
            "text/plain": [
              "         Unnamed: 0                             search_id  ...      lat     long\n",
              "8                 8  02fedb5c-c9cd-46d7-9354-7613ecb7cfdd  ...  13.7209  100.527\n",
              "9                 9  e215d487-0450-4794-830a-ecfc0ab6493b  ...  13.7208  100.527\n",
              "10               10  3a69e702-e54b-497c-9b8f-c3991d4c02ff  ...  13.7209  100.527\n",
              "11               11  03cb2585-738e-4000-afed-e976d123a145  ...  13.7211  100.527\n",
              "12               12  4974a821-2bc0-4efe-9e2d-d602669dc283  ...  13.7208  100.527\n",
              "...             ...                                   ...  ...      ...      ...\n",
              "3600886     3601028  d39831dc-05ed-47cb-9cbf-d632dc95891d  ...  13.1013  100.947\n",
              "3600913     3601055  86ce9b61-8b62-418a-bfa9-8a75819e05b4  ...  13.3041  100.903\n",
              "3600965     3601107  de8690ef-6bae-495c-8ec9-718793527a24  ...  13.7463   100.53\n",
              "3600966     3601108  a0aabf40-760d-4041-94ff-67470d56ff20  ...  13.7463   100.53\n",
              "3601017     3601159  dac91d76-3ad5-4ec1-961e-ff5c0321e19e  ...  8.00921  98.3382\n",
              "\n",
              "[100746 rows x 10 columns]"
            ]
          },
          "metadata": {
            "tags": []
          },
          "execution_count": 68
        }
      ]
    },
    {
      "cell_type": "code",
      "metadata": {
        "id": "eI2YsXpYXoPF"
      },
      "source": [
        ""
      ],
      "execution_count": null,
      "outputs": []
    },
    {
      "cell_type": "code",
      "metadata": {
        "id": "WHjJOsELXoL8"
      },
      "source": [
        ""
      ],
      "execution_count": null,
      "outputs": []
    },
    {
      "cell_type": "code",
      "metadata": {
        "id": "KOL5K3p9XoIH"
      },
      "source": [
        ""
      ],
      "execution_count": null,
      "outputs": []
    },
    {
      "cell_type": "code",
      "metadata": {
        "id": "qZ3YEaGyJ9nK",
        "outputId": "bcafe30b-fc3d-453c-87b7-a466946b0a11",
        "colab": {
          "base_uri": "https://localhost:8080/"
        }
      },
      "source": [
        "import time;\n",
        "se = time.time()\n",
        "se"
      ],
      "execution_count": 61,
      "outputs": [
        {
          "output_type": "execute_result",
          "data": {
            "text/plain": [
              "1616641387.0386431"
            ]
          },
          "metadata": {
            "tags": []
          },
          "execution_count": 61
        }
      ]
    },
    {
      "cell_type": "code",
      "metadata": {
        "id": "G2Km2ZTeLqyI",
        "outputId": "33546700-f579-45fb-9b56-5c825880ce42",
        "colab": {
          "base_uri": "https://localhost:8080/"
        }
      },
      "source": [
        "se = datetime.now()\n",
        "timet = se.strftime(\"%Y-%b-%d (%H:%M:%S.%f)\")\n",
        "print('timet :', timet)"
      ],
      "execution_count": 66,
      "outputs": [
        {
          "output_type": "stream",
          "text": [
            "timet : 2021-Mar-25 (03:12:11.536322)\n"
          ],
          "name": "stdout"
        }
      ]
    },
    {
      "cell_type": "code",
      "metadata": {
        "id": "VQvTqXYEWodX"
      },
      "source": [
        ""
      ],
      "execution_count": null,
      "outputs": []
    },
    {
      "cell_type": "code",
      "metadata": {
        "id": "UgtrXjNCWoaP"
      },
      "source": [
        ""
      ],
      "execution_count": null,
      "outputs": []
    },
    {
      "cell_type": "code",
      "metadata": {
        "id": "e4lE9j4eWoWm"
      },
      "source": [
        ""
      ],
      "execution_count": null,
      "outputs": []
    },
    {
      "cell_type": "code",
      "metadata": {
        "id": "w7bXe3BOSSGI"
      },
      "source": [
        "top_table[top_table[''].dt.time> time(hour=12)]"
      ],
      "execution_count": 46,
      "outputs": []
    },
    {
      "cell_type": "code",
      "metadata": {
        "id": "gc7fR7Y6U-Gz"
      },
      "source": [
        ""
      ],
      "execution_count": null,
      "outputs": []
    },
    {
      "cell_type": "code",
      "metadata": {
        "id": "KCmDgYNxU_H-"
      },
      "source": [
        ""
      ],
      "execution_count": null,
      "outputs": []
    }
  ]
}