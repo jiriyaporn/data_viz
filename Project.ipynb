{
  "nbformat": 4,
  "nbformat_minor": 0,
  "metadata": {
    "colab": {
      "name": "Project.ipynb",
      "provenance": [],
      "collapsed_sections": [],
      "authorship_tag": "ABX9TyMye4jNAXHoP14jvdbABBeR",
      "include_colab_link": true
    },
    "kernelspec": {
      "name": "python3",
      "display_name": "Python 3"
    },
    "language_info": {
      "name": "python"
    }
  },
  "cells": [
    {
      "cell_type": "markdown",
      "metadata": {
        "id": "view-in-github",
        "colab_type": "text"
      },
      "source": [
        "<a href=\"https://colab.research.google.com/github/jiriyaporn/data_viz/blob/main/Project.ipynb\" target=\"_parent\"><img src=\"https://colab.research.google.com/assets/colab-badge.svg\" alt=\"Open In Colab\"/></a>"
      ]
    },
    {
      "cell_type": "markdown",
      "metadata": {
        "id": "G1Mbqv1D78-h"
      },
      "source": [
        "H= 0.5 -Brownian motion\n",
        "\n",
        "0.5<H<1.0 -persistent behavior\n",
        "\n",
        "0<H<0.5 -anti-persistent behavior"
      ]
    },
    {
      "cell_type": "code",
      "metadata": {
        "colab": {
          "base_uri": "https://localhost:8080/"
        },
        "id": "UWEclcoR3omr",
        "outputId": "6ccb05d9-1b08-4905-bdc1-72a63d8bb167"
      },
      "source": [
        "pip install hurst"
      ],
      "execution_count": 5,
      "outputs": [
        {
          "output_type": "stream",
          "name": "stdout",
          "text": [
            "Collecting hurst\n",
            "  Downloading hurst-0.0.5-py3-none-any.whl (5.9 kB)\n",
            "Requirement already satisfied: pandas>=0.18 in /usr/local/lib/python3.7/dist-packages (from hurst) (1.1.5)\n",
            "Requirement already satisfied: numpy>=1.10 in /usr/local/lib/python3.7/dist-packages (from hurst) (1.19.5)\n",
            "Requirement already satisfied: python-dateutil>=2.7.3 in /usr/local/lib/python3.7/dist-packages (from pandas>=0.18->hurst) (2.8.2)\n",
            "Requirement already satisfied: pytz>=2017.2 in /usr/local/lib/python3.7/dist-packages (from pandas>=0.18->hurst) (2018.9)\n",
            "Requirement already satisfied: six>=1.5 in /usr/local/lib/python3.7/dist-packages (from python-dateutil>=2.7.3->pandas>=0.18->hurst) (1.15.0)\n",
            "Installing collected packages: hurst\n",
            "Successfully installed hurst-0.0.5\n"
          ]
        }
      ]
    },
    {
      "cell_type": "code",
      "metadata": {
        "id": "BkEBhOSk8ldh"
      },
      "source": [
        "import numpy as np\n",
        "import pandas as pd\n",
        "import matplotlib.pyplot as plt\n",
        "from hurst import compute_Hc, random_walk"
      ],
      "execution_count": 11,
      "outputs": []
    },
    {
      "cell_type": "code",
      "metadata": {
        "colab": {
          "base_uri": "https://localhost:8080/"
        },
        "id": "rhqD04MjTPEC",
        "outputId": "3501b4b9-4f09-4cd3-d7c6-69aa5848864b"
      },
      "source": [
        "from google.colab import drive\n",
        "drive.mount('/content/drive')"
      ],
      "execution_count": 12,
      "outputs": [
        {
          "output_type": "stream",
          "name": "stdout",
          "text": [
            "Mounted at /content/drive\n"
          ]
        }
      ]
    },
    {
      "cell_type": "code",
      "metadata": {
        "colab": {
          "base_uri": "https://localhost:8080/",
          "height": 632
        },
        "id": "fnRMs-LjTgd7",
        "outputId": "899acdc1-7c94-4336-f69b-516b7ed7d886"
      },
      "source": [
        "import os\n",
        "path = '/content/drive/My Drive/project1'\n",
        "oildata = os.path.join(path, 'oil data 2017-2021.xlsx')\n",
        "print(oildata)\n",
        "data_oil = pd.read_excel(oildata)\n",
        "oil1 = data_oil[:1688]\n",
        "oil1"
      ],
      "execution_count": 20,
      "outputs": [
        {
          "output_type": "stream",
          "name": "stdout",
          "text": [
            "/content/drive/My Drive/project1/oil data 2017-2021.xlsx\n"
          ]
        },
        {
          "output_type": "execute_result",
          "data": {
            "text/html": [
              "<div>\n",
              "<style scoped>\n",
              "    .dataframe tbody tr th:only-of-type {\n",
              "        vertical-align: middle;\n",
              "    }\n",
              "\n",
              "    .dataframe tbody tr th {\n",
              "        vertical-align: top;\n",
              "    }\n",
              "\n",
              "    .dataframe thead th {\n",
              "        text-align: right;\n",
              "    }\n",
              "</style>\n",
              "<table border=\"1\" class=\"dataframe\">\n",
              "  <thead>\n",
              "    <tr style=\"text-align: right;\">\n",
              "      <th></th>\n",
              "      <th>วันที่</th>\n",
              "      <th>ไฮพรีเมียม ดีเซล</th>\n",
              "      <th>ไฮดีเซล</th>\n",
              "      <th>ไฮดีเซล B10</th>\n",
              "      <th>ไฮดัเซล B20</th>\n",
              "      <th>แก๊สโซฮอล์ E85</th>\n",
              "      <th>แก๊สโซฮอล์ E20</th>\n",
              "      <th>แก๊สโซฮอล์ 91</th>\n",
              "      <th>แก๊สโซฮอล์ 95</th>\n",
              "      <th>MGV</th>\n",
              "    </tr>\n",
              "  </thead>\n",
              "  <tbody>\n",
              "    <tr>\n",
              "      <th>0</th>\n",
              "      <td>15 ส.ค. 2021</td>\n",
              "      <td>34.16</td>\n",
              "      <td>29.39</td>\n",
              "      <td>26.39</td>\n",
              "      <td>26.14</td>\n",
              "      <td>22.84</td>\n",
              "      <td>28.34</td>\n",
              "      <td>29.58</td>\n",
              "      <td>29.85</td>\n",
              "      <td>14.55</td>\n",
              "    </tr>\n",
              "    <tr>\n",
              "      <th>1</th>\n",
              "      <td>14 ส.ค. 2021</td>\n",
              "      <td>34.16</td>\n",
              "      <td>29.39</td>\n",
              "      <td>26.39</td>\n",
              "      <td>26.14</td>\n",
              "      <td>22.84</td>\n",
              "      <td>28.34</td>\n",
              "      <td>29.58</td>\n",
              "      <td>29.85</td>\n",
              "      <td>14.55</td>\n",
              "    </tr>\n",
              "    <tr>\n",
              "      <th>2</th>\n",
              "      <td>13 ส.ค. 2021</td>\n",
              "      <td>34.16</td>\n",
              "      <td>29.39</td>\n",
              "      <td>26.39</td>\n",
              "      <td>26.14</td>\n",
              "      <td>22.84</td>\n",
              "      <td>28.34</td>\n",
              "      <td>29.58</td>\n",
              "      <td>29.85</td>\n",
              "      <td>14.55</td>\n",
              "    </tr>\n",
              "    <tr>\n",
              "      <th>3</th>\n",
              "      <td>12 ส.ค. 2021</td>\n",
              "      <td>34.16</td>\n",
              "      <td>29.39</td>\n",
              "      <td>26.39</td>\n",
              "      <td>26.14</td>\n",
              "      <td>22.84</td>\n",
              "      <td>28.34</td>\n",
              "      <td>29.58</td>\n",
              "      <td>29.85</td>\n",
              "      <td>14.55</td>\n",
              "    </tr>\n",
              "    <tr>\n",
              "      <th>4</th>\n",
              "      <td>11 ส.ค. 2021</td>\n",
              "      <td>33.76</td>\n",
              "      <td>28.99</td>\n",
              "      <td>25.99</td>\n",
              "      <td>25.74</td>\n",
              "      <td>22.64</td>\n",
              "      <td>27.94</td>\n",
              "      <td>29.18</td>\n",
              "      <td>29.45</td>\n",
              "      <td>14.55</td>\n",
              "    </tr>\n",
              "    <tr>\n",
              "      <th>...</th>\n",
              "      <td>...</td>\n",
              "      <td>...</td>\n",
              "      <td>...</td>\n",
              "      <td>...</td>\n",
              "      <td>...</td>\n",
              "      <td>...</td>\n",
              "      <td>...</td>\n",
              "      <td>...</td>\n",
              "      <td>...</td>\n",
              "      <td>...</td>\n",
              "    </tr>\n",
              "    <tr>\n",
              "      <th>1683</th>\n",
              "      <td>5 ม.ค. 2017</td>\n",
              "      <td>26.74</td>\n",
              "      <td>20.34</td>\n",
              "      <td>-</td>\n",
              "      <td>-</td>\n",
              "      <td>25.49</td>\n",
              "      <td>27.73</td>\n",
              "      <td>28.00</td>\n",
              "      <td>12.59</td>\n",
              "      <td>-</td>\n",
              "    </tr>\n",
              "    <tr>\n",
              "      <th>1684</th>\n",
              "      <td>4 ม.ค. 2017</td>\n",
              "      <td>26.14</td>\n",
              "      <td>19.94</td>\n",
              "      <td>-</td>\n",
              "      <td>-</td>\n",
              "      <td>24.89</td>\n",
              "      <td>27.13</td>\n",
              "      <td>27.40</td>\n",
              "      <td>12.59</td>\n",
              "      <td>-</td>\n",
              "    </tr>\n",
              "    <tr>\n",
              "      <th>1685</th>\n",
              "      <td>3 ม.ค. 2017</td>\n",
              "      <td>26.14</td>\n",
              "      <td>19.94</td>\n",
              "      <td>-</td>\n",
              "      <td>-</td>\n",
              "      <td>24.89</td>\n",
              "      <td>27.13</td>\n",
              "      <td>27.40</td>\n",
              "      <td>12.59</td>\n",
              "      <td>-</td>\n",
              "    </tr>\n",
              "    <tr>\n",
              "      <th>1686</th>\n",
              "      <td>2 ม.ค. 2017</td>\n",
              "      <td>26.14</td>\n",
              "      <td>19.94</td>\n",
              "      <td>-</td>\n",
              "      <td>-</td>\n",
              "      <td>24.89</td>\n",
              "      <td>27.13</td>\n",
              "      <td>27.40</td>\n",
              "      <td>12.59</td>\n",
              "      <td>-</td>\n",
              "    </tr>\n",
              "    <tr>\n",
              "      <th>1687</th>\n",
              "      <td>1 ม.ค. 2017</td>\n",
              "      <td>26.14</td>\n",
              "      <td>19.94</td>\n",
              "      <td>-</td>\n",
              "      <td>-</td>\n",
              "      <td>24.89</td>\n",
              "      <td>27.13</td>\n",
              "      <td>27.40</td>\n",
              "      <td>12.59</td>\n",
              "      <td>-</td>\n",
              "    </tr>\n",
              "  </tbody>\n",
              "</table>\n",
              "<p>1688 rows × 10 columns</p>\n",
              "</div>"
            ],
            "text/plain": [
              "            วันที่  ไฮพรีเมียม ดีเซล  ...  แก๊สโซฮอล์ 95    MGV\n",
              "0     15 ส.ค. 2021             34.16  ...          29.85  14.55\n",
              "1     14 ส.ค. 2021             34.16  ...          29.85  14.55\n",
              "2     13 ส.ค. 2021             34.16  ...          29.85  14.55\n",
              "3     12 ส.ค. 2021             34.16  ...          29.85  14.55\n",
              "4     11 ส.ค. 2021             33.76  ...          29.45  14.55\n",
              "...            ...               ...  ...            ...    ...\n",
              "1683   5 ม.ค. 2017             26.74  ...          12.59      -\n",
              "1684   4 ม.ค. 2017             26.14  ...          12.59      -\n",
              "1685   3 ม.ค. 2017             26.14  ...          12.59      -\n",
              "1686   2 ม.ค. 2017             26.14  ...          12.59      -\n",
              "1687   1 ม.ค. 2017             26.14  ...          12.59      -\n",
              "\n",
              "[1688 rows x 10 columns]"
            ]
          },
          "metadata": {},
          "execution_count": 20
        }
      ]
    },
    {
      "cell_type": "markdown",
      "metadata": {
        "id": "gKYNELD2nXvv"
      },
      "source": [
        "###R/S"
      ]
    },
    {
      "cell_type": "code",
      "metadata": {
        "colab": {
          "base_uri": "https://localhost:8080/",
          "height": 301
        },
        "id": "TKnOFr3i8lYf",
        "outputId": "560c9e20-498c-4546-dff4-83687050b14b"
      },
      "source": [
        "np.random.seed(1688)\n",
        "random_changes = 1. + np.random.randn(99999) / 1000\n",
        "series = np.cumprod(random_changes)  # create a random walk from random changes\n",
        "\n",
        "#Evalute Hurst equation \n",
        "H, c, oil1  = compute_Hc(series, kind='price', simplified=True)\n",
        "\n",
        "# Plot\n",
        "f, ax = plt.subplots()\n",
        "ax.plot(oil1[0], c*oil1[0]**H, color=\"deepskyblue\")\n",
        "ax.scatter(oil1[0], oil1[1], color=\"purple\")\n",
        "ax.set_xscale('log')\n",
        "ax.set_yscale('log')\n",
        "ax.set_xlabel('Time interval')\n",
        "ax.set_ylabel('R/S ratio')\n",
        "ax.grid(True)\n",
        "plt.show()\n",
        "\n",
        "print(\"H={:.4f}, c={:.4f}\".format(H,c))\n",
        "\n",
        "\n",
        "\n"
      ],
      "execution_count": 22,
      "outputs": [
        {
          "output_type": "display_data",
          "data": {
            "image/png": "[encoded data removed]",
            "text/plain": [
              "<Figure size 432x288 with 1 Axes>"
            ]
          },
          "metadata": {
            "needs_background": "light"
          }
        },
        {
          "output_type": "stream",
          "name": "stdout",
          "text": [
            "H=0.5147, c=1.3742\n"
          ]
        }
      ]
    },
    {
      "cell_type": "code",
      "metadata": {
        "id": "9q_zfXAE8lXS"
      },
      "source": [
        ""
      ],
      "execution_count": 29,
      "outputs": []
    },
    {
      "cell_type": "code",
      "metadata": {
        "id": "9LUKbCoG8lTH"
      },
      "source": [
        ""
      ],
      "execution_count": null,
      "outputs": []
    },
    {
      "cell_type": "code",
      "metadata": {
        "id": "0T74aBoV8lRq"
      },
      "source": [
        ""
      ],
      "execution_count": null,
      "outputs": []
    },
    {
      "cell_type": "code",
      "metadata": {
        "id": "2pMvRx-68lND"
      },
      "source": [
        ""
      ],
      "execution_count": null,
      "outputs": []
    },
    {
      "cell_type": "code",
      "metadata": {
        "id": "ul7xpzQm8lL6"
      },
      "source": [
        ""
      ],
      "execution_count": null,
      "outputs": []
    },
    {
      "cell_type": "code",
      "metadata": {
        "id": "xwcaE7Gq8lHk"
      },
      "source": [
        ""
      ],
      "execution_count": null,
      "outputs": []
    },
    {
      "cell_type": "code",
      "metadata": {
        "id": "T3y6bZzJ8lGS"
      },
      "source": [
        ""
      ],
      "execution_count": null,
      "outputs": []
    },
    {
      "cell_type": "code",
      "metadata": {
        "id": "JWHW3rpO8lB7"
      },
      "source": [
        ""
      ],
      "execution_count": null,
      "outputs": []
    },
    {
      "cell_type": "code",
      "metadata": {
        "id": "GYgonXwm8lA3"
      },
      "source": [
        ""
      ],
      "execution_count": null,
      "outputs": []
    },
    {
      "cell_type": "code",
      "metadata": {
        "id": "PjxUDK6K8k8P"
      },
      "source": [
        ""
      ],
      "execution_count": null,
      "outputs": []
    },
    {
      "cell_type": "code",
      "metadata": {
        "id": "b4eDv9Qf8k7J"
      },
      "source": [
        ""
      ],
      "execution_count": null,
      "outputs": []
    },
    {
      "cell_type": "code",
      "metadata": {
        "id": "GY-YPiZN8k0B"
      },
      "source": [
        ""
      ],
      "execution_count": null,
      "outputs": []
    }
  ]
}