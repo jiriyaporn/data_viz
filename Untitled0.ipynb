{
  "nbformat": 4,
  "nbformat_minor": 0,
  "metadata": {
    "colab": {
      "name": "Untitled0.ipynb",
      "provenance": [],
      "authorship_tag": "ABX9TyPI8EDWyHs/0bijVTcb7hkb",
      "include_colab_link": true
    },
    "kernelspec": {
      "name": "python3",
      "display_name": "Python 3"
    }
  },
  "cells": [
    {
      "cell_type": "markdown",
      "metadata": {
        "id": "view-in-github",
        "colab_type": "text"
      },
      "source": [
        "<a href=\"https://colab.research.google.com/github/jiriyaporn/data_viz/blob/main/Untitled0.ipynb\" target=\"_parent\"><img src=\"https://colab.research.google.com/assets/colab-badge.svg\" alt=\"Open In Colab\"/></a>"
      ]
    },
    {
      "cell_type": "markdown",
      "metadata": {
        "id": "uuY73B6NEuk_"
      },
      "source": [
        "###HW2"
      ]
    },
    {
      "cell_type": "markdown",
      "metadata": {
        "id": "bp6xd5HkE0As"
      },
      "source": [
        "คำนวณเวลาเป็นวินาทีของเวลาต่อไปนี้โดยใช้คำสั่ง split() ช่วย\r\n",
        "\r\n",
        "12:30:15\r\n",
        "\r\n",
        "13:41:07\r\n",
        "\r\n",
        "12:53:15\r\n",
        "\r\n",
        "00:59:25\r\n",
        "\r\n",
        "11:11:11\r\n",
        "\r\n",
        "16:06:09"
      ]
    },
    {
      "cell_type": "code",
      "metadata": {
        "id": "rnq-qxEAE0sX"
      },
      "source": [
        "time = \"12:30:15\" ##ข้อที่1"
      ],
      "execution_count": 62,
      "outputs": []
    },
    {
      "cell_type": "code",
      "metadata": {
        "colab": {
          "base_uri": "https://localhost:8080/"
        },
        "id": "AZTbreMKE51F",
        "outputId": "f390ce8d-bfa5-4aa8-b53f-f2475d56134c"
      },
      "source": [
        "time.split(\":\")"
      ],
      "execution_count": 63,
      "outputs": [
        {
          "output_type": "execute_result",
          "data": {
            "text/plain": [
              "['12', '30', '15']"
            ]
          },
          "metadata": {
            "tags": []
          },
          "execution_count": 63
        }
      ]
    },
    {
      "cell_type": "code",
      "metadata": {
        "colab": {
          "base_uri": "https://localhost:8080/"
        },
        "id": "H4QdAM72FBQ2",
        "outputId": "b3257ca9-31a7-44b2-e299-ce73d04d0ab5"
      },
      "source": [
        "len(time)"
      ],
      "execution_count": 3,
      "outputs": [
        {
          "output_type": "execute_result",
          "data": {
            "text/plain": [
              "8"
            ]
          },
          "metadata": {
            "tags": []
          },
          "execution_count": 3
        }
      ]
    },
    {
      "cell_type": "code",
      "metadata": {
        "colab": {
          "base_uri": "https://localhost:8080/"
        },
        "id": "X9M2ZBkoFHYo",
        "outputId": "a2a37009-9c30-447c-9ffc-c5a2de739a80"
      },
      "source": [
        "a = (time[0:2])\r\n",
        "print(a)"
      ],
      "execution_count": 8,
      "outputs": [
        {
          "output_type": "stream",
          "text": [
            "12\n"
          ],
          "name": "stdout"
        }
      ]
    },
    {
      "cell_type": "code",
      "metadata": {
        "colab": {
          "base_uri": "https://localhost:8080/"
        },
        "id": "Awr6-4adFLku",
        "outputId": "77d35b31-155f-4af1-b6ec-44ba10f311cf"
      },
      "source": [
        "b = (time[3:5])\r\n",
        "print(b)"
      ],
      "execution_count": 9,
      "outputs": [
        {
          "output_type": "stream",
          "text": [
            "30\n"
          ],
          "name": "stdout"
        }
      ]
    },
    {
      "cell_type": "code",
      "metadata": {
        "colab": {
          "base_uri": "https://localhost:8080/"
        },
        "id": "8adyjdg4GEqa",
        "outputId": "c639ac69-e3d3-42a6-e242-cc4982f68660"
      },
      "source": [
        "c =  (time[6:8])\r\n",
        "print(c)"
      ],
      "execution_count": 10,
      "outputs": [
        {
          "output_type": "stream",
          "text": [
            "15\n"
          ],
          "name": "stdout"
        }
      ]
    },
    {
      "cell_type": "code",
      "metadata": {
        "colab": {
          "base_uri": "https://localhost:8080/"
        },
        "id": "utYf28C7GO3-",
        "outputId": "989774d5-f859-43d5-ca59-a4145b913e94"
      },
      "source": [
        "int(a)*60*60+int(b)*60+int(c)"
      ],
      "execution_count": 12,
      "outputs": [
        {
          "output_type": "execute_result",
          "data": {
            "text/plain": [
              "45015"
            ]
          },
          "metadata": {
            "tags": []
          },
          "execution_count": 12
        }
      ]
    },
    {
      "cell_type": "code",
      "metadata": {
        "id": "R2LGkxl5JyU7"
      },
      "source": [
        "time1 = \"13:41:07\" ##ข้อที่2"
      ],
      "execution_count": 64,
      "outputs": []
    },
    {
      "cell_type": "code",
      "metadata": {
        "colab": {
          "base_uri": "https://localhost:8080/"
        },
        "id": "RKGLiByAJ3pC",
        "outputId": "53fb2c02-a8e6-47a3-eb73-a5a844460025"
      },
      "source": [
        "time1.split(\":\")"
      ],
      "execution_count": 65,
      "outputs": [
        {
          "output_type": "execute_result",
          "data": {
            "text/plain": [
              "['13', '41', '07']"
            ]
          },
          "metadata": {
            "tags": []
          },
          "execution_count": 65
        }
      ]
    },
    {
      "cell_type": "code",
      "metadata": {
        "colab": {
          "base_uri": "https://localhost:8080/"
        },
        "id": "4yb9h1_2GTld",
        "outputId": "c02f53a2-5e28-4e00-aaec-37b7200062ac"
      },
      "source": [
        "list_a = time1.split(\":\")\r\n",
        "print(list_a)"
      ],
      "execution_count": 44,
      "outputs": [
        {
          "output_type": "stream",
          "text": [
            "['13', '41', '07']\n"
          ],
          "name": "stdout"
        }
      ]
    },
    {
      "cell_type": "code",
      "metadata": {
        "colab": {
          "base_uri": "https://localhost:8080/"
        },
        "id": "Zjl53tSwKmUz",
        "outputId": "9287dc51-12bb-4daf-b124-fd80e32d21ae"
      },
      "source": [
        "int(list_a[0])*60*60+int(list_a[1])*60+int(list_a[2])"
      ],
      "execution_count": 47,
      "outputs": [
        {
          "output_type": "execute_result",
          "data": {
            "text/plain": [
              "49267"
            ]
          },
          "metadata": {
            "tags": []
          },
          "execution_count": 47
        }
      ]
    },
    {
      "cell_type": "code",
      "metadata": {
        "id": "C__EMF-kKzdY"
      },
      "source": [
        "time2 = \"12:53:15\" ##ข้อที่3"
      ],
      "execution_count": 66,
      "outputs": []
    },
    {
      "cell_type": "code",
      "metadata": {
        "colab": {
          "base_uri": "https://localhost:8080/"
        },
        "id": "VnCCJTCVMA_V",
        "outputId": "29df49a0-2410-499e-dbee-de44649aab9f"
      },
      "source": [
        "list_b = time2.split(\":\")\r\n",
        "print(list_b)"
      ],
      "execution_count": 51,
      "outputs": [
        {
          "output_type": "stream",
          "text": [
            "['12', '53', '15']\n"
          ],
          "name": "stdout"
        }
      ]
    },
    {
      "cell_type": "code",
      "metadata": {
        "colab": {
          "base_uri": "https://localhost:8080/"
        },
        "id": "r6bYg4AGMFML",
        "outputId": "d43a44dd-8103-462a-bfd9-b0d3f1e89d3a"
      },
      "source": [
        "int(list_b[0])*60*60+int(list_b[1])*60+int(list_b[2])"
      ],
      "execution_count": 52,
      "outputs": [
        {
          "output_type": "execute_result",
          "data": {
            "text/plain": [
              "46395"
            ]
          },
          "metadata": {
            "tags": []
          },
          "execution_count": 52
        }
      ]
    },
    {
      "cell_type": "code",
      "metadata": {
        "colab": {
          "base_uri": "https://localhost:8080/"
        },
        "id": "Oh1NhA7hRDVU",
        "outputId": "0343cde2-e76e-49af-d6f1-0ddee125838f"
      },
      "source": [
        "time5 = \"00:59:25\" ##ข้อที่4\r\n",
        "list_e = time5.split(\":\")\r\n",
        "print(list_e)"
      ],
      "execution_count": 72,
      "outputs": [
        {
          "output_type": "stream",
          "text": [
            "['00', '59', '25']\n"
          ],
          "name": "stdout"
        }
      ]
    },
    {
      "cell_type": "code",
      "metadata": {
        "colab": {
          "base_uri": "https://localhost:8080/"
        },
        "id": "wDj-WyaNRDC4",
        "outputId": "78eca2d0-9dff-4db9-8a7c-19326e61fde8"
      },
      "source": [
        "int(list_e[0])*60*60+int(list_e[1])*60+int(list_e[2])"
      ],
      "execution_count": 73,
      "outputs": [
        {
          "output_type": "execute_result",
          "data": {
            "text/plain": [
              "3565"
            ]
          },
          "metadata": {
            "tags": []
          },
          "execution_count": 73
        }
      ]
    },
    {
      "cell_type": "code",
      "metadata": {
        "id": "mgadurnyRCzh"
      },
      "source": [
        ""
      ],
      "execution_count": null,
      "outputs": []
    },
    {
      "cell_type": "code",
      "metadata": {
        "colab": {
          "base_uri": "https://localhost:8080/"
        },
        "id": "75Y-XG3ZM2l0",
        "outputId": "44559f39-2812-4405-ca13-827bbd9593fe"
      },
      "source": [
        "time3 = \"11:11:11\" ##ข้อที่5\r\n",
        "list_c = time3.split(\":\")\r\n",
        "print(list_c)"
      ],
      "execution_count": 67,
      "outputs": [
        {
          "output_type": "stream",
          "text": [
            "['11', '11', '11']\n"
          ],
          "name": "stdout"
        }
      ]
    },
    {
      "cell_type": "code",
      "metadata": {
        "colab": {
          "base_uri": "https://localhost:8080/"
        },
        "id": "Or6J6p5uNiUH",
        "outputId": "82586a27-b5dd-4f58-b301-b75a23239a10"
      },
      "source": [
        "int(list_c[0])*60*60+int(list_c[1])*60+int(list_c[2])"
      ],
      "execution_count": 68,
      "outputs": [
        {
          "output_type": "execute_result",
          "data": {
            "text/plain": [
              "40271"
            ]
          },
          "metadata": {
            "tags": []
          },
          "execution_count": 68
        }
      ]
    },
    {
      "cell_type": "code",
      "metadata": {
        "colab": {
          "base_uri": "https://localhost:8080/"
        },
        "id": "JqaJ24o-N4Zo",
        "outputId": "0f34fb57-9ff5-485d-939f-e1d0bc9fc6cb"
      },
      "source": [
        "time4 = \"16:06:09\" ##ข้อที่6\r\n",
        "list_d = time4.split(\":\")\r\n",
        "print(list_d)"
      ],
      "execution_count": 69,
      "outputs": [
        {
          "output_type": "stream",
          "text": [
            "['16', '06', '09']\n"
          ],
          "name": "stdout"
        }
      ]
    },
    {
      "cell_type": "code",
      "metadata": {
        "colab": {
          "base_uri": "https://localhost:8080/"
        },
        "id": "jVSIZZwaPP7l",
        "outputId": "566e39fa-522e-4835-c42e-ddb4699f9a9e"
      },
      "source": [
        "int(list_d[0])*60*60+int(list_d[1])*60+int(list_d[2])"
      ],
      "execution_count": 60,
      "outputs": [
        {
          "output_type": "execute_result",
          "data": {
            "text/plain": [
              "57969"
            ]
          },
          "metadata": {
            "tags": []
          },
          "execution_count": 60
        }
      ]
    }
  ]
}