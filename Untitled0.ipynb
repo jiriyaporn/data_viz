{
  "nbformat": 4,
  "nbformat_minor": 0,
  "metadata": {
    "colab": {
      "name": "Untitled0.ipynb",
      "provenance": [],
      "authorship_tag": "ABX9TyPKUQqrCqlxJzEtM3RPzZhM",
      "include_colab_link": true
    },
    "kernelspec": {
      "name": "python3",
      "display_name": "Python 3"
    }
  },
  "cells": [
    {
      "cell_type": "markdown",
      "metadata": {
        "id": "view-in-github",
        "colab_type": "text"
      },
      "source": [
        "<a href=\"https://colab.research.google.com/github/jiriyaporn/data_viz/blob/main/Untitled0.ipynb\" target=\"_parent\"><img src=\"https://colab.research.google.com/assets/colab-badge.svg\" alt=\"Open In Colab\"/></a>"
      ]
    },
    {
      "cell_type": "code",
      "metadata": {
        "id": "KXQadj-rJ_3K"
      },
      "source": [
        "def time_p(time) :\r\n",
        "  list_time=time.split(':')\r\n",
        "  hr=int(list_time[0])*3600\r\n",
        "  min=int(list_time[1])*60\r\n",
        "  sec=int(list_time[2])\r\n",
        "  T=f'เวลา {time} = {hr+min+sec} วินาที'\r\n",
        "  print(T)"
      ],
      "execution_count": 84,
      "outputs": []
    },
    {
      "cell_type": "code",
      "metadata": {
        "id": "h7-8hnykHL-9"
      },
      "source": [
        "time_p('12:30:15')\r\n",
        "time_p( '13:41:07' )\r\n",
        "time_p( '12:53:15' )\r\n",
        "time_p( '00:59:25' )\r\n",
        "time_p( '11:11:11' )\r\n",
        "time_p( '16:06:09' )"
      ],
      "execution_count": 83,
      "outputs": []
    },
    {
      "cell_type": "code",
      "metadata": {
        "id": "15i6vJEBL0zh"
      },
      "source": [
        "list_timea = ['12:30:15' , '13:41:07' , '12:53:15' , '00:59:25' , '11:11:11' , '16:06:09'] "
      ],
      "execution_count": 82,
      "outputs": []
    },
    {
      "cell_type": "code",
      "metadata": {
        "colab": {
          "base_uri": "https://localhost:8080/"
        },
        "id": "emTknSbhNrm0",
        "outputId": "6e8badcd-1308-4621-b37a-3231ae3bfdbc"
      },
      "source": [
        "for i in list_timea :\r\n",
        "  time_p(i)\r\n",
        "\r\n"
      ],
      "execution_count": 85,
      "outputs": [
        {
          "output_type": "stream",
          "text": [
            "เวลา 12:30:15 = 45015 วินาที\n",
            "เวลา 13:41:07 = 49267 วินาที\n",
            "เวลา 12:53:15 = 46395 วินาที\n",
            "เวลา 00:59:25 = 3565 วินาที\n",
            "เวลา 11:11:11 = 40271 วินาที\n",
            "เวลา 16:06:09 = 57969 วินาที\n"
          ],
          "name": "stdout"
        }
      ]
    },
    {
      "cell_type": "code",
      "metadata": {
        "id": "J4S-fZDrdjLI"
      },
      "source": [
        ""
      ],
      "execution_count": null,
      "outputs": []
    }
  ]
}